{
 "cells": [
  {
   "cell_type": "markdown",
   "metadata": {
    "slideshow": {
     "slide_type": "subslide"
    }
   },
   "source": [
    "# Logistical Regression Classification Model - Medical No Shows\n",
    "\n",
    "This notebook assesses the feature relevance for Medical no shows in a Logistical Regression Classification Model. Data used for the evaluation was processed after consulting a subject matter expert. "
   ]
  },
  {
   "cell_type": "code",
   "execution_count": 24,
   "metadata": {},
   "outputs": [],
   "source": [
    "%matplotlib inline\n",
    "import matplotlib.pyplot as plt\n",
    "from sklearn.model_selection import train_test_split\n",
    "from sklearn.linear_model import LogisticRegression\n",
    "from sklearn.metrics import confusion_matrix, matthews_corrcoef\n",
    "from sklearn.metrics import plot_confusion_matrix\n",
    "from sklearn import metrics\n",
    "import pandas as pd\n",
    "import os"
   ]
  },
  {
   "cell_type": "markdown",
   "metadata": {},
   "source": [
    "### Load and view data"
   ]
  },
  {
   "cell_type": "code",
   "execution_count": 25,
   "metadata": {
    "slideshow": {
     "slide_type": "fragment"
    }
   },
   "outputs": [
    {
     "data": {
      "text/html": [
       "<div>\n",
       "<style scoped>\n",
       "    .dataframe tbody tr th:only-of-type {\n",
       "        vertical-align: middle;\n",
       "    }\n",
       "\n",
       "    .dataframe tbody tr th {\n",
       "        vertical-align: top;\n",
       "    }\n",
       "\n",
       "    .dataframe thead th {\n",
       "        text-align: right;\n",
       "    }\n",
       "</style>\n",
       "<table border=\"1\" class=\"dataframe\">\n",
       "  <thead>\n",
       "    <tr style=\"text-align: right;\">\n",
       "      <th></th>\n",
       "      <th>appointment_id</th>\n",
       "      <th>patient_id</th>\n",
       "      <th>repeat_patient_yn</th>\n",
       "      <th>gender_yn</th>\n",
       "      <th>time_between_sch_appt</th>\n",
       "      <th>same_day_appt_yn</th>\n",
       "      <th>within_week_appt_yn</th>\n",
       "      <th>advanced_appt_yn</th>\n",
       "      <th>monday_yn</th>\n",
       "      <th>tuesday_yn</th>\n",
       "      <th>...</th>\n",
       "      <th>young_adult_yn</th>\n",
       "      <th>adult_yn</th>\n",
       "      <th>senior_yn</th>\n",
       "      <th>welfare_assistance</th>\n",
       "      <th>hypertension</th>\n",
       "      <th>diabetes</th>\n",
       "      <th>alcoholism</th>\n",
       "      <th>handicap_yn</th>\n",
       "      <th>sms_received</th>\n",
       "      <th>no_show_yn</th>\n",
       "    </tr>\n",
       "  </thead>\n",
       "  <tbody>\n",
       "    <tr>\n",
       "      <th>0</th>\n",
       "      <td>5698125</td>\n",
       "      <td>6.790000e+14</td>\n",
       "      <td>1</td>\n",
       "      <td>0</td>\n",
       "      <td>0</td>\n",
       "      <td>1</td>\n",
       "      <td>0</td>\n",
       "      <td>0</td>\n",
       "      <td>1</td>\n",
       "      <td>0</td>\n",
       "      <td>...</td>\n",
       "      <td>0</td>\n",
       "      <td>0</td>\n",
       "      <td>1</td>\n",
       "      <td>0</td>\n",
       "      <td>0</td>\n",
       "      <td>0</td>\n",
       "      <td>0</td>\n",
       "      <td>0</td>\n",
       "      <td>0</td>\n",
       "      <td>0</td>\n",
       "    </tr>\n",
       "    <tr>\n",
       "      <th>1</th>\n",
       "      <td>5698246</td>\n",
       "      <td>5.460000e+13</td>\n",
       "      <td>0</td>\n",
       "      <td>0</td>\n",
       "      <td>0</td>\n",
       "      <td>1</td>\n",
       "      <td>0</td>\n",
       "      <td>0</td>\n",
       "      <td>1</td>\n",
       "      <td>0</td>\n",
       "      <td>...</td>\n",
       "      <td>1</td>\n",
       "      <td>0</td>\n",
       "      <td>0</td>\n",
       "      <td>1</td>\n",
       "      <td>0</td>\n",
       "      <td>0</td>\n",
       "      <td>0</td>\n",
       "      <td>0</td>\n",
       "      <td>0</td>\n",
       "      <td>0</td>\n",
       "    </tr>\n",
       "    <tr>\n",
       "      <th>2</th>\n",
       "      <td>5699393</td>\n",
       "      <td>4.370000e+12</td>\n",
       "      <td>1</td>\n",
       "      <td>0</td>\n",
       "      <td>0</td>\n",
       "      <td>1</td>\n",
       "      <td>0</td>\n",
       "      <td>0</td>\n",
       "      <td>1</td>\n",
       "      <td>0</td>\n",
       "      <td>...</td>\n",
       "      <td>0</td>\n",
       "      <td>1</td>\n",
       "      <td>0</td>\n",
       "      <td>0</td>\n",
       "      <td>1</td>\n",
       "      <td>0</td>\n",
       "      <td>0</td>\n",
       "      <td>0</td>\n",
       "      <td>0</td>\n",
       "      <td>0</td>\n",
       "    </tr>\n",
       "    <tr>\n",
       "      <th>3</th>\n",
       "      <td>5694371</td>\n",
       "      <td>5.450000e+13</td>\n",
       "      <td>0</td>\n",
       "      <td>1</td>\n",
       "      <td>3</td>\n",
       "      <td>0</td>\n",
       "      <td>1</td>\n",
       "      <td>0</td>\n",
       "      <td>1</td>\n",
       "      <td>0</td>\n",
       "      <td>...</td>\n",
       "      <td>0</td>\n",
       "      <td>0</td>\n",
       "      <td>0</td>\n",
       "      <td>0</td>\n",
       "      <td>0</td>\n",
       "      <td>0</td>\n",
       "      <td>0</td>\n",
       "      <td>0</td>\n",
       "      <td>0</td>\n",
       "      <td>1</td>\n",
       "    </tr>\n",
       "    <tr>\n",
       "      <th>4</th>\n",
       "      <td>5698279</td>\n",
       "      <td>6.290000e+13</td>\n",
       "      <td>1</td>\n",
       "      <td>0</td>\n",
       "      <td>0</td>\n",
       "      <td>1</td>\n",
       "      <td>0</td>\n",
       "      <td>0</td>\n",
       "      <td>1</td>\n",
       "      <td>0</td>\n",
       "      <td>...</td>\n",
       "      <td>1</td>\n",
       "      <td>0</td>\n",
       "      <td>0</td>\n",
       "      <td>1</td>\n",
       "      <td>0</td>\n",
       "      <td>0</td>\n",
       "      <td>0</td>\n",
       "      <td>0</td>\n",
       "      <td>0</td>\n",
       "      <td>0</td>\n",
       "    </tr>\n",
       "  </tbody>\n",
       "</table>\n",
       "<p>5 rows × 29 columns</p>\n",
       "</div>"
      ],
      "text/plain": [
       "   appointment_id    patient_id  repeat_patient_yn  gender_yn  \\\n",
       "0         5698125  6.790000e+14                  1          0   \n",
       "1         5698246  5.460000e+13                  0          0   \n",
       "2         5699393  4.370000e+12                  1          0   \n",
       "3         5694371  5.450000e+13                  0          1   \n",
       "4         5698279  6.290000e+13                  1          0   \n",
       "\n",
       "   time_between_sch_appt  same_day_appt_yn  within_week_appt_yn  \\\n",
       "0                      0                 1                    0   \n",
       "1                      0                 1                    0   \n",
       "2                      0                 1                    0   \n",
       "3                      3                 0                    1   \n",
       "4                      0                 1                    0   \n",
       "\n",
       "   advanced_appt_yn  monday_yn  tuesday_yn  ...  young_adult_yn  adult_yn  \\\n",
       "0                 0          1           0  ...               0         0   \n",
       "1                 0          1           0  ...               1         0   \n",
       "2                 0          1           0  ...               0         1   \n",
       "3                 0          1           0  ...               0         0   \n",
       "4                 0          1           0  ...               1         0   \n",
       "\n",
       "   senior_yn  welfare_assistance  hypertension  diabetes  alcoholism  \\\n",
       "0          1                   0             0         0           0   \n",
       "1          0                   1             0         0           0   \n",
       "2          0                   0             1         0           0   \n",
       "3          0                   0             0         0           0   \n",
       "4          0                   1             0         0           0   \n",
       "\n",
       "   handicap_yn  sms_received  no_show_yn  \n",
       "0            0             0           0  \n",
       "1            0             0           0  \n",
       "2            0             0           0  \n",
       "3            0             0           1  \n",
       "4            0             0           0  \n",
       "\n",
       "[5 rows x 29 columns]"
      ]
     },
     "execution_count": 25,
     "metadata": {},
     "output_type": "execute_result"
    }
   ],
   "source": [
    "data = pd.read_csv('../data/cleanData/appointment_dataset_postconsult.csv')\n",
    "data.head()"
   ]
  },
  {
   "cell_type": "markdown",
   "metadata": {},
   "source": [
    "### Drop irrelevant columns"
   ]
  },
  {
   "cell_type": "code",
   "execution_count": 26,
   "metadata": {},
   "outputs": [
    {
     "name": "stdout",
     "output_type": "stream",
     "text": [
      "Shape of the data is: (93899, 26)\n"
     ]
    }
   ],
   "source": [
    "clean_data = data.drop(['appointment_id', 'patient_id','time_between_sch_appt'], axis=1)\n",
    "\n",
    "print(f\"Shape of the data is: {clean_data.shape}\")"
   ]
  },
  {
   "cell_type": "markdown",
   "metadata": {},
   "source": [
    "### Assign X (data for modelling) and y (target)"
   ]
  },
  {
   "cell_type": "code",
   "execution_count": 27,
   "metadata": {
    "nbgrader": {
     "grade": false,
     "grade_id": "cell-86a9e3212f200d21",
     "locked": false,
     "schema_version": 1,
     "solution": true
    },
    "slideshow": {
     "slide_type": "subslide"
    }
   },
   "outputs": [
    {
     "name": "stdout",
     "output_type": "stream",
     "text": [
      "(93899, 25) (93899,)\n"
     ]
    }
   ],
   "source": [
    "X = clean_data.drop('no_show_yn', axis=1)\n",
    "y = clean_data['no_show_yn']\n",
    "print(X.shape, y.shape)"
   ]
  },
  {
   "cell_type": "markdown",
   "metadata": {
    "slideshow": {
     "slide_type": "subslide"
    }
   },
   "source": [
    "### Split our data into training and testing"
   ]
  },
  {
   "cell_type": "code",
   "execution_count": 28,
   "metadata": {
    "nbgrader": {
     "grade": false,
     "grade_id": "cell-711a82d9b32c83ff",
     "locked": false,
     "schema_version": 1,
     "solution": true
    },
    "slideshow": {
     "slide_type": "fragment"
    }
   },
   "outputs": [],
   "source": [
    "X_train, X_test, y_train, y_test = train_test_split(X, y, stratify=y)"
   ]
  },
  {
   "cell_type": "markdown",
   "metadata": {
    "slideshow": {
     "slide_type": "subslide"
    }
   },
   "source": [
    "### Create a Logistic Regression Model"
   ]
  },
  {
   "cell_type": "code",
   "execution_count": 29,
   "metadata": {
    "nbgrader": {
     "grade": false,
     "grade_id": "cell-b83ce1d2dcf17fbd",
     "locked": false,
     "schema_version": 1,
     "solution": true
    },
    "slideshow": {
     "slide_type": "fragment"
    }
   },
   "outputs": [
    {
     "data": {
      "text/plain": [
       "LogisticRegression(C=1.0, class_weight=None, dual=False, fit_intercept=True,\n",
       "                   intercept_scaling=1, l1_ratio=None, max_iter=100,\n",
       "                   multi_class='auto', n_jobs=None, penalty='l2',\n",
       "                   random_state=None, solver='lbfgs', tol=0.0001, verbose=0,\n",
       "                   warm_start=False)"
      ]
     },
     "execution_count": 29,
     "metadata": {},
     "output_type": "execute_result"
    }
   ],
   "source": [
    "classifier = LogisticRegression()\n",
    "\n",
    "classifier"
   ]
  },
  {
   "cell_type": "markdown",
   "metadata": {
    "slideshow": {
     "slide_type": "subslide"
    }
   },
   "source": [
    "### Fit (train) model using the training data"
   ]
  },
  {
   "cell_type": "code",
   "execution_count": 30,
   "metadata": {
    "nbgrader": {
     "grade": false,
     "grade_id": "cell-fa6356c0ca7e4ead",
     "locked": false,
     "schema_version": 1,
     "solution": true
    },
    "slideshow": {
     "slide_type": "fragment"
    }
   },
   "outputs": [
    {
     "data": {
      "text/plain": [
       "LogisticRegression(C=1.0, class_weight=None, dual=False, fit_intercept=True,\n",
       "                   intercept_scaling=1, l1_ratio=None, max_iter=100,\n",
       "                   multi_class='auto', n_jobs=None, penalty='l2',\n",
       "                   random_state=None, solver='lbfgs', tol=0.0001, verbose=0,\n",
       "                   warm_start=False)"
      ]
     },
     "execution_count": 30,
     "metadata": {},
     "output_type": "execute_result"
    }
   ],
   "source": [
    "classifier.fit(X_train, y_train)"
   ]
  },
  {
   "cell_type": "markdown",
   "metadata": {
    "slideshow": {
     "slide_type": "subslide"
    }
   },
   "source": [
    "### Validate the model using the test data"
   ]
  },
  {
   "cell_type": "code",
   "execution_count": 31,
   "metadata": {
    "nbgrader": {
     "grade": false,
     "grade_id": "cell-b00f331fda900e0a",
     "locked": false,
     "schema_version": 1,
     "solution": true
    },
    "slideshow": {
     "slide_type": "fragment"
    }
   },
   "outputs": [
    {
     "name": "stdout",
     "output_type": "stream",
     "text": [
      "Training Data Score: 0.8146228558445985\n",
      "Testing Data Score: 0.8144408945686901\n"
     ]
    }
   ],
   "source": [
    "print(f\"Training Data Score: {classifier.score(X_train, y_train)}\")\n",
    "print(f\"Testing Data Score: {classifier.score(X_test, y_test)}\")"
   ]
  },
  {
   "cell_type": "markdown",
   "metadata": {
    "slideshow": {
     "slide_type": "subslide"
    }
   },
   "source": [
    "### Make predictions"
   ]
  },
  {
   "cell_type": "code",
   "execution_count": 32,
   "metadata": {
    "nbgrader": {
     "grade": false,
     "grade_id": "cell-f97eb3e97245187b",
     "locked": false,
     "schema_version": 1,
     "solution": true
    },
    "slideshow": {
     "slide_type": "fragment"
    }
   },
   "outputs": [
    {
     "name": "stdout",
     "output_type": "stream",
     "text": [
      "First 10 Predictions:   [0 0 0 0 0 0 0 0 0 0]\n",
      "First 10 Actual labels: [0, 0, 1, 0, 1, 0, 0, 0, 0, 1]\n"
     ]
    }
   ],
   "source": [
    "predictions = classifier.predict(X_test)\n",
    "print(f\"First 10 Predictions:   {predictions[:10]}\")\n",
    "print(f\"First 10 Actual labels: {y_test[:10].tolist()}\")"
   ]
  },
  {
   "cell_type": "markdown",
   "metadata": {},
   "source": [
    "### View predictions along with their probabilities of being within each class"
   ]
  },
  {
   "cell_type": "code",
   "execution_count": 33,
   "metadata": {},
   "outputs": [
    {
     "data": {
      "text/html": [
       "<div>\n",
       "<style scoped>\n",
       "    .dataframe tbody tr th:only-of-type {\n",
       "        vertical-align: middle;\n",
       "    }\n",
       "\n",
       "    .dataframe tbody tr th {\n",
       "        vertical-align: top;\n",
       "    }\n",
       "\n",
       "    .dataframe thead th {\n",
       "        text-align: right;\n",
       "    }\n",
       "</style>\n",
       "<table border=\"1\" class=\"dataframe\">\n",
       "  <thead>\n",
       "    <tr style=\"text-align: right;\">\n",
       "      <th></th>\n",
       "      <th>Prediction</th>\n",
       "      <th>Actual</th>\n",
       "      <th>P(Show)</th>\n",
       "      <th>P(Noshow)</th>\n",
       "    </tr>\n",
       "  </thead>\n",
       "  <tbody>\n",
       "    <tr>\n",
       "      <th>0</th>\n",
       "      <td>0</td>\n",
       "      <td>0</td>\n",
       "      <td>0.798522</td>\n",
       "      <td>0.201478</td>\n",
       "    </tr>\n",
       "    <tr>\n",
       "      <th>1</th>\n",
       "      <td>0</td>\n",
       "      <td>0</td>\n",
       "      <td>0.736401</td>\n",
       "      <td>0.263599</td>\n",
       "    </tr>\n",
       "    <tr>\n",
       "      <th>2</th>\n",
       "      <td>0</td>\n",
       "      <td>1</td>\n",
       "      <td>0.680095</td>\n",
       "      <td>0.319905</td>\n",
       "    </tr>\n",
       "    <tr>\n",
       "      <th>3</th>\n",
       "      <td>0</td>\n",
       "      <td>0</td>\n",
       "      <td>0.954603</td>\n",
       "      <td>0.045397</td>\n",
       "    </tr>\n",
       "    <tr>\n",
       "      <th>4</th>\n",
       "      <td>0</td>\n",
       "      <td>1</td>\n",
       "      <td>0.602309</td>\n",
       "      <td>0.397691</td>\n",
       "    </tr>\n",
       "    <tr>\n",
       "      <th>5</th>\n",
       "      <td>0</td>\n",
       "      <td>0</td>\n",
       "      <td>0.952183</td>\n",
       "      <td>0.047817</td>\n",
       "    </tr>\n",
       "    <tr>\n",
       "      <th>6</th>\n",
       "      <td>0</td>\n",
       "      <td>0</td>\n",
       "      <td>0.951825</td>\n",
       "      <td>0.048175</td>\n",
       "    </tr>\n",
       "    <tr>\n",
       "      <th>7</th>\n",
       "      <td>0</td>\n",
       "      <td>0</td>\n",
       "      <td>0.943052</td>\n",
       "      <td>0.056948</td>\n",
       "    </tr>\n",
       "    <tr>\n",
       "      <th>8</th>\n",
       "      <td>0</td>\n",
       "      <td>0</td>\n",
       "      <td>0.959429</td>\n",
       "      <td>0.040571</td>\n",
       "    </tr>\n",
       "    <tr>\n",
       "      <th>9</th>\n",
       "      <td>0</td>\n",
       "      <td>1</td>\n",
       "      <td>0.734053</td>\n",
       "      <td>0.265947</td>\n",
       "    </tr>\n",
       "  </tbody>\n",
       "</table>\n",
       "</div>"
      ],
      "text/plain": [
       "   Prediction  Actual   P(Show)  P(Noshow)\n",
       "0           0       0  0.798522   0.201478\n",
       "1           0       0  0.736401   0.263599\n",
       "2           0       1  0.680095   0.319905\n",
       "3           0       0  0.954603   0.045397\n",
       "4           0       1  0.602309   0.397691\n",
       "5           0       0  0.952183   0.047817\n",
       "6           0       0  0.951825   0.048175\n",
       "7           0       0  0.943052   0.056948\n",
       "8           0       0  0.959429   0.040571\n",
       "9           0       1  0.734053   0.265947"
      ]
     },
     "execution_count": 33,
     "metadata": {},
     "output_type": "execute_result"
    }
   ],
   "source": [
    "probs = classifier.predict_proba(X_test)\n",
    "pred_df = pd.DataFrame({\n",
    "    \"Prediction\": predictions, \n",
    "    \"Actual\": y_test, \n",
    "    \"P(Show)\": [p[0] for p in probs], \n",
    "    \"P(Noshow)\": [p[1] for p in probs]\n",
    "    }).reset_index(drop=True)\n",
    "\n",
    "pred_df.head(10)"
   ]
  },
  {
   "cell_type": "markdown",
   "metadata": {},
   "source": [
    "### Create a Confusion Matrix"
   ]
  },
  {
   "cell_type": "code",
   "execution_count": 34,
   "metadata": {},
   "outputs": [
    {
     "data": {
      "text/plain": [
       "array([[19110,    15],\n",
       "       [ 4341,     9]])"
      ]
     },
     "execution_count": 34,
     "metadata": {},
     "output_type": "execute_result"
    }
   ],
   "source": [
    "confusion_matrix(y_test,predictions)"
   ]
  },
  {
   "cell_type": "markdown",
   "metadata": {},
   "source": [
    "### Label the Confusion Matrix"
   ]
  },
  {
   "cell_type": "code",
   "execution_count": 35,
   "metadata": {},
   "outputs": [
    {
     "name": "stdout",
     "output_type": "stream",
     "text": [
      "True Neg: 19110   False Pos: 15\n",
      "False Neg: 4341  True Pos: 9\n"
     ]
    }
   ],
   "source": [
    "tn, fp, fn, tp = confusion_matrix(y_test, predictions).ravel()\n",
    "print(f\"True Neg: {tn}   False Pos: {fp}\")\n",
    "print(f\"False Neg: {fn}  True Pos: {tp}\")"
   ]
  },
  {
   "cell_type": "markdown",
   "metadata": {},
   "source": [
    "### Plot Confusion Matrix of test data\n",
    "Check out matrix of true positives, true negatives, false positives, and false negatives"
   ]
  },
  {
   "cell_type": "code",
   "execution_count": 36,
   "metadata": {},
   "outputs": [
    {
     "data": {
      "text/plain": [
       "Text(0.5, 1.0, 'Post Consult Dataset Confusion Matrix')"
      ]
     },
     "execution_count": 36,
     "metadata": {},
     "output_type": "execute_result"
    },
    {
     "data": {
      "image/png": "[encoded data removed]",
      "text/plain": [
       "<Figure size 432x288 with 2 Axes>"
      ]
     },
     "metadata": {
      "needs_background": "light"
     },
     "output_type": "display_data"
    }
   ],
   "source": [
    "plot_confusion_matrix(classifier, X_test, y_test, cmap=plt.cm.Blues, values_format='.5g')\n",
    "plt.title('Post Consult Dataset Confusion Matrix')"
   ]
  },
  {
   "cell_type": "code",
   "execution_count": 37,
   "metadata": {},
   "outputs": [
    {
     "name": "stdout",
     "output_type": "stream",
     "text": [
      "Accuracy: 0.8144408945686901\n",
      "Precision: 0.375\n",
      "Recall: 0.0020689655172413794\n",
      "Matthews Correlation Coefficient: 0.015618685254373287\n"
     ]
    }
   ],
   "source": [
    "# evaluate the model using model evaluation metrics\n",
    "print(\"Accuracy:\",metrics.accuracy_score(y_test, predictions))\n",
    "print(\"Precision:\",metrics.precision_score(y_test, predictions))\n",
    "print(\"Recall:\",metrics.recall_score(y_test, predictions))\n",
    "print(\"Matthews Correlation Coefficient:\", matthews_corrcoef(y_test,predictions))"
   ]
  },
  {
   "cell_type": "markdown",
   "metadata": {},
   "source": [
    "### ROC Curve"
   ]
  },
  {
   "cell_type": "code",
   "execution_count": 38,
   "metadata": {},
   "outputs": [
    {
     "data": {
      "image/png": "[encoded data removed]",
      "text/plain": [
       "<Figure size 576x576 with 1 Axes>"
      ]
     },
     "metadata": {
      "needs_background": "light"
     },
     "output_type": "display_data"
    }
   ],
   "source": [
    "plt.figure(figsize=(8,8))\n",
    "predictions_proba = classifier.predict_proba(X_test)[::,1]\n",
    "fpr, tpr, _ = metrics.roc_curve(y_test,  predictions_proba)\n",
    "auc = metrics.roc_auc_score(y_test, predictions_proba)\n",
    "plt.title('Post Consult ROC Curve')\n",
    "plt.plot(fpr, tpr, 'b', label=\"AUC: {:.3f}\".format(auc))\n",
    "plt.legend(loc='lower right')\n",
    "plt.plot([0,1],[0,1],'r--')\n",
    "plt.xlim([0,1])\n",
    "plt.ylim([0,1])\n",
    "plt.ylabel('True Positive Rate')\n",
    "plt.xlabel('False Positive Rate')\n",
    "plt.grid()\n",
    "plt.tight_layout()\n",
    "\n",
    "plt.savefig('ROC_LR.png')\n",
    "\n",
    "plt.show()\n"
   ]
  },
  {
   "cell_type": "markdown",
   "metadata": {},
   "source": [
    "### Find Coefficients of Attributes\n",
    "Which attributes are most strongly correlated with being a noshow? The more positive the coefficient, the more likely of being a noshow, whereas the more negative the coefficient, the less likely to be a noshow."
   ]
  },
  {
   "cell_type": "code",
   "execution_count": 39,
   "metadata": {},
   "outputs": [
    {
     "data": {
      "text/plain": [
       "[(0.7443541104793678, 'advanced_appt_yn'),\n",
       " (0.3418360605457768, 'saturday_yn'),\n",
       " (0.2889310984514839, 'alcoholism'),\n",
       " (0.2660385573945843, 'within_week_appt_yn'),\n",
       " (0.23625862608323203, 'welfare_assistance'),\n",
       " (0.18439135815072846, 'repeat_patient_yn'),\n",
       " (0.1300971949695343, 'diabetes'),\n",
       " (0.11166362333523329, 'gender_yn'),\n",
       " (0.07862262487244655, 'handicap_yn'),\n",
       " (0.06172292470237607, 'young_adult_yn'),\n",
       " (0.03334611621244028, 'child_yn'),\n",
       " (-0.054474385394484896, 'day_after_holiday_yn'),\n",
       " (-0.06989467267072699, 'hypertension'),\n",
       " (-0.15471943875746264, 'monday_yn'),\n",
       " (-0.16254678492658042, 'tuesday_yn'),\n",
       " (-0.19350059145849094, 'friday_yn'),\n",
       " (-0.20451567099984722, 'neighborhood_income_lower_yn'),\n",
       " (-0.23657950775224543, 'adult_yn'),\n",
       " (-0.24894222033731014, 'wednesday_yn'),\n",
       " (-0.2564188599608475, 'neigborhood_income_higher_yn'),\n",
       " (-0.2625949637354673, 'neighborhood_income_middle_yn'),\n",
       " (-0.29202916661831796, 'sms_received'),\n",
       " (-0.3056565197620912, 'thursday_yn'),\n",
       " (-0.5820190278587442, 'senior_yn'),\n",
       " (-1.7339221625701036, 'same_day_appt_yn')]"
      ]
     },
     "execution_count": 39,
     "metadata": {},
     "output_type": "execute_result"
    }
   ],
   "source": [
    "attribute_coef = sorted(zip(classifier.coef_[0], X.columns), reverse=True)\n",
    "attribute_coef"
   ]
  },
  {
   "cell_type": "code",
   "execution_count": 40,
   "metadata": {},
   "outputs": [
    {
     "data": {
      "text/html": [
       "<div>\n",
       "<style scoped>\n",
       "    .dataframe tbody tr th:only-of-type {\n",
       "        vertical-align: middle;\n",
       "    }\n",
       "\n",
       "    .dataframe tbody tr th {\n",
       "        vertical-align: top;\n",
       "    }\n",
       "\n",
       "    .dataframe thead th {\n",
       "        text-align: right;\n",
       "    }\n",
       "</style>\n",
       "<table border=\"1\" class=\"dataframe\">\n",
       "  <thead>\n",
       "    <tr style=\"text-align: right;\">\n",
       "      <th></th>\n",
       "      <th>coefficients</th>\n",
       "      <th>attributes</th>\n",
       "    </tr>\n",
       "  </thead>\n",
       "  <tbody>\n",
       "    <tr>\n",
       "      <th>0</th>\n",
       "      <td>0.744354</td>\n",
       "      <td>advanced_appt_yn</td>\n",
       "    </tr>\n",
       "    <tr>\n",
       "      <th>1</th>\n",
       "      <td>0.341836</td>\n",
       "      <td>saturday_yn</td>\n",
       "    </tr>\n",
       "    <tr>\n",
       "      <th>2</th>\n",
       "      <td>0.288931</td>\n",
       "      <td>alcoholism</td>\n",
       "    </tr>\n",
       "    <tr>\n",
       "      <th>3</th>\n",
       "      <td>0.266039</td>\n",
       "      <td>within_week_appt_yn</td>\n",
       "    </tr>\n",
       "    <tr>\n",
       "      <th>4</th>\n",
       "      <td>0.236259</td>\n",
       "      <td>welfare_assistance</td>\n",
       "    </tr>\n",
       "    <tr>\n",
       "      <th>5</th>\n",
       "      <td>0.184391</td>\n",
       "      <td>repeat_patient_yn</td>\n",
       "    </tr>\n",
       "    <tr>\n",
       "      <th>6</th>\n",
       "      <td>0.130097</td>\n",
       "      <td>diabetes</td>\n",
       "    </tr>\n",
       "    <tr>\n",
       "      <th>7</th>\n",
       "      <td>0.111664</td>\n",
       "      <td>gender_yn</td>\n",
       "    </tr>\n",
       "    <tr>\n",
       "      <th>8</th>\n",
       "      <td>0.078623</td>\n",
       "      <td>handicap_yn</td>\n",
       "    </tr>\n",
       "    <tr>\n",
       "      <th>9</th>\n",
       "      <td>0.061723</td>\n",
       "      <td>young_adult_yn</td>\n",
       "    </tr>\n",
       "    <tr>\n",
       "      <th>10</th>\n",
       "      <td>0.033346</td>\n",
       "      <td>child_yn</td>\n",
       "    </tr>\n",
       "    <tr>\n",
       "      <th>11</th>\n",
       "      <td>-0.054474</td>\n",
       "      <td>day_after_holiday_yn</td>\n",
       "    </tr>\n",
       "    <tr>\n",
       "      <th>12</th>\n",
       "      <td>-0.069895</td>\n",
       "      <td>hypertension</td>\n",
       "    </tr>\n",
       "    <tr>\n",
       "      <th>13</th>\n",
       "      <td>-0.154719</td>\n",
       "      <td>monday_yn</td>\n",
       "    </tr>\n",
       "    <tr>\n",
       "      <th>14</th>\n",
       "      <td>-0.162547</td>\n",
       "      <td>tuesday_yn</td>\n",
       "    </tr>\n",
       "    <tr>\n",
       "      <th>15</th>\n",
       "      <td>-0.193501</td>\n",
       "      <td>friday_yn</td>\n",
       "    </tr>\n",
       "    <tr>\n",
       "      <th>16</th>\n",
       "      <td>-0.204516</td>\n",
       "      <td>neighborhood_income_lower_yn</td>\n",
       "    </tr>\n",
       "    <tr>\n",
       "      <th>17</th>\n",
       "      <td>-0.236580</td>\n",
       "      <td>adult_yn</td>\n",
       "    </tr>\n",
       "    <tr>\n",
       "      <th>18</th>\n",
       "      <td>-0.248942</td>\n",
       "      <td>wednesday_yn</td>\n",
       "    </tr>\n",
       "    <tr>\n",
       "      <th>19</th>\n",
       "      <td>-0.256419</td>\n",
       "      <td>neigborhood_income_higher_yn</td>\n",
       "    </tr>\n",
       "    <tr>\n",
       "      <th>20</th>\n",
       "      <td>-0.262595</td>\n",
       "      <td>neighborhood_income_middle_yn</td>\n",
       "    </tr>\n",
       "    <tr>\n",
       "      <th>21</th>\n",
       "      <td>-0.292029</td>\n",
       "      <td>sms_received</td>\n",
       "    </tr>\n",
       "    <tr>\n",
       "      <th>22</th>\n",
       "      <td>-0.305657</td>\n",
       "      <td>thursday_yn</td>\n",
       "    </tr>\n",
       "    <tr>\n",
       "      <th>23</th>\n",
       "      <td>-0.582019</td>\n",
       "      <td>senior_yn</td>\n",
       "    </tr>\n",
       "    <tr>\n",
       "      <th>24</th>\n",
       "      <td>-1.733922</td>\n",
       "      <td>same_day_appt_yn</td>\n",
       "    </tr>\n",
       "  </tbody>\n",
       "</table>\n",
       "</div>"
      ],
      "text/plain": [
       "    coefficients                     attributes\n",
       "0       0.744354               advanced_appt_yn\n",
       "1       0.341836                    saturday_yn\n",
       "2       0.288931                     alcoholism\n",
       "3       0.266039            within_week_appt_yn\n",
       "4       0.236259             welfare_assistance\n",
       "5       0.184391              repeat_patient_yn\n",
       "6       0.130097                       diabetes\n",
       "7       0.111664                      gender_yn\n",
       "8       0.078623                    handicap_yn\n",
       "9       0.061723                 young_adult_yn\n",
       "10      0.033346                       child_yn\n",
       "11     -0.054474           day_after_holiday_yn\n",
       "12     -0.069895                   hypertension\n",
       "13     -0.154719                      monday_yn\n",
       "14     -0.162547                     tuesday_yn\n",
       "15     -0.193501                      friday_yn\n",
       "16     -0.204516   neighborhood_income_lower_yn\n",
       "17     -0.236580                       adult_yn\n",
       "18     -0.248942                   wednesday_yn\n",
       "19     -0.256419   neigborhood_income_higher_yn\n",
       "20     -0.262595  neighborhood_income_middle_yn\n",
       "21     -0.292029                   sms_received\n",
       "22     -0.305657                    thursday_yn\n",
       "23     -0.582019                      senior_yn\n",
       "24     -1.733922               same_day_appt_yn"
      ]
     },
     "execution_count": 40,
     "metadata": {},
     "output_type": "execute_result"
    }
   ],
   "source": [
    "LRattribute_coef_df = pd.DataFrame(attribute_coef, columns=['coefficients','attributes'])\n",
    "LRattribute_coef_df = LRattribute_coef_df.sort_values(by='coefficients', ascending=False)\n",
    "LRattribute_coef_df"
   ]
  },
  {
   "cell_type": "code",
   "execution_count": 41,
   "metadata": {},
   "outputs": [],
   "source": [
    "#Export to csv \n",
    "LRattribute_coef_df.to_csv('../data/cleanData/modelResults/LRattribute_coef_postconsult.csv', index = False, header=True)"
   ]
  },
  {
   "cell_type": "markdown",
   "metadata": {},
   "source": [
    "### Rank Attribute Importance\n",
    "Rank the attributes is most to least important"
   ]
  },
  {
   "cell_type": "code",
   "execution_count": 42,
   "metadata": {},
   "outputs": [
    {
     "data": {
      "text/html": [
       "<div>\n",
       "<style scoped>\n",
       "    .dataframe tbody tr th:only-of-type {\n",
       "        vertical-align: middle;\n",
       "    }\n",
       "\n",
       "    .dataframe tbody tr th {\n",
       "        vertical-align: top;\n",
       "    }\n",
       "\n",
       "    .dataframe thead th {\n",
       "        text-align: right;\n",
       "    }\n",
       "</style>\n",
       "<table border=\"1\" class=\"dataframe\">\n",
       "  <thead>\n",
       "    <tr style=\"text-align: right;\">\n",
       "      <th></th>\n",
       "      <th>coefficients</th>\n",
       "      <th>attributes</th>\n",
       "    </tr>\n",
       "  </thead>\n",
       "  <tbody>\n",
       "    <tr>\n",
       "      <th>24</th>\n",
       "      <td>-1.733922</td>\n",
       "      <td>same_day_appt_yn</td>\n",
       "    </tr>\n",
       "    <tr>\n",
       "      <th>0</th>\n",
       "      <td>0.744354</td>\n",
       "      <td>advanced_appt_yn</td>\n",
       "    </tr>\n",
       "    <tr>\n",
       "      <th>23</th>\n",
       "      <td>-0.582019</td>\n",
       "      <td>senior_yn</td>\n",
       "    </tr>\n",
       "    <tr>\n",
       "      <th>1</th>\n",
       "      <td>0.341836</td>\n",
       "      <td>saturday_yn</td>\n",
       "    </tr>\n",
       "    <tr>\n",
       "      <th>22</th>\n",
       "      <td>-0.305657</td>\n",
       "      <td>thursday_yn</td>\n",
       "    </tr>\n",
       "    <tr>\n",
       "      <th>21</th>\n",
       "      <td>-0.292029</td>\n",
       "      <td>sms_received</td>\n",
       "    </tr>\n",
       "    <tr>\n",
       "      <th>2</th>\n",
       "      <td>0.288931</td>\n",
       "      <td>alcoholism</td>\n",
       "    </tr>\n",
       "    <tr>\n",
       "      <th>3</th>\n",
       "      <td>0.266039</td>\n",
       "      <td>within_week_appt_yn</td>\n",
       "    </tr>\n",
       "    <tr>\n",
       "      <th>20</th>\n",
       "      <td>-0.262595</td>\n",
       "      <td>neighborhood_income_middle_yn</td>\n",
       "    </tr>\n",
       "    <tr>\n",
       "      <th>19</th>\n",
       "      <td>-0.256419</td>\n",
       "      <td>neigborhood_income_higher_yn</td>\n",
       "    </tr>\n",
       "    <tr>\n",
       "      <th>18</th>\n",
       "      <td>-0.248942</td>\n",
       "      <td>wednesday_yn</td>\n",
       "    </tr>\n",
       "    <tr>\n",
       "      <th>17</th>\n",
       "      <td>-0.236580</td>\n",
       "      <td>adult_yn</td>\n",
       "    </tr>\n",
       "    <tr>\n",
       "      <th>4</th>\n",
       "      <td>0.236259</td>\n",
       "      <td>welfare_assistance</td>\n",
       "    </tr>\n",
       "    <tr>\n",
       "      <th>16</th>\n",
       "      <td>-0.204516</td>\n",
       "      <td>neighborhood_income_lower_yn</td>\n",
       "    </tr>\n",
       "    <tr>\n",
       "      <th>15</th>\n",
       "      <td>-0.193501</td>\n",
       "      <td>friday_yn</td>\n",
       "    </tr>\n",
       "    <tr>\n",
       "      <th>5</th>\n",
       "      <td>0.184391</td>\n",
       "      <td>repeat_patient_yn</td>\n",
       "    </tr>\n",
       "    <tr>\n",
       "      <th>14</th>\n",
       "      <td>-0.162547</td>\n",
       "      <td>tuesday_yn</td>\n",
       "    </tr>\n",
       "    <tr>\n",
       "      <th>13</th>\n",
       "      <td>-0.154719</td>\n",
       "      <td>monday_yn</td>\n",
       "    </tr>\n",
       "    <tr>\n",
       "      <th>6</th>\n",
       "      <td>0.130097</td>\n",
       "      <td>diabetes</td>\n",
       "    </tr>\n",
       "    <tr>\n",
       "      <th>7</th>\n",
       "      <td>0.111664</td>\n",
       "      <td>gender_yn</td>\n",
       "    </tr>\n",
       "    <tr>\n",
       "      <th>8</th>\n",
       "      <td>0.078623</td>\n",
       "      <td>handicap_yn</td>\n",
       "    </tr>\n",
       "    <tr>\n",
       "      <th>12</th>\n",
       "      <td>-0.069895</td>\n",
       "      <td>hypertension</td>\n",
       "    </tr>\n",
       "    <tr>\n",
       "      <th>9</th>\n",
       "      <td>0.061723</td>\n",
       "      <td>young_adult_yn</td>\n",
       "    </tr>\n",
       "    <tr>\n",
       "      <th>11</th>\n",
       "      <td>-0.054474</td>\n",
       "      <td>day_after_holiday_yn</td>\n",
       "    </tr>\n",
       "    <tr>\n",
       "      <th>10</th>\n",
       "      <td>0.033346</td>\n",
       "      <td>child_yn</td>\n",
       "    </tr>\n",
       "  </tbody>\n",
       "</table>\n",
       "</div>"
      ],
      "text/plain": [
       "    coefficients                     attributes\n",
       "24     -1.733922               same_day_appt_yn\n",
       "0       0.744354               advanced_appt_yn\n",
       "23     -0.582019                      senior_yn\n",
       "1       0.341836                    saturday_yn\n",
       "22     -0.305657                    thursday_yn\n",
       "21     -0.292029                   sms_received\n",
       "2       0.288931                     alcoholism\n",
       "3       0.266039            within_week_appt_yn\n",
       "20     -0.262595  neighborhood_income_middle_yn\n",
       "19     -0.256419   neigborhood_income_higher_yn\n",
       "18     -0.248942                   wednesday_yn\n",
       "17     -0.236580                       adult_yn\n",
       "4       0.236259             welfare_assistance\n",
       "16     -0.204516   neighborhood_income_lower_yn\n",
       "15     -0.193501                      friday_yn\n",
       "5       0.184391              repeat_patient_yn\n",
       "14     -0.162547                     tuesday_yn\n",
       "13     -0.154719                      monday_yn\n",
       "6       0.130097                       diabetes\n",
       "7       0.111664                      gender_yn\n",
       "8       0.078623                    handicap_yn\n",
       "12     -0.069895                   hypertension\n",
       "9       0.061723                 young_adult_yn\n",
       "11     -0.054474           day_after_holiday_yn\n",
       "10      0.033346                       child_yn"
      ]
     },
     "execution_count": 42,
     "metadata": {},
     "output_type": "execute_result"
    }
   ],
   "source": [
    "LRattribute_importance_df = LRattribute_coef_df.reindex(LRattribute_coef_df.coefficients.abs()\n",
    "                                                        .sort_values(ascending=False).index)\n",
    "\n",
    "LRattribute_importance_df"
   ]
  },
  {
   "cell_type": "code",
   "execution_count": 43,
   "metadata": {},
   "outputs": [
    {
     "data": {
      "text/html": [
       "<div>\n",
       "<style scoped>\n",
       "    .dataframe tbody tr th:only-of-type {\n",
       "        vertical-align: middle;\n",
       "    }\n",
       "\n",
       "    .dataframe tbody tr th {\n",
       "        vertical-align: top;\n",
       "    }\n",
       "\n",
       "    .dataframe thead th {\n",
       "        text-align: right;\n",
       "    }\n",
       "</style>\n",
       "<table border=\"1\" class=\"dataframe\">\n",
       "  <thead>\n",
       "    <tr style=\"text-align: right;\">\n",
       "      <th></th>\n",
       "      <th>coefficients</th>\n",
       "    </tr>\n",
       "    <tr>\n",
       "      <th>attributes</th>\n",
       "      <th></th>\n",
       "    </tr>\n",
       "  </thead>\n",
       "  <tbody>\n",
       "    <tr>\n",
       "      <th>same_day_appt_yn</th>\n",
       "      <td>-1.733922</td>\n",
       "    </tr>\n",
       "    <tr>\n",
       "      <th>advanced_appt_yn</th>\n",
       "      <td>0.744354</td>\n",
       "    </tr>\n",
       "    <tr>\n",
       "      <th>senior_yn</th>\n",
       "      <td>-0.582019</td>\n",
       "    </tr>\n",
       "    <tr>\n",
       "      <th>saturday_yn</th>\n",
       "      <td>0.341836</td>\n",
       "    </tr>\n",
       "    <tr>\n",
       "      <th>thursday_yn</th>\n",
       "      <td>-0.305657</td>\n",
       "    </tr>\n",
       "    <tr>\n",
       "      <th>sms_received</th>\n",
       "      <td>-0.292029</td>\n",
       "    </tr>\n",
       "    <tr>\n",
       "      <th>alcoholism</th>\n",
       "      <td>0.288931</td>\n",
       "    </tr>\n",
       "    <tr>\n",
       "      <th>within_week_appt_yn</th>\n",
       "      <td>0.266039</td>\n",
       "    </tr>\n",
       "    <tr>\n",
       "      <th>neighborhood_income_middle_yn</th>\n",
       "      <td>-0.262595</td>\n",
       "    </tr>\n",
       "    <tr>\n",
       "      <th>neigborhood_income_higher_yn</th>\n",
       "      <td>-0.256419</td>\n",
       "    </tr>\n",
       "    <tr>\n",
       "      <th>wednesday_yn</th>\n",
       "      <td>-0.248942</td>\n",
       "    </tr>\n",
       "    <tr>\n",
       "      <th>adult_yn</th>\n",
       "      <td>-0.236580</td>\n",
       "    </tr>\n",
       "    <tr>\n",
       "      <th>welfare_assistance</th>\n",
       "      <td>0.236259</td>\n",
       "    </tr>\n",
       "    <tr>\n",
       "      <th>neighborhood_income_lower_yn</th>\n",
       "      <td>-0.204516</td>\n",
       "    </tr>\n",
       "    <tr>\n",
       "      <th>friday_yn</th>\n",
       "      <td>-0.193501</td>\n",
       "    </tr>\n",
       "    <tr>\n",
       "      <th>repeat_patient_yn</th>\n",
       "      <td>0.184391</td>\n",
       "    </tr>\n",
       "    <tr>\n",
       "      <th>tuesday_yn</th>\n",
       "      <td>-0.162547</td>\n",
       "    </tr>\n",
       "    <tr>\n",
       "      <th>monday_yn</th>\n",
       "      <td>-0.154719</td>\n",
       "    </tr>\n",
       "    <tr>\n",
       "      <th>diabetes</th>\n",
       "      <td>0.130097</td>\n",
       "    </tr>\n",
       "    <tr>\n",
       "      <th>gender_yn</th>\n",
       "      <td>0.111664</td>\n",
       "    </tr>\n",
       "    <tr>\n",
       "      <th>handicap_yn</th>\n",
       "      <td>0.078623</td>\n",
       "    </tr>\n",
       "    <tr>\n",
       "      <th>hypertension</th>\n",
       "      <td>-0.069895</td>\n",
       "    </tr>\n",
       "    <tr>\n",
       "      <th>young_adult_yn</th>\n",
       "      <td>0.061723</td>\n",
       "    </tr>\n",
       "    <tr>\n",
       "      <th>day_after_holiday_yn</th>\n",
       "      <td>-0.054474</td>\n",
       "    </tr>\n",
       "    <tr>\n",
       "      <th>child_yn</th>\n",
       "      <td>0.033346</td>\n",
       "    </tr>\n",
       "  </tbody>\n",
       "</table>\n",
       "</div>"
      ],
      "text/plain": [
       "                               coefficients\n",
       "attributes                                 \n",
       "same_day_appt_yn                  -1.733922\n",
       "advanced_appt_yn                   0.744354\n",
       "senior_yn                         -0.582019\n",
       "saturday_yn                        0.341836\n",
       "thursday_yn                       -0.305657\n",
       "sms_received                      -0.292029\n",
       "alcoholism                         0.288931\n",
       "within_week_appt_yn                0.266039\n",
       "neighborhood_income_middle_yn     -0.262595\n",
       "neigborhood_income_higher_yn      -0.256419\n",
       "wednesday_yn                      -0.248942\n",
       "adult_yn                          -0.236580\n",
       "welfare_assistance                 0.236259\n",
       "neighborhood_income_lower_yn      -0.204516\n",
       "friday_yn                         -0.193501\n",
       "repeat_patient_yn                  0.184391\n",
       "tuesday_yn                        -0.162547\n",
       "monday_yn                         -0.154719\n",
       "diabetes                           0.130097\n",
       "gender_yn                          0.111664\n",
       "handicap_yn                        0.078623\n",
       "hypertension                      -0.069895\n",
       "young_adult_yn                     0.061723\n",
       "day_after_holiday_yn              -0.054474\n",
       "child_yn                           0.033346"
      ]
     },
     "execution_count": 43,
     "metadata": {},
     "output_type": "execute_result"
    }
   ],
   "source": [
    "LRattribute_importance_df=LRattribute_importance_df.set_index('attributes')\n",
    "\n",
    "LRattribute_importance_df"
   ]
  },
  {
   "cell_type": "markdown",
   "metadata": {},
   "source": [
    "### Plot Attribute Coefficients"
   ]
  },
  {
   "cell_type": "code",
   "execution_count": 44,
   "metadata": {},
   "outputs": [
    {
     "data": {
      "text/plain": [
       "<Figure size 432x288 with 0 Axes>"
      ]
     },
     "metadata": {},
     "output_type": "display_data"
    },
    {
     "data": {
      "image/png": "[encoded data removed]",
      "text/plain": [
       "<Figure size 720x504 with 1 Axes>"
      ]
     },
     "metadata": {
      "needs_background": "light"
     },
     "output_type": "display_data"
    }
   ],
   "source": [
    "plt.figure()\n",
    "LRattribute_importance_df.plot(kind=\"bar\", legend=False, figsize=(10, 7))\n",
    "plt.title(\"Logistic Regression Model Feature Relevance\")\n",
    "plt.ylabel(\"Coefficient Weight\")\n",
    "plt.xlabel(\"Features\")\n",
    "\n",
    "plt.grid(axis=\"y\", color=\"k\", linestyle=\"--\")\n",
    "plt.tight_layout()\n",
    "plt.savefig(\"feature_relevance_LR.png\")\n",
    "\n",
    "plt.show()"
   ]
  },
  {
   "cell_type": "code",
   "execution_count": 45,
   "metadata": {},
   "outputs": [
    {
     "data": {
      "text/plain": [
       "<Figure size 432x288 with 0 Axes>"
      ]
     },
     "metadata": {},
     "output_type": "display_data"
    },
    {
     "data": {
      "image/png": "[encoded data removed]",
      "text/plain": [
       "<Figure size 720x504 with 1 Axes>"
      ]
     },
     "metadata": {
      "needs_background": "light"
     },
     "output_type": "display_data"
    }
   ],
   "source": [
    "plt.figure()\n",
    "LRattribute_importance_df.plot(kind=\"barh\", legend=False, figsize=(10, 7))\n",
    "plt.title(\"Logistic Regression Model Feature Relevance\")\n",
    "plt.ylabel(\"Coefficient Weight\")\n",
    "plt.xlabel(\"Features\")\n",
    "\n",
    "plt.grid(axis=\"y\", color=\"k\", linestyle=\"--\")\n",
    "plt.tight_layout()\n",
    "plt.savefig(\"feature_relevance_LR2.png\")\n",
    "\n",
    "plt.show()"
   ]
  },
  {
   "cell_type": "code",
   "execution_count": null,
   "metadata": {},
   "outputs": [],
   "source": []
  }
 ],
 "metadata": {
  "kernelspec": {
   "display_name": "Python 3",
   "language": "python",
   "name": "python3"
  },
  "language_info": {
   "codemirror_mode": {
    "name": "ipython",
    "version": 3
   },
   "file_extension": ".py",
   "mimetype": "text/x-python",
   "name": "python",
   "nbconvert_exporter": "python",
   "pygments_lexer": "ipython3",
   "version": "3.7.3"
  },
  "varInspector": {
   "cols": {
    "lenName": 16,
    "lenType": 16,
    "lenVar": 40
   },
   "kernels_config": {
    "python": {
     "delete_cmd_postfix": "",
     "delete_cmd_prefix": "del ",
     "library": "var_list.py",
     "varRefreshCmd": "print(var_dic_list())"
    },
    "r": {
     "delete_cmd_postfix": ") ",
     "delete_cmd_prefix": "rm(",
     "library": "var_list.r",
     "varRefreshCmd": "cat(var_dic_list()) "
    }
   },
   "types_to_exclude": [
    "module",
    "function",
    "builtin_function_or_method",
    "instance",
    "_Feature"
   ],
   "window_display": false
  }
 },
 "nbformat": 4,
 "nbformat_minor": 4
}
