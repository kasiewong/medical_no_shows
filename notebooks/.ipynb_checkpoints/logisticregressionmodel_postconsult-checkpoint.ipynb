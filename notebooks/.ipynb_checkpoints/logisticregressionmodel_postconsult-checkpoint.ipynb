{
 "cells": [
  {
   "cell_type": "markdown",
   "metadata": {
    "slideshow": {
     "slide_type": "subslide"
    }
   },
   "source": [
    "# Logistical Regression Classification Model - Medical No Shows\n",
    "Use a Logistical Regression Classification model to predict the probability of showing up to a doctor's appointment. Find the correlation of a variety of attributes with being a noshow. "
   ]
  },
  {
   "cell_type": "code",
   "execution_count": 29,
   "metadata": {},
   "outputs": [],
   "source": [
    "%matplotlib inline\n",
    "import matplotlib.pyplot as plt\n",
    "from sklearn.model_selection import train_test_split\n",
    "from sklearn.linear_model import LogisticRegression\n",
    "from sklearn.metrics import confusion_matrix\n",
    "from sklearn.metrics import plot_confusion_matrix\n",
    "from sklearn import metrics\n",
    "import pandas as pd\n",
    "import os"
   ]
  },
  {
   "cell_type": "markdown",
   "metadata": {},
   "source": [
    "### Load and view data"
   ]
  },
  {
   "cell_type": "code",
   "execution_count": 2,
   "metadata": {
    "slideshow": {
     "slide_type": "fragment"
    }
   },
   "outputs": [
    {
     "data": {
      "text/html": [
       "<div>\n",
       "<style scoped>\n",
       "    .dataframe tbody tr th:only-of-type {\n",
       "        vertical-align: middle;\n",
       "    }\n",
       "\n",
       "    .dataframe tbody tr th {\n",
       "        vertical-align: top;\n",
       "    }\n",
       "\n",
       "    .dataframe thead th {\n",
       "        text-align: right;\n",
       "    }\n",
       "</style>\n",
       "<table border=\"1\" class=\"dataframe\">\n",
       "  <thead>\n",
       "    <tr style=\"text-align: right;\">\n",
       "      <th></th>\n",
       "      <th>appointment_id</th>\n",
       "      <th>patient_id</th>\n",
       "      <th>repeat_patient_yn</th>\n",
       "      <th>gender_yn</th>\n",
       "      <th>time_between_sch_appt</th>\n",
       "      <th>same_day_appt_yn</th>\n",
       "      <th>within_week_appt_yn</th>\n",
       "      <th>advanced_appt_yn</th>\n",
       "      <th>monday_yn</th>\n",
       "      <th>tuesday_yn</th>\n",
       "      <th>...</th>\n",
       "      <th>young_adult_yn</th>\n",
       "      <th>adult_yn</th>\n",
       "      <th>senior_yn</th>\n",
       "      <th>welfare_assistance</th>\n",
       "      <th>hypertension</th>\n",
       "      <th>diabetes</th>\n",
       "      <th>alcoholism</th>\n",
       "      <th>handicap_yn</th>\n",
       "      <th>sms_received</th>\n",
       "      <th>no_show_yn</th>\n",
       "    </tr>\n",
       "  </thead>\n",
       "  <tbody>\n",
       "    <tr>\n",
       "      <th>0</th>\n",
       "      <td>5698125</td>\n",
       "      <td>6.790000e+14</td>\n",
       "      <td>1</td>\n",
       "      <td>0</td>\n",
       "      <td>0</td>\n",
       "      <td>1</td>\n",
       "      <td>0</td>\n",
       "      <td>0</td>\n",
       "      <td>1</td>\n",
       "      <td>0</td>\n",
       "      <td>...</td>\n",
       "      <td>0</td>\n",
       "      <td>0</td>\n",
       "      <td>1</td>\n",
       "      <td>0</td>\n",
       "      <td>0</td>\n",
       "      <td>0</td>\n",
       "      <td>0</td>\n",
       "      <td>0</td>\n",
       "      <td>0</td>\n",
       "      <td>0</td>\n",
       "    </tr>\n",
       "    <tr>\n",
       "      <th>1</th>\n",
       "      <td>5698246</td>\n",
       "      <td>5.460000e+13</td>\n",
       "      <td>0</td>\n",
       "      <td>0</td>\n",
       "      <td>0</td>\n",
       "      <td>1</td>\n",
       "      <td>0</td>\n",
       "      <td>0</td>\n",
       "      <td>1</td>\n",
       "      <td>0</td>\n",
       "      <td>...</td>\n",
       "      <td>1</td>\n",
       "      <td>0</td>\n",
       "      <td>0</td>\n",
       "      <td>1</td>\n",
       "      <td>0</td>\n",
       "      <td>0</td>\n",
       "      <td>0</td>\n",
       "      <td>0</td>\n",
       "      <td>0</td>\n",
       "      <td>0</td>\n",
       "    </tr>\n",
       "    <tr>\n",
       "      <th>2</th>\n",
       "      <td>5699393</td>\n",
       "      <td>4.370000e+12</td>\n",
       "      <td>1</td>\n",
       "      <td>0</td>\n",
       "      <td>0</td>\n",
       "      <td>1</td>\n",
       "      <td>0</td>\n",
       "      <td>0</td>\n",
       "      <td>1</td>\n",
       "      <td>0</td>\n",
       "      <td>...</td>\n",
       "      <td>0</td>\n",
       "      <td>1</td>\n",
       "      <td>0</td>\n",
       "      <td>0</td>\n",
       "      <td>1</td>\n",
       "      <td>0</td>\n",
       "      <td>0</td>\n",
       "      <td>0</td>\n",
       "      <td>0</td>\n",
       "      <td>0</td>\n",
       "    </tr>\n",
       "    <tr>\n",
       "      <th>3</th>\n",
       "      <td>5694371</td>\n",
       "      <td>5.450000e+13</td>\n",
       "      <td>0</td>\n",
       "      <td>1</td>\n",
       "      <td>3</td>\n",
       "      <td>0</td>\n",
       "      <td>1</td>\n",
       "      <td>0</td>\n",
       "      <td>1</td>\n",
       "      <td>0</td>\n",
       "      <td>...</td>\n",
       "      <td>0</td>\n",
       "      <td>0</td>\n",
       "      <td>0</td>\n",
       "      <td>0</td>\n",
       "      <td>0</td>\n",
       "      <td>0</td>\n",
       "      <td>0</td>\n",
       "      <td>0</td>\n",
       "      <td>0</td>\n",
       "      <td>1</td>\n",
       "    </tr>\n",
       "    <tr>\n",
       "      <th>4</th>\n",
       "      <td>5698279</td>\n",
       "      <td>6.290000e+13</td>\n",
       "      <td>1</td>\n",
       "      <td>0</td>\n",
       "      <td>0</td>\n",
       "      <td>1</td>\n",
       "      <td>0</td>\n",
       "      <td>0</td>\n",
       "      <td>1</td>\n",
       "      <td>0</td>\n",
       "      <td>...</td>\n",
       "      <td>1</td>\n",
       "      <td>0</td>\n",
       "      <td>0</td>\n",
       "      <td>1</td>\n",
       "      <td>0</td>\n",
       "      <td>0</td>\n",
       "      <td>0</td>\n",
       "      <td>0</td>\n",
       "      <td>0</td>\n",
       "      <td>0</td>\n",
       "    </tr>\n",
       "  </tbody>\n",
       "</table>\n",
       "<p>5 rows × 29 columns</p>\n",
       "</div>"
      ],
      "text/plain": [
       "   appointment_id    patient_id  repeat_patient_yn  gender_yn  \\\n",
       "0         5698125  6.790000e+14                  1          0   \n",
       "1         5698246  5.460000e+13                  0          0   \n",
       "2         5699393  4.370000e+12                  1          0   \n",
       "3         5694371  5.450000e+13                  0          1   \n",
       "4         5698279  6.290000e+13                  1          0   \n",
       "\n",
       "   time_between_sch_appt  same_day_appt_yn  within_week_appt_yn  \\\n",
       "0                      0                 1                    0   \n",
       "1                      0                 1                    0   \n",
       "2                      0                 1                    0   \n",
       "3                      3                 0                    1   \n",
       "4                      0                 1                    0   \n",
       "\n",
       "   advanced_appt_yn  monday_yn  tuesday_yn  ...  young_adult_yn  adult_yn  \\\n",
       "0                 0          1           0  ...               0         0   \n",
       "1                 0          1           0  ...               1         0   \n",
       "2                 0          1           0  ...               0         1   \n",
       "3                 0          1           0  ...               0         0   \n",
       "4                 0          1           0  ...               1         0   \n",
       "\n",
       "   senior_yn  welfare_assistance  hypertension  diabetes  alcoholism  \\\n",
       "0          1                   0             0         0           0   \n",
       "1          0                   1             0         0           0   \n",
       "2          0                   0             1         0           0   \n",
       "3          0                   0             0         0           0   \n",
       "4          0                   1             0         0           0   \n",
       "\n",
       "   handicap_yn  sms_received  no_show_yn  \n",
       "0            0             0           0  \n",
       "1            0             0           0  \n",
       "2            0             0           0  \n",
       "3            0             0           1  \n",
       "4            0             0           0  \n",
       "\n",
       "[5 rows x 29 columns]"
      ]
     },
     "execution_count": 2,
     "metadata": {},
     "output_type": "execute_result"
    }
   ],
   "source": [
    "data = pd.read_csv('../data/cleanData/appointment_dataset_postconsult.csv')\n",
    "data.head()"
   ]
  },
  {
   "cell_type": "markdown",
   "metadata": {},
   "source": [
    "### Drop irrelevant columns"
   ]
  },
  {
   "cell_type": "code",
   "execution_count": 3,
   "metadata": {},
   "outputs": [
    {
     "name": "stdout",
     "output_type": "stream",
     "text": [
      "Shape of the data is: (93899, 26)\n"
     ]
    }
   ],
   "source": [
    "clean_data = data.drop(['appointment_id', 'patient_id','time_between_sch_appt'], axis=1)\n",
    "\n",
    "print(f\"Shape of the data is: {clean_data.shape}\")"
   ]
  },
  {
   "cell_type": "markdown",
   "metadata": {},
   "source": [
    "### Assign X (data for modelling) and y (target)"
   ]
  },
  {
   "cell_type": "code",
   "execution_count": 4,
   "metadata": {
    "nbgrader": {
     "grade": false,
     "grade_id": "cell-86a9e3212f200d21",
     "locked": false,
     "schema_version": 1,
     "solution": true
    },
    "slideshow": {
     "slide_type": "subslide"
    }
   },
   "outputs": [
    {
     "name": "stdout",
     "output_type": "stream",
     "text": [
      "(93899, 25) (93899,)\n"
     ]
    }
   ],
   "source": [
    "X = clean_data.drop('no_show_yn', axis=1)\n",
    "y = clean_data['no_show_yn']\n",
    "print(X.shape, y.shape)"
   ]
  },
  {
   "cell_type": "markdown",
   "metadata": {
    "slideshow": {
     "slide_type": "subslide"
    }
   },
   "source": [
    "### Split our data into training and testing"
   ]
  },
  {
   "cell_type": "code",
   "execution_count": 5,
   "metadata": {
    "nbgrader": {
     "grade": false,
     "grade_id": "cell-711a82d9b32c83ff",
     "locked": false,
     "schema_version": 1,
     "solution": true
    },
    "slideshow": {
     "slide_type": "fragment"
    }
   },
   "outputs": [],
   "source": [
    "X_train, X_test, y_train, y_test = train_test_split(X, y, stratify=y)"
   ]
  },
  {
   "cell_type": "markdown",
   "metadata": {
    "slideshow": {
     "slide_type": "subslide"
    }
   },
   "source": [
    "### Create a Logistic Regression Model"
   ]
  },
  {
   "cell_type": "code",
   "execution_count": 11,
   "metadata": {
    "nbgrader": {
     "grade": false,
     "grade_id": "cell-b83ce1d2dcf17fbd",
     "locked": false,
     "schema_version": 1,
     "solution": true
    },
    "slideshow": {
     "slide_type": "fragment"
    }
   },
   "outputs": [
    {
     "data": {
      "text/plain": [
       "LogisticRegression(C=0.01, class_weight=None, dual=False, fit_intercept=True,\n",
       "                   intercept_scaling=1, l1_ratio=None, max_iter=100,\n",
       "                   multi_class='auto', n_jobs=None, penalty='l2',\n",
       "                   random_state=0, solver='lbfgs', tol=0.0001, verbose=0,\n",
       "                   warm_start=False)"
      ]
     },
     "execution_count": 11,
     "metadata": {},
     "output_type": "execute_result"
    }
   ],
   "source": [
    "#Use params from gridsearchCV best param results\n",
    "classifier = LogisticRegression(penalty='l2',C = 0.01, random_state=0)\n",
    "\n",
    "classifier"
   ]
  },
  {
   "cell_type": "markdown",
   "metadata": {
    "slideshow": {
     "slide_type": "subslide"
    }
   },
   "source": [
    "### Fit (train) model using the training data"
   ]
  },
  {
   "cell_type": "code",
   "execution_count": 12,
   "metadata": {
    "nbgrader": {
     "grade": false,
     "grade_id": "cell-fa6356c0ca7e4ead",
     "locked": false,
     "schema_version": 1,
     "solution": true
    },
    "slideshow": {
     "slide_type": "fragment"
    }
   },
   "outputs": [
    {
     "data": {
      "text/plain": [
       "LogisticRegression(C=0.01, class_weight=None, dual=False, fit_intercept=True,\n",
       "                   intercept_scaling=1, l1_ratio=None, max_iter=100,\n",
       "                   multi_class='auto', n_jobs=None, penalty='l2',\n",
       "                   random_state=0, solver='lbfgs', tol=0.0001, verbose=0,\n",
       "                   warm_start=False)"
      ]
     },
     "execution_count": 12,
     "metadata": {},
     "output_type": "execute_result"
    }
   ],
   "source": [
    "classifier.fit(X_train, y_train)"
   ]
  },
  {
   "cell_type": "markdown",
   "metadata": {
    "slideshow": {
     "slide_type": "subslide"
    }
   },
   "source": [
    "### Validate the model using the test data"
   ]
  },
  {
   "cell_type": "code",
   "execution_count": 25,
   "metadata": {
    "nbgrader": {
     "grade": false,
     "grade_id": "cell-b00f331fda900e0a",
     "locked": false,
     "schema_version": 1,
     "solution": true
    },
    "slideshow": {
     "slide_type": "fragment"
    }
   },
   "outputs": [
    {
     "name": "stdout",
     "output_type": "stream",
     "text": [
      "Training Data Score: 0.8147506531864137\n",
      "Testing Data Score: 0.8146964856230032\n"
     ]
    }
   ],
   "source": [
    "print(f\"Training Data Score: {classifier.score(X_train, y_train)}\")\n",
    "print(f\"Testing Data Score: {classifier.score(X_test, y_test)}\")"
   ]
  },
  {
   "cell_type": "markdown",
   "metadata": {
    "slideshow": {
     "slide_type": "subslide"
    }
   },
   "source": [
    "### Make predictions"
   ]
  },
  {
   "cell_type": "code",
   "execution_count": 14,
   "metadata": {
    "nbgrader": {
     "grade": false,
     "grade_id": "cell-f97eb3e97245187b",
     "locked": false,
     "schema_version": 1,
     "solution": true
    },
    "slideshow": {
     "slide_type": "fragment"
    }
   },
   "outputs": [
    {
     "name": "stdout",
     "output_type": "stream",
     "text": [
      "First 10 Predictions:   [0 0 0 0 0 0 0 0 0 0]\n",
      "First 10 Actual labels: [0, 0, 0, 0, 1, 0, 1, 0, 1, 0]\n"
     ]
    }
   ],
   "source": [
    "predictions = classifier.predict(X_test)\n",
    "print(f\"First 10 Predictions:   {predictions[:10]}\")\n",
    "print(f\"First 10 Actual labels: {y_test[:10].tolist()}\")"
   ]
  },
  {
   "cell_type": "markdown",
   "metadata": {},
   "source": [
    "### View predictions along with their probabilities of being within each class"
   ]
  },
  {
   "cell_type": "code",
   "execution_count": 15,
   "metadata": {},
   "outputs": [
    {
     "data": {
      "text/html": [
       "<div>\n",
       "<style scoped>\n",
       "    .dataframe tbody tr th:only-of-type {\n",
       "        vertical-align: middle;\n",
       "    }\n",
       "\n",
       "    .dataframe tbody tr th {\n",
       "        vertical-align: top;\n",
       "    }\n",
       "\n",
       "    .dataframe thead th {\n",
       "        text-align: right;\n",
       "    }\n",
       "</style>\n",
       "<table border=\"1\" class=\"dataframe\">\n",
       "  <thead>\n",
       "    <tr style=\"text-align: right;\">\n",
       "      <th></th>\n",
       "      <th>Prediction</th>\n",
       "      <th>Actual</th>\n",
       "      <th>P(Show)</th>\n",
       "      <th>P(Noshow)</th>\n",
       "    </tr>\n",
       "  </thead>\n",
       "  <tbody>\n",
       "    <tr>\n",
       "      <th>0</th>\n",
       "      <td>0</td>\n",
       "      <td>0</td>\n",
       "      <td>0.965881</td>\n",
       "      <td>0.034119</td>\n",
       "    </tr>\n",
       "    <tr>\n",
       "      <th>1</th>\n",
       "      <td>0</td>\n",
       "      <td>0</td>\n",
       "      <td>0.584877</td>\n",
       "      <td>0.415123</td>\n",
       "    </tr>\n",
       "    <tr>\n",
       "      <th>2</th>\n",
       "      <td>0</td>\n",
       "      <td>0</td>\n",
       "      <td>0.959150</td>\n",
       "      <td>0.040850</td>\n",
       "    </tr>\n",
       "    <tr>\n",
       "      <th>3</th>\n",
       "      <td>0</td>\n",
       "      <td>0</td>\n",
       "      <td>0.949129</td>\n",
       "      <td>0.050871</td>\n",
       "    </tr>\n",
       "    <tr>\n",
       "      <th>4</th>\n",
       "      <td>0</td>\n",
       "      <td>1</td>\n",
       "      <td>0.566757</td>\n",
       "      <td>0.433243</td>\n",
       "    </tr>\n",
       "    <tr>\n",
       "      <th>5</th>\n",
       "      <td>0</td>\n",
       "      <td>0</td>\n",
       "      <td>0.649965</td>\n",
       "      <td>0.350035</td>\n",
       "    </tr>\n",
       "    <tr>\n",
       "      <th>6</th>\n",
       "      <td>0</td>\n",
       "      <td>1</td>\n",
       "      <td>0.702902</td>\n",
       "      <td>0.297098</td>\n",
       "    </tr>\n",
       "    <tr>\n",
       "      <th>7</th>\n",
       "      <td>0</td>\n",
       "      <td>0</td>\n",
       "      <td>0.669993</td>\n",
       "      <td>0.330007</td>\n",
       "    </tr>\n",
       "    <tr>\n",
       "      <th>8</th>\n",
       "      <td>0</td>\n",
       "      <td>1</td>\n",
       "      <td>0.723388</td>\n",
       "      <td>0.276612</td>\n",
       "    </tr>\n",
       "    <tr>\n",
       "      <th>9</th>\n",
       "      <td>0</td>\n",
       "      <td>0</td>\n",
       "      <td>0.800713</td>\n",
       "      <td>0.199287</td>\n",
       "    </tr>\n",
       "  </tbody>\n",
       "</table>\n",
       "</div>"
      ],
      "text/plain": [
       "   Prediction  Actual   P(Show)  P(Noshow)\n",
       "0           0       0  0.965881   0.034119\n",
       "1           0       0  0.584877   0.415123\n",
       "2           0       0  0.959150   0.040850\n",
       "3           0       0  0.949129   0.050871\n",
       "4           0       1  0.566757   0.433243\n",
       "5           0       0  0.649965   0.350035\n",
       "6           0       1  0.702902   0.297098\n",
       "7           0       0  0.669993   0.330007\n",
       "8           0       1  0.723388   0.276612\n",
       "9           0       0  0.800713   0.199287"
      ]
     },
     "execution_count": 15,
     "metadata": {},
     "output_type": "execute_result"
    }
   ],
   "source": [
    "probs = classifier.predict_proba(X_test)\n",
    "pred_df = pd.DataFrame({\n",
    "    \"Prediction\": predictions, \n",
    "    \"Actual\": y_test, \n",
    "    \"P(Show)\": [p[0] for p in probs], \n",
    "    \"P(Noshow)\": [p[1] for p in probs]\n",
    "    }).reset_index(drop=True)\n",
    "\n",
    "pred_df.head(10)"
   ]
  },
  {
   "cell_type": "markdown",
   "metadata": {},
   "source": [
    "### Create a Confusion Matrix"
   ]
  },
  {
   "cell_type": "code",
   "execution_count": 16,
   "metadata": {},
   "outputs": [
    {
     "data": {
      "text/plain": [
       "array([[19125,     0],\n",
       "       [ 4350,     0]])"
      ]
     },
     "execution_count": 16,
     "metadata": {},
     "output_type": "execute_result"
    }
   ],
   "source": [
    "confusion_matrix(y_test,predictions)"
   ]
  },
  {
   "cell_type": "markdown",
   "metadata": {},
   "source": [
    "### Label the Confusion Matrix"
   ]
  },
  {
   "cell_type": "code",
   "execution_count": 17,
   "metadata": {},
   "outputs": [
    {
     "name": "stdout",
     "output_type": "stream",
     "text": [
      "True Neg: 19125   False Pos: 0\n",
      "False Neg: 4350  True Pos: 0\n"
     ]
    }
   ],
   "source": [
    "tn, fp, fn, tp = confusion_matrix(y_test, predictions).ravel()\n",
    "print(f\"True Neg: {tn}   False Pos: {fp}\")\n",
    "print(f\"False Neg: {fn}  True Pos: {tp}\")"
   ]
  },
  {
   "cell_type": "markdown",
   "metadata": {},
   "source": [
    "### Plot Confusion Matrix of test data\n",
    "Check out matrix of true positives, true negatives, false positives, and false negatives"
   ]
  },
  {
   "cell_type": "code",
   "execution_count": 18,
   "metadata": {},
   "outputs": [
    {
     "data": {
      "text/plain": [
       "<sklearn.metrics._plot.confusion_matrix.ConfusionMatrixDisplay at 0x12f420710>"
      ]
     },
     "execution_count": 18,
     "metadata": {},
     "output_type": "execute_result"
    },
    {
     "data": {
      "image/png": "[encoded data removed]",
      "text/plain": [
       "<Figure size 432x288 with 2 Axes>"
      ]
     },
     "metadata": {
      "needs_background": "light"
     },
     "output_type": "display_data"
    }
   ],
   "source": [
    "plot_confusion_matrix(classifier, X_test, y_test, cmap=plt.cm.Blues, values_format='.5g')"
   ]
  },
  {
   "cell_type": "code",
   "execution_count": 33,
   "metadata": {},
   "outputs": [
    {
     "name": "stdout",
     "output_type": "stream",
     "text": [
      "Accuracy: 0.8146964856230032\n",
      "Precision: 0.0\n",
      "Recall: 0.0\n"
     ]
    }
   ],
   "source": [
    "# evaluate the model using model evaluation metrics\n",
    "print(\"Accuracy:\",metrics.accuracy_score(y_test, predictions))\n",
    "print(\"Precision:\",metrics.precision_score(y_test, predictions))\n",
    "print(\"Recall:\",metrics.recall_score(y_test, predictions))"
   ]
  },
  {
   "cell_type": "markdown",
   "metadata": {},
   "source": [
    "### Find Coefficients of Attributes\n",
    "Which attributes are most strongly correlated with being a noshow? The more positive the coefficient, the more likely of being a noshow, whereas the more negative the coefficient, the less likely to be a noshow."
   ]
  },
  {
   "cell_type": "code",
   "execution_count": 19,
   "metadata": {},
   "outputs": [
    {
     "data": {
      "text/plain": [
       "[(0.9145021102250374, 'advanced_appt_yn'),\n",
       " (0.4664319756659315, 'within_week_appt_yn'),\n",
       " (0.23765878982719454, 'young_adult_yn'),\n",
       " (0.17389608467554205, 'repeat_patient_yn'),\n",
       " (0.17174899253341636, 'child_yn'),\n",
       " (0.1642412833024159, 'alcoholism'),\n",
       " (0.16223835892589902, 'welfare_assistance'),\n",
       " (0.10120645212020221, 'diabetes'),\n",
       " (0.0932658057521476, 'gender_yn'),\n",
       " (0.05675808430335791, 'handicap_yn'),\n",
       " (0.046913420035594476, 'monday_yn'),\n",
       " (0.0457246304752081, 'neighborhood_income_lower_yn'),\n",
       " (0.03381311886445048, 'tuesday_yn'),\n",
       " (0.011678334668026149, 'friday_yn'),\n",
       " (0.0035177528815364643, 'saturday_yn'),\n",
       " (-0.014720851648370902, 'wednesday_yn'),\n",
       " (-0.018062824629322474, 'neighborhood_income_middle_yn'),\n",
       " (-0.027435419001453857, 'neigborhood_income_higher_yn'),\n",
       " (-0.04980486657416982, 'day_after_holiday_yn'),\n",
       " (-0.05595329010627588, 'adult_yn'),\n",
       " (-0.06572979783301465, 'hypertension'),\n",
       " (-0.08097538795680743, 'thursday_yn'),\n",
       " (-0.2570018308261116, 'sms_received'),\n",
       " (-0.3532281054099028, 'senior_yn'),\n",
       " (-1.380707699046535, 'same_day_appt_yn')]"
      ]
     },
     "execution_count": 19,
     "metadata": {},
     "output_type": "execute_result"
    }
   ],
   "source": [
    "attribute_coef = sorted(zip(classifier.coef_[0], X.columns), reverse=True)\n",
    "attribute_coef"
   ]
  },
  {
   "cell_type": "code",
   "execution_count": 20,
   "metadata": {},
   "outputs": [
    {
     "data": {
      "text/html": [
       "<div>\n",
       "<style scoped>\n",
       "    .dataframe tbody tr th:only-of-type {\n",
       "        vertical-align: middle;\n",
       "    }\n",
       "\n",
       "    .dataframe tbody tr th {\n",
       "        vertical-align: top;\n",
       "    }\n",
       "\n",
       "    .dataframe thead th {\n",
       "        text-align: right;\n",
       "    }\n",
       "</style>\n",
       "<table border=\"1\" class=\"dataframe\">\n",
       "  <thead>\n",
       "    <tr style=\"text-align: right;\">\n",
       "      <th></th>\n",
       "      <th>coefficients</th>\n",
       "      <th>attributes</th>\n",
       "    </tr>\n",
       "  </thead>\n",
       "  <tbody>\n",
       "    <tr>\n",
       "      <th>0</th>\n",
       "      <td>0.914502</td>\n",
       "      <td>advanced_appt_yn</td>\n",
       "    </tr>\n",
       "    <tr>\n",
       "      <th>1</th>\n",
       "      <td>0.466432</td>\n",
       "      <td>within_week_appt_yn</td>\n",
       "    </tr>\n",
       "    <tr>\n",
       "      <th>2</th>\n",
       "      <td>0.237659</td>\n",
       "      <td>young_adult_yn</td>\n",
       "    </tr>\n",
       "    <tr>\n",
       "      <th>3</th>\n",
       "      <td>0.173896</td>\n",
       "      <td>repeat_patient_yn</td>\n",
       "    </tr>\n",
       "    <tr>\n",
       "      <th>4</th>\n",
       "      <td>0.171749</td>\n",
       "      <td>child_yn</td>\n",
       "    </tr>\n",
       "    <tr>\n",
       "      <th>5</th>\n",
       "      <td>0.164241</td>\n",
       "      <td>alcoholism</td>\n",
       "    </tr>\n",
       "    <tr>\n",
       "      <th>6</th>\n",
       "      <td>0.162238</td>\n",
       "      <td>welfare_assistance</td>\n",
       "    </tr>\n",
       "    <tr>\n",
       "      <th>7</th>\n",
       "      <td>0.101206</td>\n",
       "      <td>diabetes</td>\n",
       "    </tr>\n",
       "    <tr>\n",
       "      <th>8</th>\n",
       "      <td>0.093266</td>\n",
       "      <td>gender_yn</td>\n",
       "    </tr>\n",
       "    <tr>\n",
       "      <th>9</th>\n",
       "      <td>0.056758</td>\n",
       "      <td>handicap_yn</td>\n",
       "    </tr>\n",
       "    <tr>\n",
       "      <th>10</th>\n",
       "      <td>0.046913</td>\n",
       "      <td>monday_yn</td>\n",
       "    </tr>\n",
       "    <tr>\n",
       "      <th>11</th>\n",
       "      <td>0.045725</td>\n",
       "      <td>neighborhood_income_lower_yn</td>\n",
       "    </tr>\n",
       "    <tr>\n",
       "      <th>12</th>\n",
       "      <td>0.033813</td>\n",
       "      <td>tuesday_yn</td>\n",
       "    </tr>\n",
       "    <tr>\n",
       "      <th>13</th>\n",
       "      <td>0.011678</td>\n",
       "      <td>friday_yn</td>\n",
       "    </tr>\n",
       "    <tr>\n",
       "      <th>14</th>\n",
       "      <td>0.003518</td>\n",
       "      <td>saturday_yn</td>\n",
       "    </tr>\n",
       "    <tr>\n",
       "      <th>15</th>\n",
       "      <td>-0.014721</td>\n",
       "      <td>wednesday_yn</td>\n",
       "    </tr>\n",
       "    <tr>\n",
       "      <th>16</th>\n",
       "      <td>-0.018063</td>\n",
       "      <td>neighborhood_income_middle_yn</td>\n",
       "    </tr>\n",
       "    <tr>\n",
       "      <th>17</th>\n",
       "      <td>-0.027435</td>\n",
       "      <td>neigborhood_income_higher_yn</td>\n",
       "    </tr>\n",
       "    <tr>\n",
       "      <th>18</th>\n",
       "      <td>-0.049805</td>\n",
       "      <td>day_after_holiday_yn</td>\n",
       "    </tr>\n",
       "    <tr>\n",
       "      <th>19</th>\n",
       "      <td>-0.055953</td>\n",
       "      <td>adult_yn</td>\n",
       "    </tr>\n",
       "    <tr>\n",
       "      <th>20</th>\n",
       "      <td>-0.065730</td>\n",
       "      <td>hypertension</td>\n",
       "    </tr>\n",
       "    <tr>\n",
       "      <th>21</th>\n",
       "      <td>-0.080975</td>\n",
       "      <td>thursday_yn</td>\n",
       "    </tr>\n",
       "    <tr>\n",
       "      <th>22</th>\n",
       "      <td>-0.257002</td>\n",
       "      <td>sms_received</td>\n",
       "    </tr>\n",
       "    <tr>\n",
       "      <th>23</th>\n",
       "      <td>-0.353228</td>\n",
       "      <td>senior_yn</td>\n",
       "    </tr>\n",
       "    <tr>\n",
       "      <th>24</th>\n",
       "      <td>-1.380708</td>\n",
       "      <td>same_day_appt_yn</td>\n",
       "    </tr>\n",
       "  </tbody>\n",
       "</table>\n",
       "</div>"
      ],
      "text/plain": [
       "    coefficients                     attributes\n",
       "0       0.914502               advanced_appt_yn\n",
       "1       0.466432            within_week_appt_yn\n",
       "2       0.237659                 young_adult_yn\n",
       "3       0.173896              repeat_patient_yn\n",
       "4       0.171749                       child_yn\n",
       "5       0.164241                     alcoholism\n",
       "6       0.162238             welfare_assistance\n",
       "7       0.101206                       diabetes\n",
       "8       0.093266                      gender_yn\n",
       "9       0.056758                    handicap_yn\n",
       "10      0.046913                      monday_yn\n",
       "11      0.045725   neighborhood_income_lower_yn\n",
       "12      0.033813                     tuesday_yn\n",
       "13      0.011678                      friday_yn\n",
       "14      0.003518                    saturday_yn\n",
       "15     -0.014721                   wednesday_yn\n",
       "16     -0.018063  neighborhood_income_middle_yn\n",
       "17     -0.027435   neigborhood_income_higher_yn\n",
       "18     -0.049805           day_after_holiday_yn\n",
       "19     -0.055953                       adult_yn\n",
       "20     -0.065730                   hypertension\n",
       "21     -0.080975                    thursday_yn\n",
       "22     -0.257002                   sms_received\n",
       "23     -0.353228                      senior_yn\n",
       "24     -1.380708               same_day_appt_yn"
      ]
     },
     "execution_count": 20,
     "metadata": {},
     "output_type": "execute_result"
    }
   ],
   "source": [
    "LRattribute_coef_df = pd.DataFrame(attribute_coef, columns=['coefficients','attributes'])\n",
    "LRattribute_coef_df = LRattribute_coef_df.sort_values(by='coefficients', ascending=False)\n",
    "LRattribute_coef_df"
   ]
  },
  {
   "cell_type": "code",
   "execution_count": 21,
   "metadata": {},
   "outputs": [],
   "source": [
    "#Export to csv \n",
    "LRattribute_coef_df.to_csv('../data/cleanData/modelResults/LRattribute_coef_postconsult.csv', index = False, header=True)"
   ]
  },
  {
   "cell_type": "markdown",
   "metadata": {},
   "source": [
    "### Rank Attribute Importance\n",
    "Rank the attributes is most to least important"
   ]
  },
  {
   "cell_type": "code",
   "execution_count": 22,
   "metadata": {},
   "outputs": [
    {
     "data": {
      "text/html": [
       "<div>\n",
       "<style scoped>\n",
       "    .dataframe tbody tr th:only-of-type {\n",
       "        vertical-align: middle;\n",
       "    }\n",
       "\n",
       "    .dataframe tbody tr th {\n",
       "        vertical-align: top;\n",
       "    }\n",
       "\n",
       "    .dataframe thead th {\n",
       "        text-align: right;\n",
       "    }\n",
       "</style>\n",
       "<table border=\"1\" class=\"dataframe\">\n",
       "  <thead>\n",
       "    <tr style=\"text-align: right;\">\n",
       "      <th></th>\n",
       "      <th>coefficients</th>\n",
       "      <th>attributes</th>\n",
       "    </tr>\n",
       "  </thead>\n",
       "  <tbody>\n",
       "    <tr>\n",
       "      <th>24</th>\n",
       "      <td>-1.380708</td>\n",
       "      <td>same_day_appt_yn</td>\n",
       "    </tr>\n",
       "    <tr>\n",
       "      <th>0</th>\n",
       "      <td>0.914502</td>\n",
       "      <td>advanced_appt_yn</td>\n",
       "    </tr>\n",
       "    <tr>\n",
       "      <th>1</th>\n",
       "      <td>0.466432</td>\n",
       "      <td>within_week_appt_yn</td>\n",
       "    </tr>\n",
       "    <tr>\n",
       "      <th>23</th>\n",
       "      <td>-0.353228</td>\n",
       "      <td>senior_yn</td>\n",
       "    </tr>\n",
       "    <tr>\n",
       "      <th>22</th>\n",
       "      <td>-0.257002</td>\n",
       "      <td>sms_received</td>\n",
       "    </tr>\n",
       "    <tr>\n",
       "      <th>2</th>\n",
       "      <td>0.237659</td>\n",
       "      <td>young_adult_yn</td>\n",
       "    </tr>\n",
       "    <tr>\n",
       "      <th>3</th>\n",
       "      <td>0.173896</td>\n",
       "      <td>repeat_patient_yn</td>\n",
       "    </tr>\n",
       "    <tr>\n",
       "      <th>4</th>\n",
       "      <td>0.171749</td>\n",
       "      <td>child_yn</td>\n",
       "    </tr>\n",
       "    <tr>\n",
       "      <th>5</th>\n",
       "      <td>0.164241</td>\n",
       "      <td>alcoholism</td>\n",
       "    </tr>\n",
       "    <tr>\n",
       "      <th>6</th>\n",
       "      <td>0.162238</td>\n",
       "      <td>welfare_assistance</td>\n",
       "    </tr>\n",
       "    <tr>\n",
       "      <th>7</th>\n",
       "      <td>0.101206</td>\n",
       "      <td>diabetes</td>\n",
       "    </tr>\n",
       "    <tr>\n",
       "      <th>8</th>\n",
       "      <td>0.093266</td>\n",
       "      <td>gender_yn</td>\n",
       "    </tr>\n",
       "    <tr>\n",
       "      <th>21</th>\n",
       "      <td>-0.080975</td>\n",
       "      <td>thursday_yn</td>\n",
       "    </tr>\n",
       "    <tr>\n",
       "      <th>20</th>\n",
       "      <td>-0.065730</td>\n",
       "      <td>hypertension</td>\n",
       "    </tr>\n",
       "    <tr>\n",
       "      <th>9</th>\n",
       "      <td>0.056758</td>\n",
       "      <td>handicap_yn</td>\n",
       "    </tr>\n",
       "    <tr>\n",
       "      <th>19</th>\n",
       "      <td>-0.055953</td>\n",
       "      <td>adult_yn</td>\n",
       "    </tr>\n",
       "    <tr>\n",
       "      <th>18</th>\n",
       "      <td>-0.049805</td>\n",
       "      <td>day_after_holiday_yn</td>\n",
       "    </tr>\n",
       "    <tr>\n",
       "      <th>10</th>\n",
       "      <td>0.046913</td>\n",
       "      <td>monday_yn</td>\n",
       "    </tr>\n",
       "    <tr>\n",
       "      <th>11</th>\n",
       "      <td>0.045725</td>\n",
       "      <td>neighborhood_income_lower_yn</td>\n",
       "    </tr>\n",
       "    <tr>\n",
       "      <th>12</th>\n",
       "      <td>0.033813</td>\n",
       "      <td>tuesday_yn</td>\n",
       "    </tr>\n",
       "    <tr>\n",
       "      <th>17</th>\n",
       "      <td>-0.027435</td>\n",
       "      <td>neigborhood_income_higher_yn</td>\n",
       "    </tr>\n",
       "    <tr>\n",
       "      <th>16</th>\n",
       "      <td>-0.018063</td>\n",
       "      <td>neighborhood_income_middle_yn</td>\n",
       "    </tr>\n",
       "    <tr>\n",
       "      <th>15</th>\n",
       "      <td>-0.014721</td>\n",
       "      <td>wednesday_yn</td>\n",
       "    </tr>\n",
       "    <tr>\n",
       "      <th>13</th>\n",
       "      <td>0.011678</td>\n",
       "      <td>friday_yn</td>\n",
       "    </tr>\n",
       "    <tr>\n",
       "      <th>14</th>\n",
       "      <td>0.003518</td>\n",
       "      <td>saturday_yn</td>\n",
       "    </tr>\n",
       "  </tbody>\n",
       "</table>\n",
       "</div>"
      ],
      "text/plain": [
       "    coefficients                     attributes\n",
       "24     -1.380708               same_day_appt_yn\n",
       "0       0.914502               advanced_appt_yn\n",
       "1       0.466432            within_week_appt_yn\n",
       "23     -0.353228                      senior_yn\n",
       "22     -0.257002                   sms_received\n",
       "2       0.237659                 young_adult_yn\n",
       "3       0.173896              repeat_patient_yn\n",
       "4       0.171749                       child_yn\n",
       "5       0.164241                     alcoholism\n",
       "6       0.162238             welfare_assistance\n",
       "7       0.101206                       diabetes\n",
       "8       0.093266                      gender_yn\n",
       "21     -0.080975                    thursday_yn\n",
       "20     -0.065730                   hypertension\n",
       "9       0.056758                    handicap_yn\n",
       "19     -0.055953                       adult_yn\n",
       "18     -0.049805           day_after_holiday_yn\n",
       "10      0.046913                      monday_yn\n",
       "11      0.045725   neighborhood_income_lower_yn\n",
       "12      0.033813                     tuesday_yn\n",
       "17     -0.027435   neigborhood_income_higher_yn\n",
       "16     -0.018063  neighborhood_income_middle_yn\n",
       "15     -0.014721                   wednesday_yn\n",
       "13      0.011678                      friday_yn\n",
       "14      0.003518                    saturday_yn"
      ]
     },
     "execution_count": 22,
     "metadata": {},
     "output_type": "execute_result"
    }
   ],
   "source": [
    "LRattribute_importance_df = LRattribute_coef_df.reindex(LRattribute_coef_df.coefficients.abs()\n",
    "                                                        .sort_values(ascending=False).index)\n",
    "\n",
    "LRattribute_importance_df"
   ]
  },
  {
   "cell_type": "code",
   "execution_count": null,
   "metadata": {},
   "outputs": [],
   "source": []
  }
 ],
 "metadata": {
  "kernelspec": {
   "display_name": "Python 3",
   "language": "python",
   "name": "python3"
  },
  "language_info": {
   "codemirror_mode": {
    "name": "ipython",
    "version": 3
   },
   "file_extension": ".py",
   "mimetype": "text/x-python",
   "name": "python",
   "nbconvert_exporter": "python",
   "pygments_lexer": "ipython3",
   "version": "3.7.3"
  },
  "varInspector": {
   "cols": {
    "lenName": 16,
    "lenType": 16,
    "lenVar": 40
   },
   "kernels_config": {
    "python": {
     "delete_cmd_postfix": "",
     "delete_cmd_prefix": "del ",
     "library": "var_list.py",
     "varRefreshCmd": "print(var_dic_list())"
    },
    "r": {
     "delete_cmd_postfix": ") ",
     "delete_cmd_prefix": "rm(",
     "library": "var_list.r",
     "varRefreshCmd": "cat(var_dic_list()) "
    }
   },
   "types_to_exclude": [
    "module",
    "function",
    "builtin_function_or_method",
    "instance",
    "_Feature"
   ],
   "window_display": false
  }
 },
 "nbformat": 4,
 "nbformat_minor": 4
}
