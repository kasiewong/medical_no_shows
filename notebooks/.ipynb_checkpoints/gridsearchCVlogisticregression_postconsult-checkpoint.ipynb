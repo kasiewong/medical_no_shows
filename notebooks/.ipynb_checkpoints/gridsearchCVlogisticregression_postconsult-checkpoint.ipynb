{
 "cells": [
  {
   "cell_type": "markdown",
   "metadata": {},
   "source": [
    "# Random Forest Classification Model - Medical No Shows"
   ]
  },
  {
   "cell_type": "markdown",
   "metadata": {},
   "source": [
    "### Import Dependencies"
   ]
  },
  {
   "cell_type": "code",
   "execution_count": 1,
   "metadata": {},
   "outputs": [],
   "source": [
    "import os\n",
    "import re\n",
    "import numpy as np\n",
    "import pandas as pd\n",
    "from sklearn.model_selection import train_test_split\n",
    "import warnings\n",
    "warnings.filterwarnings(\"ignore\")"
   ]
  },
  {
   "cell_type": "markdown",
   "metadata": {},
   "source": [
    "### Load Dataset for modelling"
   ]
  },
  {
   "cell_type": "code",
   "execution_count": 2,
   "metadata": {},
   "outputs": [
    {
     "name": "stdout",
     "output_type": "stream",
     "text": [
      "Shape of the data is: (93899, 29)\n"
     ]
    },
    {
     "data": {
      "text/html": [
       "<div>\n",
       "<style scoped>\n",
       "    .dataframe tbody tr th:only-of-type {\n",
       "        vertical-align: middle;\n",
       "    }\n",
       "\n",
       "    .dataframe tbody tr th {\n",
       "        vertical-align: top;\n",
       "    }\n",
       "\n",
       "    .dataframe thead th {\n",
       "        text-align: right;\n",
       "    }\n",
       "</style>\n",
       "<table border=\"1\" class=\"dataframe\">\n",
       "  <thead>\n",
       "    <tr style=\"text-align: right;\">\n",
       "      <th></th>\n",
       "      <th>appointment_id</th>\n",
       "      <th>patient_id</th>\n",
       "      <th>repeat_patient_yn</th>\n",
       "      <th>gender_yn</th>\n",
       "      <th>time_between_sch_appt</th>\n",
       "      <th>same_day_appt_yn</th>\n",
       "      <th>within_week_appt_yn</th>\n",
       "      <th>advanced_appt_yn</th>\n",
       "      <th>monday_yn</th>\n",
       "      <th>tuesday_yn</th>\n",
       "      <th>...</th>\n",
       "      <th>young_adult_yn</th>\n",
       "      <th>adult_yn</th>\n",
       "      <th>senior_yn</th>\n",
       "      <th>welfare_assistance</th>\n",
       "      <th>hypertension</th>\n",
       "      <th>diabetes</th>\n",
       "      <th>alcoholism</th>\n",
       "      <th>handicap_yn</th>\n",
       "      <th>sms_received</th>\n",
       "      <th>no_show_yn</th>\n",
       "    </tr>\n",
       "  </thead>\n",
       "  <tbody>\n",
       "    <tr>\n",
       "      <th>0</th>\n",
       "      <td>5698125</td>\n",
       "      <td>6.790000e+14</td>\n",
       "      <td>1</td>\n",
       "      <td>0</td>\n",
       "      <td>0</td>\n",
       "      <td>1</td>\n",
       "      <td>0</td>\n",
       "      <td>0</td>\n",
       "      <td>1</td>\n",
       "      <td>0</td>\n",
       "      <td>...</td>\n",
       "      <td>0</td>\n",
       "      <td>0</td>\n",
       "      <td>1</td>\n",
       "      <td>0</td>\n",
       "      <td>0</td>\n",
       "      <td>0</td>\n",
       "      <td>0</td>\n",
       "      <td>0</td>\n",
       "      <td>0</td>\n",
       "      <td>0</td>\n",
       "    </tr>\n",
       "    <tr>\n",
       "      <th>1</th>\n",
       "      <td>5698246</td>\n",
       "      <td>5.460000e+13</td>\n",
       "      <td>0</td>\n",
       "      <td>0</td>\n",
       "      <td>0</td>\n",
       "      <td>1</td>\n",
       "      <td>0</td>\n",
       "      <td>0</td>\n",
       "      <td>1</td>\n",
       "      <td>0</td>\n",
       "      <td>...</td>\n",
       "      <td>1</td>\n",
       "      <td>0</td>\n",
       "      <td>0</td>\n",
       "      <td>1</td>\n",
       "      <td>0</td>\n",
       "      <td>0</td>\n",
       "      <td>0</td>\n",
       "      <td>0</td>\n",
       "      <td>0</td>\n",
       "      <td>0</td>\n",
       "    </tr>\n",
       "    <tr>\n",
       "      <th>2</th>\n",
       "      <td>5699393</td>\n",
       "      <td>4.370000e+12</td>\n",
       "      <td>1</td>\n",
       "      <td>0</td>\n",
       "      <td>0</td>\n",
       "      <td>1</td>\n",
       "      <td>0</td>\n",
       "      <td>0</td>\n",
       "      <td>1</td>\n",
       "      <td>0</td>\n",
       "      <td>...</td>\n",
       "      <td>0</td>\n",
       "      <td>1</td>\n",
       "      <td>0</td>\n",
       "      <td>0</td>\n",
       "      <td>1</td>\n",
       "      <td>0</td>\n",
       "      <td>0</td>\n",
       "      <td>0</td>\n",
       "      <td>0</td>\n",
       "      <td>0</td>\n",
       "    </tr>\n",
       "    <tr>\n",
       "      <th>3</th>\n",
       "      <td>5694371</td>\n",
       "      <td>5.450000e+13</td>\n",
       "      <td>0</td>\n",
       "      <td>1</td>\n",
       "      <td>3</td>\n",
       "      <td>0</td>\n",
       "      <td>1</td>\n",
       "      <td>0</td>\n",
       "      <td>1</td>\n",
       "      <td>0</td>\n",
       "      <td>...</td>\n",
       "      <td>0</td>\n",
       "      <td>0</td>\n",
       "      <td>0</td>\n",
       "      <td>0</td>\n",
       "      <td>0</td>\n",
       "      <td>0</td>\n",
       "      <td>0</td>\n",
       "      <td>0</td>\n",
       "      <td>0</td>\n",
       "      <td>1</td>\n",
       "    </tr>\n",
       "    <tr>\n",
       "      <th>4</th>\n",
       "      <td>5698279</td>\n",
       "      <td>6.290000e+13</td>\n",
       "      <td>1</td>\n",
       "      <td>0</td>\n",
       "      <td>0</td>\n",
       "      <td>1</td>\n",
       "      <td>0</td>\n",
       "      <td>0</td>\n",
       "      <td>1</td>\n",
       "      <td>0</td>\n",
       "      <td>...</td>\n",
       "      <td>1</td>\n",
       "      <td>0</td>\n",
       "      <td>0</td>\n",
       "      <td>1</td>\n",
       "      <td>0</td>\n",
       "      <td>0</td>\n",
       "      <td>0</td>\n",
       "      <td>0</td>\n",
       "      <td>0</td>\n",
       "      <td>0</td>\n",
       "    </tr>\n",
       "  </tbody>\n",
       "</table>\n",
       "<p>5 rows × 29 columns</p>\n",
       "</div>"
      ],
      "text/plain": [
       "   appointment_id    patient_id  repeat_patient_yn  gender_yn  \\\n",
       "0         5698125  6.790000e+14                  1          0   \n",
       "1         5698246  5.460000e+13                  0          0   \n",
       "2         5699393  4.370000e+12                  1          0   \n",
       "3         5694371  5.450000e+13                  0          1   \n",
       "4         5698279  6.290000e+13                  1          0   \n",
       "\n",
       "   time_between_sch_appt  same_day_appt_yn  within_week_appt_yn  \\\n",
       "0                      0                 1                    0   \n",
       "1                      0                 1                    0   \n",
       "2                      0                 1                    0   \n",
       "3                      3                 0                    1   \n",
       "4                      0                 1                    0   \n",
       "\n",
       "   advanced_appt_yn  monday_yn  tuesday_yn  ...  young_adult_yn  adult_yn  \\\n",
       "0                 0          1           0  ...               0         0   \n",
       "1                 0          1           0  ...               1         0   \n",
       "2                 0          1           0  ...               0         1   \n",
       "3                 0          1           0  ...               0         0   \n",
       "4                 0          1           0  ...               1         0   \n",
       "\n",
       "   senior_yn  welfare_assistance  hypertension  diabetes  alcoholism  \\\n",
       "0          1                   0             0         0           0   \n",
       "1          0                   1             0         0           0   \n",
       "2          0                   0             1         0           0   \n",
       "3          0                   0             0         0           0   \n",
       "4          0                   1             0         0           0   \n",
       "\n",
       "   handicap_yn  sms_received  no_show_yn  \n",
       "0            0             0           0  \n",
       "1            0             0           0  \n",
       "2            0             0           0  \n",
       "3            0             0           1  \n",
       "4            0             0           0  \n",
       "\n",
       "[5 rows x 29 columns]"
      ]
     },
     "execution_count": 2,
     "metadata": {},
     "output_type": "execute_result"
    }
   ],
   "source": [
    "data = pd.read_csv('../data/cleanData/appointment_dataset_postconsult.csv')\n",
    "print(f\"Shape of the data is: {data.shape}\")\n",
    "data.head()"
   ]
  },
  {
   "cell_type": "code",
   "execution_count": 3,
   "metadata": {},
   "outputs": [
    {
     "name": "stdout",
     "output_type": "stream",
     "text": [
      "<class 'pandas.core.frame.DataFrame'>\n",
      "RangeIndex: 93899 entries, 0 to 93898\n",
      "Data columns (total 29 columns):\n",
      "appointment_id                   93899 non-null int64\n",
      "patient_id                       93899 non-null float64\n",
      "repeat_patient_yn                93899 non-null int64\n",
      "gender_yn                        93899 non-null int64\n",
      "time_between_sch_appt            93899 non-null int64\n",
      "same_day_appt_yn                 93899 non-null int64\n",
      "within_week_appt_yn              93899 non-null int64\n",
      "advanced_appt_yn                 93899 non-null int64\n",
      "monday_yn                        93899 non-null int64\n",
      "tuesday_yn                       93899 non-null int64\n",
      "wednesday_yn                     93899 non-null int64\n",
      "thursday_yn                      93899 non-null int64\n",
      "friday_yn                        93899 non-null int64\n",
      "saturday_yn                      93899 non-null int64\n",
      "neighborhood_income_lower_yn     93899 non-null int64\n",
      "neighborhood_income_middle_yn    93899 non-null int64\n",
      "neigborhood_income_higher_yn     93899 non-null int64\n",
      "day_after_holiday_yn             93899 non-null int64\n",
      "child_yn                         93899 non-null int64\n",
      "young_adult_yn                   93899 non-null int64\n",
      "adult_yn                         93899 non-null int64\n",
      "senior_yn                        93899 non-null int64\n",
      "welfare_assistance               93899 non-null int64\n",
      "hypertension                     93899 non-null int64\n",
      "diabetes                         93899 non-null int64\n",
      "alcoholism                       93899 non-null int64\n",
      "handicap_yn                      93899 non-null int64\n",
      "sms_received                     93899 non-null int64\n",
      "no_show_yn                       93899 non-null int64\n",
      "dtypes: float64(1), int64(28)\n",
      "memory usage: 20.8 MB\n"
     ]
    }
   ],
   "source": [
    "#check for nulls and verify that attributes for modelling are the correct datatypes\n",
    "data.info()"
   ]
  },
  {
   "cell_type": "markdown",
   "metadata": {},
   "source": [
    "### Split dataset for training vs testing"
   ]
  },
  {
   "cell_type": "code",
   "execution_count": 4,
   "metadata": {},
   "outputs": [
    {
     "data": {
      "text/plain": [
       "(70424, 25)"
      ]
     },
     "execution_count": 4,
     "metadata": {},
     "output_type": "execute_result"
    }
   ],
   "source": [
    "# store the target variable in y and everything else goes in X\n",
    "y = data['no_show_yn']\n",
    "\n",
    "# drop irrelevent columns \n",
    "X = data.drop(['appointment_id', 'patient_id', 'time_between_sch_appt', 'no_show_yn'], axis=1)\n",
    "\n",
    "X_train, X_test, y_train, y_test = train_test_split(X, y, test_size=0.25)\n",
    "\n",
    "X_train.shape"
   ]
  },
  {
   "cell_type": "markdown",
   "metadata": {},
   "source": [
    "### Create the classifier model and the parameter grid for GridSearch"
   ]
  },
  {
   "cell_type": "code",
   "execution_count": 5,
   "metadata": {},
   "outputs": [],
   "source": [
    "from sklearn.linear_model import LogisticRegression\n",
    "\n",
    "model = LogisticRegression()\n",
    "\n",
    "param_grid = {'penalty': ['l1','l2'], \n",
    "              'C': [0.001, 0.01,0.1,1,10,100, 1000], \n",
    "             'random_state': [0, 1]}"
   ]
  },
  {
   "cell_type": "markdown",
   "metadata": {},
   "source": [
    "### Initialize the GridSearch to tune hyperparameters"
   ]
  },
  {
   "cell_type": "code",
   "execution_count": 6,
   "metadata": {},
   "outputs": [],
   "source": [
    "from sklearn.model_selection import GridSearchCV\n",
    "\n",
    "grid = GridSearchCV(model, param_grid=param_grid, cv=3, verbose=2)"
   ]
  },
  {
   "cell_type": "markdown",
   "metadata": {},
   "source": [
    "### Execute model tuning"
   ]
  },
  {
   "cell_type": "code",
   "execution_count": 7,
   "metadata": {},
   "outputs": [
    {
     "name": "stdout",
     "output_type": "stream",
     "text": [
      "Fitting 3 folds for each of 28 candidates, totalling 84 fits\n",
      "[CV] C=0.001, penalty=l1, random_state=0 .............................\n",
      "[CV] .............. C=0.001, penalty=l1, random_state=0, total=   0.0s\n",
      "[CV] C=0.001, penalty=l1, random_state=0 .............................\n",
      "[CV] .............. C=0.001, penalty=l1, random_state=0, total=   0.0s\n",
      "[CV] C=0.001, penalty=l1, random_state=0 .............................\n",
      "[CV] .............. C=0.001, penalty=l1, random_state=0, total=   0.0s\n",
      "[CV] C=0.001, penalty=l1, random_state=1 .............................\n",
      "[CV] .............. C=0.001, penalty=l1, random_state=1, total=   0.0s\n",
      "[CV] C=0.001, penalty=l1, random_state=1 .............................\n",
      "[CV] .............. C=0.001, penalty=l1, random_state=1, total=   0.0s\n",
      "[CV] C=0.001, penalty=l1, random_state=1 .............................\n",
      "[CV] .............. C=0.001, penalty=l1, random_state=1, total=   0.0s\n",
      "[CV] C=0.001, penalty=l2, random_state=0 .............................\n",
      "[CV] .............. C=0.001, penalty=l2, random_state=0, total=   0.1s\n",
      "[CV] C=0.001, penalty=l2, random_state=0 .............................\n",
      "[CV] .............. C=0.001, penalty=l2, random_state=0, total=   0.1s\n",
      "[CV] C=0.001, penalty=l2, random_state=0 .............................\n"
     ]
    },
    {
     "name": "stderr",
     "output_type": "stream",
     "text": [
      "[Parallel(n_jobs=1)]: Using backend SequentialBackend with 1 concurrent workers.\n",
      "[Parallel(n_jobs=1)]: Done   1 out of   1 | elapsed:    0.0s remaining:    0.0s\n"
     ]
    },
    {
     "name": "stdout",
     "output_type": "stream",
     "text": [
      "[CV] .............. C=0.001, penalty=l2, random_state=0, total=   0.1s\n",
      "[CV] C=0.001, penalty=l2, random_state=1 .............................\n",
      "[CV] .............. C=0.001, penalty=l2, random_state=1, total=   0.1s\n",
      "[CV] C=0.001, penalty=l2, random_state=1 .............................\n",
      "[CV] .............. C=0.001, penalty=l2, random_state=1, total=   0.1s\n",
      "[CV] C=0.001, penalty=l2, random_state=1 .............................\n",
      "[CV] .............. C=0.001, penalty=l2, random_state=1, total=   0.1s\n",
      "[CV] C=0.01, penalty=l1, random_state=0 ..............................\n",
      "[CV] ............... C=0.01, penalty=l1, random_state=0, total=   0.0s\n",
      "[CV] C=0.01, penalty=l1, random_state=0 ..............................\n",
      "[CV] ............... C=0.01, penalty=l1, random_state=0, total=   0.0s\n",
      "[CV] C=0.01, penalty=l1, random_state=0 ..............................\n",
      "[CV] ............... C=0.01, penalty=l1, random_state=0, total=   0.0s\n",
      "[CV] C=0.01, penalty=l1, random_state=1 ..............................\n",
      "[CV] ............... C=0.01, penalty=l1, random_state=1, total=   0.0s\n",
      "[CV] C=0.01, penalty=l1, random_state=1 ..............................\n",
      "[CV] ............... C=0.01, penalty=l1, random_state=1, total=   0.0s\n",
      "[CV] C=0.01, penalty=l1, random_state=1 ..............................\n",
      "[CV] ............... C=0.01, penalty=l1, random_state=1, total=   0.0s\n",
      "[CV] C=0.01, penalty=l2, random_state=0 ..............................\n",
      "[CV] ............... C=0.01, penalty=l2, random_state=0, total=   0.1s\n",
      "[CV] C=0.01, penalty=l2, random_state=0 ..............................\n",
      "[CV] ............... C=0.01, penalty=l2, random_state=0, total=   0.1s\n",
      "[CV] C=0.01, penalty=l2, random_state=0 ..............................\n",
      "[CV] ............... C=0.01, penalty=l2, random_state=0, total=   0.1s\n",
      "[CV] C=0.01, penalty=l2, random_state=1 ..............................\n",
      "[CV] ............... C=0.01, penalty=l2, random_state=1, total=   0.1s\n",
      "[CV] C=0.01, penalty=l2, random_state=1 ..............................\n",
      "[CV] ............... C=0.01, penalty=l2, random_state=1, total=   0.1s\n",
      "[CV] C=0.01, penalty=l2, random_state=1 ..............................\n",
      "[CV] ............... C=0.01, penalty=l2, random_state=1, total=   0.1s\n",
      "[CV] C=0.1, penalty=l1, random_state=0 ...............................\n",
      "[CV] ................ C=0.1, penalty=l1, random_state=0, total=   0.0s\n",
      "[CV] C=0.1, penalty=l1, random_state=0 ...............................\n",
      "[CV] ................ C=0.1, penalty=l1, random_state=0, total=   0.0s\n",
      "[CV] C=0.1, penalty=l1, random_state=0 ...............................\n",
      "[CV] ................ C=0.1, penalty=l1, random_state=0, total=   0.0s\n",
      "[CV] C=0.1, penalty=l1, random_state=1 ...............................\n",
      "[CV] ................ C=0.1, penalty=l1, random_state=1, total=   0.0s\n",
      "[CV] C=0.1, penalty=l1, random_state=1 ...............................\n",
      "[CV] ................ C=0.1, penalty=l1, random_state=1, total=   0.0s\n",
      "[CV] C=0.1, penalty=l1, random_state=1 ...............................\n",
      "[CV] ................ C=0.1, penalty=l1, random_state=1, total=   0.0s\n",
      "[CV] C=0.1, penalty=l2, random_state=0 ...............................\n",
      "[CV] ................ C=0.1, penalty=l2, random_state=0, total=   0.1s\n",
      "[CV] C=0.1, penalty=l2, random_state=0 ...............................\n",
      "[CV] ................ C=0.1, penalty=l2, random_state=0, total=   0.1s\n",
      "[CV] C=0.1, penalty=l2, random_state=0 ...............................\n",
      "[CV] ................ C=0.1, penalty=l2, random_state=0, total=   0.1s\n",
      "[CV] C=0.1, penalty=l2, random_state=1 ...............................\n",
      "[CV] ................ C=0.1, penalty=l2, random_state=1, total=   0.1s\n",
      "[CV] C=0.1, penalty=l2, random_state=1 ...............................\n",
      "[CV] ................ C=0.1, penalty=l2, random_state=1, total=   0.1s\n",
      "[CV] C=0.1, penalty=l2, random_state=1 ...............................\n",
      "[CV] ................ C=0.1, penalty=l2, random_state=1, total=   0.1s\n",
      "[CV] C=1, penalty=l1, random_state=0 .................................\n",
      "[CV] .................. C=1, penalty=l1, random_state=0, total=   0.0s\n",
      "[CV] C=1, penalty=l1, random_state=0 .................................\n",
      "[CV] .................. C=1, penalty=l1, random_state=0, total=   0.0s\n",
      "[CV] C=1, penalty=l1, random_state=0 .................................\n",
      "[CV] .................. C=1, penalty=l1, random_state=0, total=   0.0s\n",
      "[CV] C=1, penalty=l1, random_state=1 .................................\n",
      "[CV] .................. C=1, penalty=l1, random_state=1, total=   0.0s\n",
      "[CV] C=1, penalty=l1, random_state=1 .................................\n",
      "[CV] .................. C=1, penalty=l1, random_state=1, total=   0.0s\n",
      "[CV] C=1, penalty=l1, random_state=1 .................................\n",
      "[CV] .................. C=1, penalty=l1, random_state=1, total=   0.0s\n",
      "[CV] C=1, penalty=l2, random_state=0 .................................\n",
      "[CV] .................. C=1, penalty=l2, random_state=0, total=   0.2s\n",
      "[CV] C=1, penalty=l2, random_state=0 .................................\n",
      "[CV] .................. C=1, penalty=l2, random_state=0, total=   0.2s\n",
      "[CV] C=1, penalty=l2, random_state=0 .................................\n",
      "[CV] .................. C=1, penalty=l2, random_state=0, total=   0.2s\n",
      "[CV] C=1, penalty=l2, random_state=1 .................................\n",
      "[CV] .................. C=1, penalty=l2, random_state=1, total=   0.2s\n",
      "[CV] C=1, penalty=l2, random_state=1 .................................\n",
      "[CV] .................. C=1, penalty=l2, random_state=1, total=   0.2s\n",
      "[CV] C=1, penalty=l2, random_state=1 .................................\n",
      "[CV] .................. C=1, penalty=l2, random_state=1, total=   0.1s\n",
      "[CV] C=10, penalty=l1, random_state=0 ................................\n",
      "[CV] ................. C=10, penalty=l1, random_state=0, total=   0.0s\n",
      "[CV] C=10, penalty=l1, random_state=0 ................................\n",
      "[CV] ................. C=10, penalty=l1, random_state=0, total=   0.0s\n",
      "[CV] C=10, penalty=l1, random_state=0 ................................\n",
      "[CV] ................. C=10, penalty=l1, random_state=0, total=   0.0s\n",
      "[CV] C=10, penalty=l1, random_state=1 ................................\n",
      "[CV] ................. C=10, penalty=l1, random_state=1, total=   0.0s\n",
      "[CV] C=10, penalty=l1, random_state=1 ................................\n",
      "[CV] ................. C=10, penalty=l1, random_state=1, total=   0.0s\n",
      "[CV] C=10, penalty=l1, random_state=1 ................................\n",
      "[CV] ................. C=10, penalty=l1, random_state=1, total=   0.0s\n",
      "[CV] C=10, penalty=l2, random_state=0 ................................\n",
      "[CV] ................. C=10, penalty=l2, random_state=0, total=   0.1s\n",
      "[CV] C=10, penalty=l2, random_state=0 ................................\n",
      "[CV] ................. C=10, penalty=l2, random_state=0, total=   0.1s\n",
      "[CV] C=10, penalty=l2, random_state=0 ................................\n",
      "[CV] ................. C=10, penalty=l2, random_state=0, total=   0.1s\n",
      "[CV] C=10, penalty=l2, random_state=1 ................................\n",
      "[CV] ................. C=10, penalty=l2, random_state=1, total=   0.1s\n",
      "[CV] C=10, penalty=l2, random_state=1 ................................\n",
      "[CV] ................. C=10, penalty=l2, random_state=1, total=   0.1s\n",
      "[CV] C=10, penalty=l2, random_state=1 ................................\n",
      "[CV] ................. C=10, penalty=l2, random_state=1, total=   0.1s\n",
      "[CV] C=100, penalty=l1, random_state=0 ...............................\n",
      "[CV] ................ C=100, penalty=l1, random_state=0, total=   0.0s\n",
      "[CV] C=100, penalty=l1, random_state=0 ...............................\n",
      "[CV] ................ C=100, penalty=l1, random_state=0, total=   0.0s\n",
      "[CV] C=100, penalty=l1, random_state=0 ...............................\n",
      "[CV] ................ C=100, penalty=l1, random_state=0, total=   0.0s\n",
      "[CV] C=100, penalty=l1, random_state=1 ...............................\n",
      "[CV] ................ C=100, penalty=l1, random_state=1, total=   0.0s\n",
      "[CV] C=100, penalty=l1, random_state=1 ...............................\n",
      "[CV] ................ C=100, penalty=l1, random_state=1, total=   0.0s\n",
      "[CV] C=100, penalty=l1, random_state=1 ...............................\n",
      "[CV] ................ C=100, penalty=l1, random_state=1, total=   0.0s\n",
      "[CV] C=100, penalty=l2, random_state=0 ...............................\n"
     ]
    },
    {
     "name": "stdout",
     "output_type": "stream",
     "text": [
      "[CV] ................ C=100, penalty=l2, random_state=0, total=   0.1s\n",
      "[CV] C=100, penalty=l2, random_state=0 ...............................\n",
      "[CV] ................ C=100, penalty=l2, random_state=0, total=   0.1s\n",
      "[CV] C=100, penalty=l2, random_state=0 ...............................\n",
      "[CV] ................ C=100, penalty=l2, random_state=0, total=   0.1s\n",
      "[CV] C=100, penalty=l2, random_state=1 ...............................\n",
      "[CV] ................ C=100, penalty=l2, random_state=1, total=   0.1s\n",
      "[CV] C=100, penalty=l2, random_state=1 ...............................\n",
      "[CV] ................ C=100, penalty=l2, random_state=1, total=   0.1s\n",
      "[CV] C=100, penalty=l2, random_state=1 ...............................\n",
      "[CV] ................ C=100, penalty=l2, random_state=1, total=   0.1s\n",
      "[CV] C=1000, penalty=l1, random_state=0 ..............................\n",
      "[CV] ............... C=1000, penalty=l1, random_state=0, total=   0.0s\n",
      "[CV] C=1000, penalty=l1, random_state=0 ..............................\n",
      "[CV] ............... C=1000, penalty=l1, random_state=0, total=   0.0s\n",
      "[CV] C=1000, penalty=l1, random_state=0 ..............................\n",
      "[CV] ............... C=1000, penalty=l1, random_state=0, total=   0.0s\n",
      "[CV] C=1000, penalty=l1, random_state=1 ..............................\n",
      "[CV] ............... C=1000, penalty=l1, random_state=1, total=   0.0s\n",
      "[CV] C=1000, penalty=l1, random_state=1 ..............................\n",
      "[CV] ............... C=1000, penalty=l1, random_state=1, total=   0.0s\n",
      "[CV] C=1000, penalty=l1, random_state=1 ..............................\n",
      "[CV] ............... C=1000, penalty=l1, random_state=1, total=   0.0s\n",
      "[CV] C=1000, penalty=l2, random_state=0 ..............................\n",
      "[CV] ............... C=1000, penalty=l2, random_state=0, total=   0.1s\n",
      "[CV] C=1000, penalty=l2, random_state=0 ..............................\n",
      "[CV] ............... C=1000, penalty=l2, random_state=0, total=   0.1s\n",
      "[CV] C=1000, penalty=l2, random_state=0 ..............................\n",
      "[CV] ............... C=1000, penalty=l2, random_state=0, total=   0.1s\n",
      "[CV] C=1000, penalty=l2, random_state=1 ..............................\n",
      "[CV] ............... C=1000, penalty=l2, random_state=1, total=   0.1s\n",
      "[CV] C=1000, penalty=l2, random_state=1 ..............................\n",
      "[CV] ............... C=1000, penalty=l2, random_state=1, total=   0.1s\n",
      "[CV] C=1000, penalty=l2, random_state=1 ..............................\n",
      "[CV] ............... C=1000, penalty=l2, random_state=1, total=   0.1s\n"
     ]
    },
    {
     "name": "stderr",
     "output_type": "stream",
     "text": [
      "[Parallel(n_jobs=1)]: Done  84 out of  84 | elapsed:    4.3s finished\n"
     ]
    },
    {
     "data": {
      "text/plain": [
       "GridSearchCV(cv=3, error_score=nan,\n",
       "             estimator=LogisticRegression(C=1.0, class_weight=None, dual=False,\n",
       "                                          fit_intercept=True,\n",
       "                                          intercept_scaling=1, l1_ratio=None,\n",
       "                                          max_iter=100, multi_class='auto',\n",
       "                                          n_jobs=None, penalty='l2',\n",
       "                                          random_state=None, solver='lbfgs',\n",
       "                                          tol=0.0001, verbose=0,\n",
       "                                          warm_start=False),\n",
       "             iid='deprecated', n_jobs=None,\n",
       "             param_grid={'C': [0.001, 0.01, 0.1, 1, 10, 100, 1000],\n",
       "                         'penalty': ['l1', 'l2'], 'random_state': [0, 1]},\n",
       "             pre_dispatch='2*n_jobs', refit=True, return_train_score=False,\n",
       "             scoring=None, verbose=2)"
      ]
     },
     "execution_count": 7,
     "metadata": {},
     "output_type": "execute_result"
    }
   ],
   "source": [
    "grid.fit(X_train, y_train)"
   ]
  },
  {
   "cell_type": "markdown",
   "metadata": {},
   "source": [
    "### View model results"
   ]
  },
  {
   "cell_type": "code",
   "execution_count": 8,
   "metadata": {},
   "outputs": [
    {
     "name": "stdout",
     "output_type": "stream",
     "text": [
      "Best parameters: {'C': 0.01, 'penalty': 'l2', 'random_state': 0}\n",
      "Train set score: 0.8138276723844144\n",
      "Test set score: 0.8175079872204473\n"
     ]
    }
   ],
   "source": [
    "print(f\"Best parameters: {grid.best_params_}\")\n",
    "print(f\"Train set score: {grid.score(X_train, y_train)}\")\n",
    "print(f\"Test set score: {grid.score(X_test, y_test)}\")"
   ]
  },
  {
   "cell_type": "markdown",
   "metadata": {},
   "source": [
    "## Save the model for hosting"
   ]
  },
  {
   "cell_type": "code",
   "execution_count": 9,
   "metadata": {},
   "outputs": [],
   "source": [
    "import pickle\n",
    "\n",
    "with open('LR_model_postconsult.pkl','wb') as f:\n",
    "    pickle.dump(grid, f)"
   ]
  },
  {
   "cell_type": "markdown",
   "metadata": {},
   "source": [
    "### Load saved model"
   ]
  },
  {
   "cell_type": "code",
   "execution_count": 10,
   "metadata": {},
   "outputs": [],
   "source": [
    "with open('LR_model_postconsult.pkl', 'rb') as f:\n",
    "    model = pickle.load(f)"
   ]
  },
  {
   "cell_type": "markdown",
   "metadata": {},
   "source": [
    "### Test saved model"
   ]
  },
  {
   "cell_type": "code",
   "execution_count": 11,
   "metadata": {},
   "outputs": [
    {
     "name": "stdout",
     "output_type": "stream",
     "text": [
      "Test set score: 0.8175079872204473\n"
     ]
    }
   ],
   "source": [
    "print(f\"Test set score: {model.score(X_test, y_test)}\")"
   ]
  },
  {
   "cell_type": "code",
   "execution_count": 12,
   "metadata": {},
   "outputs": [
    {
     "data": {
      "text/plain": [
       "GridSearchCV(cv=3, error_score=nan,\n",
       "             estimator=LogisticRegression(C=1.0, class_weight=None, dual=False,\n",
       "                                          fit_intercept=True,\n",
       "                                          intercept_scaling=1, l1_ratio=None,\n",
       "                                          max_iter=100, multi_class='auto',\n",
       "                                          n_jobs=None, penalty='l2',\n",
       "                                          random_state=None, solver='lbfgs',\n",
       "                                          tol=0.0001, verbose=0,\n",
       "                                          warm_start=False),\n",
       "             iid='deprecated', n_jobs=None,\n",
       "             param_grid={'C': [0.001, 0.01, 0.1, 1, 10, 100, 1000],\n",
       "                         'penalty': ['l1', 'l2'], 'random_state': [0, 1]},\n",
       "             pre_dispatch='2*n_jobs', refit=True, return_train_score=False,\n",
       "             scoring=None, verbose=2)"
      ]
     },
     "execution_count": 12,
     "metadata": {},
     "output_type": "execute_result"
    }
   ],
   "source": [
    "model"
   ]
  },
  {
   "cell_type": "markdown",
   "metadata": {},
   "source": [
    "### Check out model coefficients"
   ]
  },
  {
   "cell_type": "code",
   "execution_count": 13,
   "metadata": {},
   "outputs": [
    {
     "data": {
      "text/plain": [
       "{'mean_fit_time': array([0.00657272, 0.00447297, 0.05543407, 0.0540386 , 0.00445143,\n",
       "        0.00388463, 0.08248568, 0.07816776, 0.00416994, 0.00327094,\n",
       "        0.11290534, 0.10788457, 0.00403476, 0.00345508, 0.15891012,\n",
       "        0.15366594, 0.00351866, 0.00332443, 0.09044949, 0.08421787,\n",
       "        0.00347296, 0.00323574, 0.08438977, 0.08435766, 0.00371011,\n",
       "        0.00319314, 0.08264764, 0.08297563]),\n",
       " 'std_fit_time': array([2.67099172e-03, 8.20236586e-04, 7.30691149e-04, 9.33001110e-04,\n",
       "        4.39478088e-04, 3.58229308e-04, 2.27781303e-03, 4.88049097e-03,\n",
       "        5.84977592e-04, 2.39151253e-05, 8.83460175e-03, 1.20371887e-02,\n",
       "        4.68492124e-04, 5.55797750e-05, 1.32477719e-02, 8.21424814e-03,\n",
       "        2.83265376e-04, 1.17871460e-04, 1.71921808e-02, 1.52770961e-02,\n",
       "        2.41170760e-04, 2.45098732e-05, 1.49371051e-02, 1.53574455e-02,\n",
       "        2.97426219e-04, 8.55556248e-05, 1.49280754e-02, 1.49256698e-02]),\n",
       " 'mean_score_time': array([0.        , 0.        , 0.00292516, 0.00274364, 0.        ,\n",
       "        0.        , 0.00278107, 0.00273593, 0.        , 0.        ,\n",
       "        0.00274404, 0.00284831, 0.        , 0.        , 0.00247391,\n",
       "        0.00246994, 0.        , 0.        , 0.0026919 , 0.00248933,\n",
       "        0.        , 0.        , 0.00246565, 0.00243163, 0.        ,\n",
       "        0.        , 0.00246056, 0.00244975]),\n",
       " 'std_score_time': array([0.00000000e+00, 0.00000000e+00, 1.92061026e-04, 1.48275443e-04,\n",
       "        0.00000000e+00, 0.00000000e+00, 4.78712698e-04, 2.30989941e-04,\n",
       "        0.00000000e+00, 0.00000000e+00, 5.87221083e-05, 1.64094617e-04,\n",
       "        0.00000000e+00, 0.00000000e+00, 3.11422085e-05, 4.02837257e-05,\n",
       "        0.00000000e+00, 0.00000000e+00, 3.16747455e-04, 3.34574132e-05,\n",
       "        0.00000000e+00, 0.00000000e+00, 2.26955898e-05, 1.17786178e-05,\n",
       "        0.00000000e+00, 0.00000000e+00, 3.42932526e-06, 2.21006007e-05]),\n",
       " 'param_C': masked_array(data=[0.001, 0.001, 0.001, 0.001, 0.01, 0.01, 0.01, 0.01,\n",
       "                    0.1, 0.1, 0.1, 0.1, 1, 1, 1, 1, 10, 10, 10, 10, 100,\n",
       "                    100, 100, 100, 1000, 1000, 1000, 1000],\n",
       "              mask=[False, False, False, False, False, False, False, False,\n",
       "                    False, False, False, False, False, False, False, False,\n",
       "                    False, False, False, False, False, False, False, False,\n",
       "                    False, False, False, False],\n",
       "        fill_value='?',\n",
       "             dtype=object),\n",
       " 'param_penalty': masked_array(data=['l1', 'l1', 'l2', 'l2', 'l1', 'l1', 'l2', 'l2', 'l1',\n",
       "                    'l1', 'l2', 'l2', 'l1', 'l1', 'l2', 'l2', 'l1', 'l1',\n",
       "                    'l2', 'l2', 'l1', 'l1', 'l2', 'l2', 'l1', 'l1', 'l2',\n",
       "                    'l2'],\n",
       "              mask=[False, False, False, False, False, False, False, False,\n",
       "                    False, False, False, False, False, False, False, False,\n",
       "                    False, False, False, False, False, False, False, False,\n",
       "                    False, False, False, False],\n",
       "        fill_value='?',\n",
       "             dtype=object),\n",
       " 'param_random_state': masked_array(data=[0, 1, 0, 1, 0, 1, 0, 1, 0, 1, 0, 1, 0, 1, 0, 1, 0, 1,\n",
       "                    0, 1, 0, 1, 0, 1, 0, 1, 0, 1],\n",
       "              mask=[False, False, False, False, False, False, False, False,\n",
       "                    False, False, False, False, False, False, False, False,\n",
       "                    False, False, False, False, False, False, False, False,\n",
       "                    False, False, False, False],\n",
       "        fill_value='?',\n",
       "             dtype=object),\n",
       " 'params': [{'C': 0.001, 'penalty': 'l1', 'random_state': 0},\n",
       "  {'C': 0.001, 'penalty': 'l1', 'random_state': 1},\n",
       "  {'C': 0.001, 'penalty': 'l2', 'random_state': 0},\n",
       "  {'C': 0.001, 'penalty': 'l2', 'random_state': 1},\n",
       "  {'C': 0.01, 'penalty': 'l1', 'random_state': 0},\n",
       "  {'C': 0.01, 'penalty': 'l1', 'random_state': 1},\n",
       "  {'C': 0.01, 'penalty': 'l2', 'random_state': 0},\n",
       "  {'C': 0.01, 'penalty': 'l2', 'random_state': 1},\n",
       "  {'C': 0.1, 'penalty': 'l1', 'random_state': 0},\n",
       "  {'C': 0.1, 'penalty': 'l1', 'random_state': 1},\n",
       "  {'C': 0.1, 'penalty': 'l2', 'random_state': 0},\n",
       "  {'C': 0.1, 'penalty': 'l2', 'random_state': 1},\n",
       "  {'C': 1, 'penalty': 'l1', 'random_state': 0},\n",
       "  {'C': 1, 'penalty': 'l1', 'random_state': 1},\n",
       "  {'C': 1, 'penalty': 'l2', 'random_state': 0},\n",
       "  {'C': 1, 'penalty': 'l2', 'random_state': 1},\n",
       "  {'C': 10, 'penalty': 'l1', 'random_state': 0},\n",
       "  {'C': 10, 'penalty': 'l1', 'random_state': 1},\n",
       "  {'C': 10, 'penalty': 'l2', 'random_state': 0},\n",
       "  {'C': 10, 'penalty': 'l2', 'random_state': 1},\n",
       "  {'C': 100, 'penalty': 'l1', 'random_state': 0},\n",
       "  {'C': 100, 'penalty': 'l1', 'random_state': 1},\n",
       "  {'C': 100, 'penalty': 'l2', 'random_state': 0},\n",
       "  {'C': 100, 'penalty': 'l2', 'random_state': 1},\n",
       "  {'C': 1000, 'penalty': 'l1', 'random_state': 0},\n",
       "  {'C': 1000, 'penalty': 'l1', 'random_state': 1},\n",
       "  {'C': 1000, 'penalty': 'l2', 'random_state': 0},\n",
       "  {'C': 1000, 'penalty': 'l2', 'random_state': 1}],\n",
       " 'split0_test_score': array([       nan,        nan, 0.81380192, 0.81380192,        nan,\n",
       "               nan, 0.81392971, 0.81392971,        nan,        nan,\n",
       "        0.81392971, 0.81392971,        nan,        nan, 0.81375932,\n",
       "        0.81375932,        nan,        nan, 0.81375932, 0.81375932,\n",
       "               nan,        nan, 0.81375932, 0.81375932,        nan,\n",
       "               nan, 0.81375932, 0.81375932]),\n",
       " 'split1_test_score': array([       nan,        nan, 0.81375932, 0.81375932,        nan,\n",
       "               nan, 0.81380192, 0.81380192,        nan,        nan,\n",
       "        0.81358892, 0.81358892,        nan,        nan, 0.81354633,\n",
       "        0.81354633,        nan,        nan, 0.81354633, 0.81354633,\n",
       "               nan,        nan, 0.81354633, 0.81354633,        nan,\n",
       "               nan, 0.81354633, 0.81354633]),\n",
       " 'split2_test_score': array([       nan,        nan, 0.81379398, 0.81379398,        nan,\n",
       "               nan, 0.81379398, 0.81379398,        nan,        nan,\n",
       "        0.81379398, 0.81379398,        nan,        nan, 0.81379398,\n",
       "        0.81379398,        nan,        nan, 0.81379398, 0.81379398,\n",
       "               nan,        nan, 0.81379398, 0.81379398,        nan,\n",
       "               nan, 0.81379398, 0.81379398]),\n",
       " 'mean_test_score': array([       nan,        nan, 0.81378507, 0.81378507,        nan,\n",
       "               nan, 0.81384187, 0.81384187,        nan,        nan,\n",
       "        0.81377087, 0.81377087,        nan,        nan, 0.81369988,\n",
       "        0.81369988,        nan,        nan, 0.81369988, 0.81369988,\n",
       "               nan,        nan, 0.81369988, 0.81369988,        nan,\n",
       "               nan, 0.81369988, 0.81369988]),\n",
       " 'std_test_score': array([           nan,            nan, 1.84971805e-05, 1.84971805e-05,\n",
       "                   nan,            nan, 6.21973591e-05, 6.21973591e-05,\n",
       "                   nan,            nan, 1.40082629e-04, 1.40082629e-04,\n",
       "                   nan,            nan, 1.09495075e-04, 1.09495075e-04,\n",
       "                   nan,            nan, 1.09495075e-04, 1.09495075e-04,\n",
       "                   nan,            nan, 1.09495075e-04, 1.09495075e-04,\n",
       "                   nan,            nan, 1.09495075e-04, 1.09495075e-04]),\n",
       " 'rank_test_score': array([19, 26,  3,  3, 25, 24,  1,  1, 23, 22,  5,  5, 21, 28,  7,  7, 20,\n",
       "        27,  7,  7, 15, 18,  7,  7, 16, 17,  7,  7], dtype=int32)}"
      ]
     },
     "execution_count": 13,
     "metadata": {},
     "output_type": "execute_result"
    }
   ],
   "source": [
    "model.cv_results_"
   ]
  },
  {
   "cell_type": "code",
   "execution_count": null,
   "metadata": {},
   "outputs": [],
   "source": []
  },
  {
   "cell_type": "code",
   "execution_count": null,
   "metadata": {},
   "outputs": [],
   "source": []
  }
 ],
 "metadata": {
  "kernelspec": {
   "display_name": "Python 3",
   "language": "python",
   "name": "python3"
  },
  "language_info": {
   "codemirror_mode": {
    "name": "ipython",
    "version": 3
   },
   "file_extension": ".py",
   "mimetype": "text/x-python",
   "name": "python",
   "nbconvert_exporter": "python",
   "pygments_lexer": "ipython3",
   "version": "3.7.3"
  }
 },
 "nbformat": 4,
 "nbformat_minor": 2
}
