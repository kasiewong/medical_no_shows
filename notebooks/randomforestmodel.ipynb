{
 "cells": [
  {
   "cell_type": "markdown",
   "metadata": {},
   "source": [
    "# Random Forest Classification Model - Medical No Shows\n",
    "\n",
    "This notebook assesses the feature relevance for Medical no shows using all of the available data in a Random Forest Classification Model. "
   ]
  },
  {
   "cell_type": "markdown",
   "metadata": {},
   "source": [
    "### Import Dependencies"
   ]
  },
  {
   "cell_type": "code",
   "execution_count": 1,
   "metadata": {},
   "outputs": [],
   "source": [
    "from sklearn import tree\n",
    "from sklearn.ensemble import RandomForestClassifier\n",
    "from sklearn.model_selection import train_test_split\n",
    "from sklearn.metrics import confusion_matrix, matthews_corrcoef\n",
    "from sklearn.metrics import plot_confusion_matrix\n",
    "from sklearn import metrics\n",
    "import matplotlib.pyplot as plt\n",
    "import pandas as pd\n",
    "import os\n",
    "import warnings\n",
    "warnings.filterwarnings(\"ignore\")"
   ]
  },
  {
   "cell_type": "markdown",
   "metadata": {},
   "source": [
    "### Load Dataset for modelling"
   ]
  },
  {
   "cell_type": "code",
   "execution_count": 2,
   "metadata": {},
   "outputs": [
    {
     "name": "stdout",
     "output_type": "stream",
     "text": [
      "Shape of the data is: (110521, 29)\n"
     ]
    },
    {
     "data": {
      "text/html": [
       "<div>\n",
       "<style scoped>\n",
       "    .dataframe tbody tr th:only-of-type {\n",
       "        vertical-align: middle;\n",
       "    }\n",
       "\n",
       "    .dataframe tbody tr th {\n",
       "        vertical-align: top;\n",
       "    }\n",
       "\n",
       "    .dataframe thead th {\n",
       "        text-align: right;\n",
       "    }\n",
       "</style>\n",
       "<table border=\"1\" class=\"dataframe\">\n",
       "  <thead>\n",
       "    <tr style=\"text-align: right;\">\n",
       "      <th></th>\n",
       "      <th>appointment_id</th>\n",
       "      <th>patient_id</th>\n",
       "      <th>repeat_patient_yn</th>\n",
       "      <th>gender_yn</th>\n",
       "      <th>time_between_sch_appt</th>\n",
       "      <th>same_day_appt_yn</th>\n",
       "      <th>within_week_appt_yn</th>\n",
       "      <th>advanced_appt_yn</th>\n",
       "      <th>monday_yn</th>\n",
       "      <th>tuesday_yn</th>\n",
       "      <th>...</th>\n",
       "      <th>young_adult_yn</th>\n",
       "      <th>adult_yn</th>\n",
       "      <th>senior_yn</th>\n",
       "      <th>welfare_assistance</th>\n",
       "      <th>hypertension</th>\n",
       "      <th>diabetes</th>\n",
       "      <th>alcoholism</th>\n",
       "      <th>handicap_yn</th>\n",
       "      <th>sms_received</th>\n",
       "      <th>no_show_yn</th>\n",
       "    </tr>\n",
       "  </thead>\n",
       "  <tbody>\n",
       "    <tr>\n",
       "      <th>0</th>\n",
       "      <td>5698125</td>\n",
       "      <td>678814354693913</td>\n",
       "      <td>1</td>\n",
       "      <td>0</td>\n",
       "      <td>0</td>\n",
       "      <td>1</td>\n",
       "      <td>0</td>\n",
       "      <td>0</td>\n",
       "      <td>1</td>\n",
       "      <td>0</td>\n",
       "      <td>...</td>\n",
       "      <td>0</td>\n",
       "      <td>0</td>\n",
       "      <td>1</td>\n",
       "      <td>0</td>\n",
       "      <td>0</td>\n",
       "      <td>0</td>\n",
       "      <td>0</td>\n",
       "      <td>0</td>\n",
       "      <td>0</td>\n",
       "      <td>0</td>\n",
       "    </tr>\n",
       "    <tr>\n",
       "      <th>1</th>\n",
       "      <td>5698246</td>\n",
       "      <td>54593736353128</td>\n",
       "      <td>0</td>\n",
       "      <td>0</td>\n",
       "      <td>0</td>\n",
       "      <td>1</td>\n",
       "      <td>0</td>\n",
       "      <td>0</td>\n",
       "      <td>1</td>\n",
       "      <td>0</td>\n",
       "      <td>...</td>\n",
       "      <td>1</td>\n",
       "      <td>0</td>\n",
       "      <td>0</td>\n",
       "      <td>1</td>\n",
       "      <td>0</td>\n",
       "      <td>0</td>\n",
       "      <td>0</td>\n",
       "      <td>0</td>\n",
       "      <td>0</td>\n",
       "      <td>0</td>\n",
       "    </tr>\n",
       "    <tr>\n",
       "      <th>2</th>\n",
       "      <td>5699393</td>\n",
       "      <td>4369164743113</td>\n",
       "      <td>1</td>\n",
       "      <td>0</td>\n",
       "      <td>0</td>\n",
       "      <td>1</td>\n",
       "      <td>0</td>\n",
       "      <td>0</td>\n",
       "      <td>1</td>\n",
       "      <td>0</td>\n",
       "      <td>...</td>\n",
       "      <td>0</td>\n",
       "      <td>1</td>\n",
       "      <td>0</td>\n",
       "      <td>0</td>\n",
       "      <td>1</td>\n",
       "      <td>0</td>\n",
       "      <td>0</td>\n",
       "      <td>0</td>\n",
       "      <td>0</td>\n",
       "      <td>0</td>\n",
       "    </tr>\n",
       "    <tr>\n",
       "      <th>3</th>\n",
       "      <td>5694371</td>\n",
       "      <td>54523365344664</td>\n",
       "      <td>0</td>\n",
       "      <td>1</td>\n",
       "      <td>3</td>\n",
       "      <td>0</td>\n",
       "      <td>1</td>\n",
       "      <td>0</td>\n",
       "      <td>1</td>\n",
       "      <td>0</td>\n",
       "      <td>...</td>\n",
       "      <td>0</td>\n",
       "      <td>0</td>\n",
       "      <td>0</td>\n",
       "      <td>0</td>\n",
       "      <td>0</td>\n",
       "      <td>0</td>\n",
       "      <td>0</td>\n",
       "      <td>0</td>\n",
       "      <td>0</td>\n",
       "      <td>1</td>\n",
       "    </tr>\n",
       "    <tr>\n",
       "      <th>4</th>\n",
       "      <td>5698279</td>\n",
       "      <td>62917816238835</td>\n",
       "      <td>1</td>\n",
       "      <td>0</td>\n",
       "      <td>0</td>\n",
       "      <td>1</td>\n",
       "      <td>0</td>\n",
       "      <td>0</td>\n",
       "      <td>1</td>\n",
       "      <td>0</td>\n",
       "      <td>...</td>\n",
       "      <td>1</td>\n",
       "      <td>0</td>\n",
       "      <td>0</td>\n",
       "      <td>1</td>\n",
       "      <td>0</td>\n",
       "      <td>0</td>\n",
       "      <td>0</td>\n",
       "      <td>0</td>\n",
       "      <td>0</td>\n",
       "      <td>0</td>\n",
       "    </tr>\n",
       "  </tbody>\n",
       "</table>\n",
       "<p>5 rows × 29 columns</p>\n",
       "</div>"
      ],
      "text/plain": [
       "   appointment_id       patient_id  repeat_patient_yn  gender_yn  \\\n",
       "0         5698125  678814354693913                  1          0   \n",
       "1         5698246   54593736353128                  0          0   \n",
       "2         5699393    4369164743113                  1          0   \n",
       "3         5694371   54523365344664                  0          1   \n",
       "4         5698279   62917816238835                  1          0   \n",
       "\n",
       "   time_between_sch_appt  same_day_appt_yn  within_week_appt_yn  \\\n",
       "0                      0                 1                    0   \n",
       "1                      0                 1                    0   \n",
       "2                      0                 1                    0   \n",
       "3                      3                 0                    1   \n",
       "4                      0                 1                    0   \n",
       "\n",
       "   advanced_appt_yn  monday_yn  tuesday_yn  ...  young_adult_yn  adult_yn  \\\n",
       "0                 0          1           0  ...               0         0   \n",
       "1                 0          1           0  ...               1         0   \n",
       "2                 0          1           0  ...               0         1   \n",
       "3                 0          1           0  ...               0         0   \n",
       "4                 0          1           0  ...               1         0   \n",
       "\n",
       "   senior_yn  welfare_assistance  hypertension  diabetes  alcoholism  \\\n",
       "0          1                   0             0         0           0   \n",
       "1          0                   1             0         0           0   \n",
       "2          0                   0             1         0           0   \n",
       "3          0                   0             0         0           0   \n",
       "4          0                   1             0         0           0   \n",
       "\n",
       "   handicap_yn  sms_received  no_show_yn  \n",
       "0            0             0           0  \n",
       "1            0             0           0  \n",
       "2            0             0           0  \n",
       "3            0             0           1  \n",
       "4            0             0           0  \n",
       "\n",
       "[5 rows x 29 columns]"
      ]
     },
     "execution_count": 2,
     "metadata": {},
     "output_type": "execute_result"
    }
   ],
   "source": [
    "data = pd.read_csv('../data/cleanData/appointment_dataset.csv')\n",
    "print(f\"Shape of the data is: {data.shape}\")\n",
    "data.head()"
   ]
  },
  {
   "cell_type": "code",
   "execution_count": 3,
   "metadata": {},
   "outputs": [
    {
     "name": "stdout",
     "output_type": "stream",
     "text": [
      "<class 'pandas.core.frame.DataFrame'>\n",
      "RangeIndex: 110521 entries, 0 to 110520\n",
      "Data columns (total 29 columns):\n",
      "appointment_id                   110521 non-null int64\n",
      "patient_id                       110521 non-null int64\n",
      "repeat_patient_yn                110521 non-null int64\n",
      "gender_yn                        110521 non-null int64\n",
      "time_between_sch_appt            110521 non-null int64\n",
      "same_day_appt_yn                 110521 non-null int64\n",
      "within_week_appt_yn              110521 non-null int64\n",
      "advanced_appt_yn                 110521 non-null int64\n",
      "monday_yn                        110521 non-null int64\n",
      "tuesday_yn                       110521 non-null int64\n",
      "wednesday_yn                     110521 non-null int64\n",
      "thursday_yn                      110521 non-null int64\n",
      "friday_yn                        110521 non-null int64\n",
      "saturday_yn                      110521 non-null int64\n",
      "neighborhood_income_lower_yn     110521 non-null int64\n",
      "neighborhood_income_middle_yn    110521 non-null int64\n",
      "neigborhood_income_higher_yn     110521 non-null int64\n",
      "day_after_holiday_yn             110521 non-null int64\n",
      "child_yn                         110521 non-null int64\n",
      "young_adult_yn                   110521 non-null int64\n",
      "adult_yn                         110521 non-null int64\n",
      "senior_yn                        110521 non-null int64\n",
      "welfare_assistance               110521 non-null int64\n",
      "hypertension                     110521 non-null int64\n",
      "diabetes                         110521 non-null int64\n",
      "alcoholism                       110521 non-null int64\n",
      "handicap_yn                      110521 non-null int64\n",
      "sms_received                     110521 non-null int64\n",
      "no_show_yn                       110521 non-null int64\n",
      "dtypes: int64(29)\n",
      "memory usage: 24.5 MB\n"
     ]
    }
   ],
   "source": [
    "#check for nulls and verify that attributes for modelling are the correct datatypes\n",
    "data.info()"
   ]
  },
  {
   "cell_type": "markdown",
   "metadata": {},
   "source": [
    "### Drop irrelevent columns"
   ]
  },
  {
   "cell_type": "code",
   "execution_count": 4,
   "metadata": {},
   "outputs": [
    {
     "name": "stdout",
     "output_type": "stream",
     "text": [
      "Shape of the data is: (110521, 26)\n"
     ]
    }
   ],
   "source": [
    "clean_data = data.drop(['appointment_id', 'patient_id', 'time_between_sch_appt'], axis=1)\n",
    "\n",
    "print(f\"Shape of the data is: {clean_data.shape}\")"
   ]
  },
  {
   "cell_type": "markdown",
   "metadata": {},
   "source": [
    "### Pull our target column from the data and create a list of our outcome values"
   ]
  },
  {
   "cell_type": "code",
   "execution_count": 5,
   "metadata": {},
   "outputs": [],
   "source": [
    "target = clean_data['no_show_yn']"
   ]
  },
  {
   "cell_type": "markdown",
   "metadata": {},
   "source": [
    "### Drop the target column from our data "
   ]
  },
  {
   "cell_type": "code",
   "execution_count": 6,
   "metadata": {},
   "outputs": [
    {
     "data": {
      "text/html": [
       "<div>\n",
       "<style scoped>\n",
       "    .dataframe tbody tr th:only-of-type {\n",
       "        vertical-align: middle;\n",
       "    }\n",
       "\n",
       "    .dataframe tbody tr th {\n",
       "        vertical-align: top;\n",
       "    }\n",
       "\n",
       "    .dataframe thead th {\n",
       "        text-align: right;\n",
       "    }\n",
       "</style>\n",
       "<table border=\"1\" class=\"dataframe\">\n",
       "  <thead>\n",
       "    <tr style=\"text-align: right;\">\n",
       "      <th></th>\n",
       "      <th>repeat_patient_yn</th>\n",
       "      <th>gender_yn</th>\n",
       "      <th>same_day_appt_yn</th>\n",
       "      <th>within_week_appt_yn</th>\n",
       "      <th>advanced_appt_yn</th>\n",
       "      <th>monday_yn</th>\n",
       "      <th>tuesday_yn</th>\n",
       "      <th>wednesday_yn</th>\n",
       "      <th>thursday_yn</th>\n",
       "      <th>friday_yn</th>\n",
       "      <th>...</th>\n",
       "      <th>child_yn</th>\n",
       "      <th>young_adult_yn</th>\n",
       "      <th>adult_yn</th>\n",
       "      <th>senior_yn</th>\n",
       "      <th>welfare_assistance</th>\n",
       "      <th>hypertension</th>\n",
       "      <th>diabetes</th>\n",
       "      <th>alcoholism</th>\n",
       "      <th>handicap_yn</th>\n",
       "      <th>sms_received</th>\n",
       "    </tr>\n",
       "  </thead>\n",
       "  <tbody>\n",
       "    <tr>\n",
       "      <th>0</th>\n",
       "      <td>1</td>\n",
       "      <td>0</td>\n",
       "      <td>1</td>\n",
       "      <td>0</td>\n",
       "      <td>0</td>\n",
       "      <td>1</td>\n",
       "      <td>0</td>\n",
       "      <td>0</td>\n",
       "      <td>0</td>\n",
       "      <td>0</td>\n",
       "      <td>...</td>\n",
       "      <td>0</td>\n",
       "      <td>0</td>\n",
       "      <td>0</td>\n",
       "      <td>1</td>\n",
       "      <td>0</td>\n",
       "      <td>0</td>\n",
       "      <td>0</td>\n",
       "      <td>0</td>\n",
       "      <td>0</td>\n",
       "      <td>0</td>\n",
       "    </tr>\n",
       "    <tr>\n",
       "      <th>1</th>\n",
       "      <td>0</td>\n",
       "      <td>0</td>\n",
       "      <td>1</td>\n",
       "      <td>0</td>\n",
       "      <td>0</td>\n",
       "      <td>1</td>\n",
       "      <td>0</td>\n",
       "      <td>0</td>\n",
       "      <td>0</td>\n",
       "      <td>0</td>\n",
       "      <td>...</td>\n",
       "      <td>0</td>\n",
       "      <td>1</td>\n",
       "      <td>0</td>\n",
       "      <td>0</td>\n",
       "      <td>1</td>\n",
       "      <td>0</td>\n",
       "      <td>0</td>\n",
       "      <td>0</td>\n",
       "      <td>0</td>\n",
       "      <td>0</td>\n",
       "    </tr>\n",
       "    <tr>\n",
       "      <th>2</th>\n",
       "      <td>1</td>\n",
       "      <td>0</td>\n",
       "      <td>1</td>\n",
       "      <td>0</td>\n",
       "      <td>0</td>\n",
       "      <td>1</td>\n",
       "      <td>0</td>\n",
       "      <td>0</td>\n",
       "      <td>0</td>\n",
       "      <td>0</td>\n",
       "      <td>...</td>\n",
       "      <td>0</td>\n",
       "      <td>0</td>\n",
       "      <td>1</td>\n",
       "      <td>0</td>\n",
       "      <td>0</td>\n",
       "      <td>1</td>\n",
       "      <td>0</td>\n",
       "      <td>0</td>\n",
       "      <td>0</td>\n",
       "      <td>0</td>\n",
       "    </tr>\n",
       "    <tr>\n",
       "      <th>3</th>\n",
       "      <td>0</td>\n",
       "      <td>1</td>\n",
       "      <td>0</td>\n",
       "      <td>1</td>\n",
       "      <td>0</td>\n",
       "      <td>1</td>\n",
       "      <td>0</td>\n",
       "      <td>0</td>\n",
       "      <td>0</td>\n",
       "      <td>0</td>\n",
       "      <td>...</td>\n",
       "      <td>1</td>\n",
       "      <td>0</td>\n",
       "      <td>0</td>\n",
       "      <td>0</td>\n",
       "      <td>0</td>\n",
       "      <td>0</td>\n",
       "      <td>0</td>\n",
       "      <td>0</td>\n",
       "      <td>0</td>\n",
       "      <td>0</td>\n",
       "    </tr>\n",
       "    <tr>\n",
       "      <th>4</th>\n",
       "      <td>1</td>\n",
       "      <td>0</td>\n",
       "      <td>1</td>\n",
       "      <td>0</td>\n",
       "      <td>0</td>\n",
       "      <td>1</td>\n",
       "      <td>0</td>\n",
       "      <td>0</td>\n",
       "      <td>0</td>\n",
       "      <td>0</td>\n",
       "      <td>...</td>\n",
       "      <td>0</td>\n",
       "      <td>1</td>\n",
       "      <td>0</td>\n",
       "      <td>0</td>\n",
       "      <td>1</td>\n",
       "      <td>0</td>\n",
       "      <td>0</td>\n",
       "      <td>0</td>\n",
       "      <td>0</td>\n",
       "      <td>0</td>\n",
       "    </tr>\n",
       "  </tbody>\n",
       "</table>\n",
       "<p>5 rows × 25 columns</p>\n",
       "</div>"
      ],
      "text/plain": [
       "   repeat_patient_yn  gender_yn  same_day_appt_yn  within_week_appt_yn  \\\n",
       "0                  1          0                 1                    0   \n",
       "1                  0          0                 1                    0   \n",
       "2                  1          0                 1                    0   \n",
       "3                  0          1                 0                    1   \n",
       "4                  1          0                 1                    0   \n",
       "\n",
       "   advanced_appt_yn  monday_yn  tuesday_yn  wednesday_yn  thursday_yn  \\\n",
       "0                 0          1           0             0            0   \n",
       "1                 0          1           0             0            0   \n",
       "2                 0          1           0             0            0   \n",
       "3                 0          1           0             0            0   \n",
       "4                 0          1           0             0            0   \n",
       "\n",
       "   friday_yn  ...  child_yn  young_adult_yn  adult_yn  senior_yn  \\\n",
       "0          0  ...         0               0         0          1   \n",
       "1          0  ...         0               1         0          0   \n",
       "2          0  ...         0               0         1          0   \n",
       "3          0  ...         1               0         0          0   \n",
       "4          0  ...         0               1         0          0   \n",
       "\n",
       "   welfare_assistance  hypertension  diabetes  alcoholism  handicap_yn  \\\n",
       "0                   0             0         0           0            0   \n",
       "1                   1             0         0           0            0   \n",
       "2                   0             1         0           0            0   \n",
       "3                   0             0         0           0            0   \n",
       "4                   1             0         0           0            0   \n",
       "\n",
       "   sms_received  \n",
       "0             0  \n",
       "1             0  \n",
       "2             0  \n",
       "3             0  \n",
       "4             0  \n",
       "\n",
       "[5 rows x 25 columns]"
      ]
     },
     "execution_count": 6,
     "metadata": {},
     "output_type": "execute_result"
    }
   ],
   "source": [
    "data = clean_data.drop('no_show_yn', axis=1)\n",
    "feature_names = data.columns\n",
    "data.head()"
   ]
  },
  {
   "cell_type": "markdown",
   "metadata": {},
   "source": [
    "### Split the data into training and test sets"
   ]
  },
  {
   "cell_type": "code",
   "execution_count": 7,
   "metadata": {},
   "outputs": [],
   "source": [
    "X_train, X_test, y_train, y_test = train_test_split(data, target)"
   ]
  },
  {
   "cell_type": "markdown",
   "metadata": {},
   "source": [
    "### Create a Random Forest Classifier and fit the training data and score with the test data"
   ]
  },
  {
   "cell_type": "code",
   "execution_count": 8,
   "metadata": {},
   "outputs": [
    {
     "name": "stdout",
     "output_type": "stream",
     "text": [
      "Training Data Score: 0.8101097840511521\n",
      "Testing Data Score: 0.792986138757193\n"
     ]
    }
   ],
   "source": [
    "rf = RandomForestClassifier()\n",
    "rf = rf.fit(X_train, y_train)\n",
    "print(f\"Training Data Score: {rf.score(X_train, y_train)}\")\n",
    "print(f\"Testing Data Score: {rf.score(X_test, y_test)}\")"
   ]
  },
  {
   "cell_type": "markdown",
   "metadata": {},
   "source": [
    "### Make predictions"
   ]
  },
  {
   "cell_type": "code",
   "execution_count": 9,
   "metadata": {},
   "outputs": [
    {
     "name": "stdout",
     "output_type": "stream",
     "text": [
      "First 10 Predictions:   [0 0 0 0 0 0 0 0 0 0]\n",
      "First 10 Actual labels: [0, 1, 0, 0, 1, 0, 0, 0, 0, 0]\n"
     ]
    }
   ],
   "source": [
    "predictions = rf.predict(X_test)\n",
    "print(f\"First 10 Predictions:   {predictions[:10]}\")\n",
    "print(f\"First 10 Actual labels: {y_test[:10].tolist()}\")"
   ]
  },
  {
   "cell_type": "markdown",
   "metadata": {},
   "source": [
    "### View predictions along with their probabilities of being within each class"
   ]
  },
  {
   "cell_type": "code",
   "execution_count": 10,
   "metadata": {},
   "outputs": [
    {
     "data": {
      "text/html": [
       "<div>\n",
       "<style scoped>\n",
       "    .dataframe tbody tr th:only-of-type {\n",
       "        vertical-align: middle;\n",
       "    }\n",
       "\n",
       "    .dataframe tbody tr th {\n",
       "        vertical-align: top;\n",
       "    }\n",
       "\n",
       "    .dataframe thead th {\n",
       "        text-align: right;\n",
       "    }\n",
       "</style>\n",
       "<table border=\"1\" class=\"dataframe\">\n",
       "  <thead>\n",
       "    <tr style=\"text-align: right;\">\n",
       "      <th></th>\n",
       "      <th>Prediction</th>\n",
       "      <th>Actual</th>\n",
       "      <th>P(Show)</th>\n",
       "      <th>P(Noshow)</th>\n",
       "    </tr>\n",
       "  </thead>\n",
       "  <tbody>\n",
       "    <tr>\n",
       "      <th>0</th>\n",
       "      <td>0</td>\n",
       "      <td>0</td>\n",
       "      <td>0.886897</td>\n",
       "      <td>0.113103</td>\n",
       "    </tr>\n",
       "    <tr>\n",
       "      <th>1</th>\n",
       "      <td>0</td>\n",
       "      <td>1</td>\n",
       "      <td>0.769165</td>\n",
       "      <td>0.230835</td>\n",
       "    </tr>\n",
       "    <tr>\n",
       "      <th>2</th>\n",
       "      <td>0</td>\n",
       "      <td>0</td>\n",
       "      <td>0.770441</td>\n",
       "      <td>0.229559</td>\n",
       "    </tr>\n",
       "    <tr>\n",
       "      <th>3</th>\n",
       "      <td>0</td>\n",
       "      <td>0</td>\n",
       "      <td>0.680064</td>\n",
       "      <td>0.319936</td>\n",
       "    </tr>\n",
       "    <tr>\n",
       "      <th>4</th>\n",
       "      <td>0</td>\n",
       "      <td>1</td>\n",
       "      <td>0.840374</td>\n",
       "      <td>0.159626</td>\n",
       "    </tr>\n",
       "    <tr>\n",
       "      <th>5</th>\n",
       "      <td>0</td>\n",
       "      <td>0</td>\n",
       "      <td>0.969338</td>\n",
       "      <td>0.030662</td>\n",
       "    </tr>\n",
       "    <tr>\n",
       "      <th>6</th>\n",
       "      <td>0</td>\n",
       "      <td>0</td>\n",
       "      <td>0.929412</td>\n",
       "      <td>0.070588</td>\n",
       "    </tr>\n",
       "    <tr>\n",
       "      <th>7</th>\n",
       "      <td>0</td>\n",
       "      <td>0</td>\n",
       "      <td>1.000000</td>\n",
       "      <td>0.000000</td>\n",
       "    </tr>\n",
       "    <tr>\n",
       "      <th>8</th>\n",
       "      <td>0</td>\n",
       "      <td>0</td>\n",
       "      <td>0.761737</td>\n",
       "      <td>0.238263</td>\n",
       "    </tr>\n",
       "    <tr>\n",
       "      <th>9</th>\n",
       "      <td>0</td>\n",
       "      <td>0</td>\n",
       "      <td>0.605882</td>\n",
       "      <td>0.394118</td>\n",
       "    </tr>\n",
       "  </tbody>\n",
       "</table>\n",
       "</div>"
      ],
      "text/plain": [
       "   Prediction  Actual   P(Show)  P(Noshow)\n",
       "0           0       0  0.886897   0.113103\n",
       "1           0       1  0.769165   0.230835\n",
       "2           0       0  0.770441   0.229559\n",
       "3           0       0  0.680064   0.319936\n",
       "4           0       1  0.840374   0.159626\n",
       "5           0       0  0.969338   0.030662\n",
       "6           0       0  0.929412   0.070588\n",
       "7           0       0  1.000000   0.000000\n",
       "8           0       0  0.761737   0.238263\n",
       "9           0       0  0.605882   0.394118"
      ]
     },
     "execution_count": 10,
     "metadata": {},
     "output_type": "execute_result"
    }
   ],
   "source": [
    "probs = rf.predict_proba(X_test)\n",
    "pred_df = pd.DataFrame({\n",
    "    \"Prediction\": predictions, \n",
    "    \"Actual\": y_test, \n",
    "    \"P(Show)\": [p[0] for p in probs], \n",
    "    \"P(Noshow)\": [p[1] for p in probs]\n",
    "    }).reset_index(drop=True)\n",
    "\n",
    "pred_df.head(10)"
   ]
  },
  {
   "cell_type": "markdown",
   "metadata": {},
   "source": [
    "### Create a Confusion Matrix"
   ]
  },
  {
   "cell_type": "code",
   "execution_count": 11,
   "metadata": {},
   "outputs": [
    {
     "data": {
      "text/plain": [
       "array([[21568,   523],\n",
       "       [ 5197,   343]])"
      ]
     },
     "execution_count": 11,
     "metadata": {},
     "output_type": "execute_result"
    }
   ],
   "source": [
    "confusion_matrix(y_test,predictions)"
   ]
  },
  {
   "cell_type": "markdown",
   "metadata": {},
   "source": [
    "### Label the Confusion Matrix"
   ]
  },
  {
   "cell_type": "code",
   "execution_count": 12,
   "metadata": {},
   "outputs": [
    {
     "name": "stdout",
     "output_type": "stream",
     "text": [
      "True Neg: 21568   False Pos: 523\n",
      "False Neg: 5197  True Pos: 343\n"
     ]
    }
   ],
   "source": [
    "tn, fp, fn, tp = confusion_matrix(y_test, predictions).ravel()\n",
    "print(f\"True Neg: {tn}   False Pos: {fp}\")\n",
    "print(f\"False Neg: {fn}  True Pos: {tp}\")"
   ]
  },
  {
   "cell_type": "markdown",
   "metadata": {},
   "source": [
    "### Plot Confusion Matrix of test data\n",
    "Check out matrix of true positives, true negatives, false positives, and false negatives"
   ]
  },
  {
   "cell_type": "code",
   "execution_count": 13,
   "metadata": {},
   "outputs": [
    {
     "data": {
      "text/plain": [
       "Text(0.5, 1.0, 'Original Dataset Confusion Matrix')"
      ]
     },
     "execution_count": 13,
     "metadata": {},
     "output_type": "execute_result"
    },
    {
     "data": {
      "image/png": "[encoded data removed]",
      "text/plain": [
       "<Figure size 432x288 with 2 Axes>"
      ]
     },
     "metadata": {
      "needs_background": "light"
     },
     "output_type": "display_data"
    }
   ],
   "source": [
    "plot_confusion_matrix(rf, X_test, y_test, cmap=plt.cm.Blues, values_format='.5g')\n",
    "plt.title('Original Dataset Confusion Matrix')"
   ]
  },
  {
   "cell_type": "code",
   "execution_count": 14,
   "metadata": {},
   "outputs": [
    {
     "name": "stdout",
     "output_type": "stream",
     "text": [
      "Accuracy: 0.792986138757193\n",
      "Precision: 0.3960739030023095\n",
      "Recall: 0.06191335740072202\n",
      "Matthews Correlation Coefficient: 0.08786613096558017\n"
     ]
    }
   ],
   "source": [
    "# evaluate the model using model evaluation metrics\n",
    "print(\"Accuracy:\",metrics.accuracy_score(y_test, predictions))\n",
    "print(\"Precision:\",metrics.precision_score(y_test, predictions))\n",
    "print(\"Recall:\",metrics.recall_score(y_test, predictions))\n",
    "print(\"Matthews Correlation Coefficient:\", matthews_corrcoef(y_test, predictions))"
   ]
  },
  {
   "cell_type": "markdown",
   "metadata": {},
   "source": [
    "### ROC Curve"
   ]
  },
  {
   "cell_type": "code",
   "execution_count": 15,
   "metadata": {},
   "outputs": [
    {
     "data": {
      "image/png": "[encoded data removed]",
      "text/plain": [
       "<Figure size 576x576 with 1 Axes>"
      ]
     },
     "metadata": {
      "needs_background": "light"
     },
     "output_type": "display_data"
    }
   ],
   "source": [
    "plt.figure(figsize=(8,8))\n",
    "predictions_proba = rf.predict_proba(X_test)[::,1]\n",
    "fpr, tpr, _ = metrics.roc_curve(y_test,  predictions_proba)\n",
    "auc = metrics.roc_auc_score(y_test, predictions_proba)\n",
    "plt.title('Original Dataset ROC Curve')\n",
    "plt.plot(fpr, tpr, 'b', label=\"AUC: {:.3f}\".format(auc))\n",
    "plt.legend(loc='lower right')\n",
    "plt.plot([0,1],[0,1],'r--')\n",
    "plt.xlim([0,1])\n",
    "plt.ylim([0,1])\n",
    "plt.ylabel('True Positive Rate')\n",
    "plt.xlabel('False Positive Rate')\n",
    "plt.grid()\n",
    "plt.tight_layout()\n",
    "\n",
    "plt.savefig('ROC_RF_original.png')\n",
    "\n",
    "plt.show()\n"
   ]
  },
  {
   "cell_type": "markdown",
   "metadata": {},
   "source": [
    "### View features by importance"
   ]
  },
  {
   "cell_type": "code",
   "execution_count": 16,
   "metadata": {},
   "outputs": [
    {
     "data": {
      "text/plain": [
       "[(0.2264496066001097, 'same_day_appt_yn'),\n",
       " (0.1287542344234225, 'advanced_appt_yn'),\n",
       " (0.06909930790123903, 'gender_yn'),\n",
       " (0.0629711254309736, 'sms_received'),\n",
       " (0.06218612053612564, 'repeat_patient_yn'),\n",
       " (0.04269826530477741, 'within_week_appt_yn'),\n",
       " (0.040042378899222096, 'welfare_assistance'),\n",
       " (0.03910525471073082, 'diabetes'),\n",
       " (0.0358816535974877, 'hypertension'),\n",
       " (0.030016536226147635, 'handicap_yn'),\n",
       " (0.02822634735554026, 'alcoholism'),\n",
       " (0.02413559136719704, 'senior_yn'),\n",
       " (0.021291036940519308, 'wednesday_yn'),\n",
       " (0.020976798316673574, 'monday_yn'),\n",
       " (0.020803407728762987, 'tuesday_yn'),\n",
       " (0.01946478302405659, 'friday_yn'),\n",
       " (0.018445507489767157, 'neighborhood_income_lower_yn'),\n",
       " (0.017932592826880894, 'thursday_yn'),\n",
       " (0.017571738110905663, 'day_after_holiday_yn'),\n",
       " (0.016417838273186307, 'neigborhood_income_higher_yn'),\n",
       " (0.015385213567797784, 'young_adult_yn'),\n",
       " (0.014183282021011084, 'adult_yn'),\n",
       " (0.014150534165839956, 'neighborhood_income_middle_yn'),\n",
       " (0.012568504916362931, 'child_yn'),\n",
       " (0.0012423402652624051, 'saturday_yn')]"
      ]
     },
     "execution_count": 16,
     "metadata": {},
     "output_type": "execute_result"
    }
   ],
   "source": [
    "results = sorted(zip(rf.feature_importances_, feature_names), reverse=True)\n",
    "results"
   ]
  },
  {
   "cell_type": "code",
   "execution_count": 17,
   "metadata": {},
   "outputs": [
    {
     "data": {
      "text/html": [
       "<div>\n",
       "<style scoped>\n",
       "    .dataframe tbody tr th:only-of-type {\n",
       "        vertical-align: middle;\n",
       "    }\n",
       "\n",
       "    .dataframe tbody tr th {\n",
       "        vertical-align: top;\n",
       "    }\n",
       "\n",
       "    .dataframe thead th {\n",
       "        text-align: right;\n",
       "    }\n",
       "</style>\n",
       "<table border=\"1\" class=\"dataframe\">\n",
       "  <thead>\n",
       "    <tr style=\"text-align: right;\">\n",
       "      <th></th>\n",
       "      <th>feature_importances</th>\n",
       "      <th>feature_names</th>\n",
       "    </tr>\n",
       "  </thead>\n",
       "  <tbody>\n",
       "    <tr>\n",
       "      <th>0</th>\n",
       "      <td>0.226450</td>\n",
       "      <td>same_day_appt_yn</td>\n",
       "    </tr>\n",
       "    <tr>\n",
       "      <th>1</th>\n",
       "      <td>0.128754</td>\n",
       "      <td>advanced_appt_yn</td>\n",
       "    </tr>\n",
       "    <tr>\n",
       "      <th>2</th>\n",
       "      <td>0.069099</td>\n",
       "      <td>gender_yn</td>\n",
       "    </tr>\n",
       "    <tr>\n",
       "      <th>3</th>\n",
       "      <td>0.062971</td>\n",
       "      <td>sms_received</td>\n",
       "    </tr>\n",
       "    <tr>\n",
       "      <th>4</th>\n",
       "      <td>0.062186</td>\n",
       "      <td>repeat_patient_yn</td>\n",
       "    </tr>\n",
       "    <tr>\n",
       "      <th>5</th>\n",
       "      <td>0.042698</td>\n",
       "      <td>within_week_appt_yn</td>\n",
       "    </tr>\n",
       "    <tr>\n",
       "      <th>6</th>\n",
       "      <td>0.040042</td>\n",
       "      <td>welfare_assistance</td>\n",
       "    </tr>\n",
       "    <tr>\n",
       "      <th>7</th>\n",
       "      <td>0.039105</td>\n",
       "      <td>diabetes</td>\n",
       "    </tr>\n",
       "    <tr>\n",
       "      <th>8</th>\n",
       "      <td>0.035882</td>\n",
       "      <td>hypertension</td>\n",
       "    </tr>\n",
       "    <tr>\n",
       "      <th>9</th>\n",
       "      <td>0.030017</td>\n",
       "      <td>handicap_yn</td>\n",
       "    </tr>\n",
       "    <tr>\n",
       "      <th>10</th>\n",
       "      <td>0.028226</td>\n",
       "      <td>alcoholism</td>\n",
       "    </tr>\n",
       "    <tr>\n",
       "      <th>11</th>\n",
       "      <td>0.024136</td>\n",
       "      <td>senior_yn</td>\n",
       "    </tr>\n",
       "    <tr>\n",
       "      <th>12</th>\n",
       "      <td>0.021291</td>\n",
       "      <td>wednesday_yn</td>\n",
       "    </tr>\n",
       "    <tr>\n",
       "      <th>13</th>\n",
       "      <td>0.020977</td>\n",
       "      <td>monday_yn</td>\n",
       "    </tr>\n",
       "    <tr>\n",
       "      <th>14</th>\n",
       "      <td>0.020803</td>\n",
       "      <td>tuesday_yn</td>\n",
       "    </tr>\n",
       "    <tr>\n",
       "      <th>15</th>\n",
       "      <td>0.019465</td>\n",
       "      <td>friday_yn</td>\n",
       "    </tr>\n",
       "    <tr>\n",
       "      <th>16</th>\n",
       "      <td>0.018446</td>\n",
       "      <td>neighborhood_income_lower_yn</td>\n",
       "    </tr>\n",
       "    <tr>\n",
       "      <th>17</th>\n",
       "      <td>0.017933</td>\n",
       "      <td>thursday_yn</td>\n",
       "    </tr>\n",
       "    <tr>\n",
       "      <th>18</th>\n",
       "      <td>0.017572</td>\n",
       "      <td>day_after_holiday_yn</td>\n",
       "    </tr>\n",
       "    <tr>\n",
       "      <th>19</th>\n",
       "      <td>0.016418</td>\n",
       "      <td>neigborhood_income_higher_yn</td>\n",
       "    </tr>\n",
       "    <tr>\n",
       "      <th>20</th>\n",
       "      <td>0.015385</td>\n",
       "      <td>young_adult_yn</td>\n",
       "    </tr>\n",
       "    <tr>\n",
       "      <th>21</th>\n",
       "      <td>0.014183</td>\n",
       "      <td>adult_yn</td>\n",
       "    </tr>\n",
       "    <tr>\n",
       "      <th>22</th>\n",
       "      <td>0.014151</td>\n",
       "      <td>neighborhood_income_middle_yn</td>\n",
       "    </tr>\n",
       "    <tr>\n",
       "      <th>23</th>\n",
       "      <td>0.012569</td>\n",
       "      <td>child_yn</td>\n",
       "    </tr>\n",
       "    <tr>\n",
       "      <th>24</th>\n",
       "      <td>0.001242</td>\n",
       "      <td>saturday_yn</td>\n",
       "    </tr>\n",
       "  </tbody>\n",
       "</table>\n",
       "</div>"
      ],
      "text/plain": [
       "    feature_importances                  feature_names\n",
       "0              0.226450               same_day_appt_yn\n",
       "1              0.128754               advanced_appt_yn\n",
       "2              0.069099                      gender_yn\n",
       "3              0.062971                   sms_received\n",
       "4              0.062186              repeat_patient_yn\n",
       "5              0.042698            within_week_appt_yn\n",
       "6              0.040042             welfare_assistance\n",
       "7              0.039105                       diabetes\n",
       "8              0.035882                   hypertension\n",
       "9              0.030017                    handicap_yn\n",
       "10             0.028226                     alcoholism\n",
       "11             0.024136                      senior_yn\n",
       "12             0.021291                   wednesday_yn\n",
       "13             0.020977                      monday_yn\n",
       "14             0.020803                     tuesday_yn\n",
       "15             0.019465                      friday_yn\n",
       "16             0.018446   neighborhood_income_lower_yn\n",
       "17             0.017933                    thursday_yn\n",
       "18             0.017572           day_after_holiday_yn\n",
       "19             0.016418   neigborhood_income_higher_yn\n",
       "20             0.015385                 young_adult_yn\n",
       "21             0.014183                       adult_yn\n",
       "22             0.014151  neighborhood_income_middle_yn\n",
       "23             0.012569                       child_yn\n",
       "24             0.001242                    saturday_yn"
      ]
     },
     "execution_count": 17,
     "metadata": {},
     "output_type": "execute_result"
    }
   ],
   "source": [
    "RFresults_df = pd.DataFrame(results, columns=['feature_importances','feature_names'])\n",
    "RFresults_df = RFresults_df.sort_values(by='feature_importances', ascending=False)\n",
    "RFresults_df"
   ]
  },
  {
   "cell_type": "markdown",
   "metadata": {},
   "source": [
    "### Export model results to csv"
   ]
  },
  {
   "cell_type": "code",
   "execution_count": 18,
   "metadata": {},
   "outputs": [],
   "source": [
    "RFresults_df.to_csv('../data/cleanData/modelResults/RFresults.csv', index = False, header=True)"
   ]
  },
  {
   "cell_type": "code",
   "execution_count": 19,
   "metadata": {},
   "outputs": [
    {
     "data": {
      "text/html": [
       "<div>\n",
       "<style scoped>\n",
       "    .dataframe tbody tr th:only-of-type {\n",
       "        vertical-align: middle;\n",
       "    }\n",
       "\n",
       "    .dataframe tbody tr th {\n",
       "        vertical-align: top;\n",
       "    }\n",
       "\n",
       "    .dataframe thead th {\n",
       "        text-align: right;\n",
       "    }\n",
       "</style>\n",
       "<table border=\"1\" class=\"dataframe\">\n",
       "  <thead>\n",
       "    <tr style=\"text-align: right;\">\n",
       "      <th></th>\n",
       "      <th>feature_importances</th>\n",
       "    </tr>\n",
       "    <tr>\n",
       "      <th>feature_names</th>\n",
       "      <th></th>\n",
       "    </tr>\n",
       "  </thead>\n",
       "  <tbody>\n",
       "    <tr>\n",
       "      <th>same_day_appt_yn</th>\n",
       "      <td>0.226450</td>\n",
       "    </tr>\n",
       "    <tr>\n",
       "      <th>advanced_appt_yn</th>\n",
       "      <td>0.128754</td>\n",
       "    </tr>\n",
       "    <tr>\n",
       "      <th>gender_yn</th>\n",
       "      <td>0.069099</td>\n",
       "    </tr>\n",
       "    <tr>\n",
       "      <th>sms_received</th>\n",
       "      <td>0.062971</td>\n",
       "    </tr>\n",
       "    <tr>\n",
       "      <th>repeat_patient_yn</th>\n",
       "      <td>0.062186</td>\n",
       "    </tr>\n",
       "    <tr>\n",
       "      <th>within_week_appt_yn</th>\n",
       "      <td>0.042698</td>\n",
       "    </tr>\n",
       "    <tr>\n",
       "      <th>welfare_assistance</th>\n",
       "      <td>0.040042</td>\n",
       "    </tr>\n",
       "    <tr>\n",
       "      <th>diabetes</th>\n",
       "      <td>0.039105</td>\n",
       "    </tr>\n",
       "    <tr>\n",
       "      <th>hypertension</th>\n",
       "      <td>0.035882</td>\n",
       "    </tr>\n",
       "    <tr>\n",
       "      <th>handicap_yn</th>\n",
       "      <td>0.030017</td>\n",
       "    </tr>\n",
       "    <tr>\n",
       "      <th>alcoholism</th>\n",
       "      <td>0.028226</td>\n",
       "    </tr>\n",
       "    <tr>\n",
       "      <th>senior_yn</th>\n",
       "      <td>0.024136</td>\n",
       "    </tr>\n",
       "    <tr>\n",
       "      <th>wednesday_yn</th>\n",
       "      <td>0.021291</td>\n",
       "    </tr>\n",
       "    <tr>\n",
       "      <th>monday_yn</th>\n",
       "      <td>0.020977</td>\n",
       "    </tr>\n",
       "    <tr>\n",
       "      <th>tuesday_yn</th>\n",
       "      <td>0.020803</td>\n",
       "    </tr>\n",
       "    <tr>\n",
       "      <th>friday_yn</th>\n",
       "      <td>0.019465</td>\n",
       "    </tr>\n",
       "    <tr>\n",
       "      <th>neighborhood_income_lower_yn</th>\n",
       "      <td>0.018446</td>\n",
       "    </tr>\n",
       "    <tr>\n",
       "      <th>thursday_yn</th>\n",
       "      <td>0.017933</td>\n",
       "    </tr>\n",
       "    <tr>\n",
       "      <th>day_after_holiday_yn</th>\n",
       "      <td>0.017572</td>\n",
       "    </tr>\n",
       "    <tr>\n",
       "      <th>neigborhood_income_higher_yn</th>\n",
       "      <td>0.016418</td>\n",
       "    </tr>\n",
       "    <tr>\n",
       "      <th>young_adult_yn</th>\n",
       "      <td>0.015385</td>\n",
       "    </tr>\n",
       "    <tr>\n",
       "      <th>adult_yn</th>\n",
       "      <td>0.014183</td>\n",
       "    </tr>\n",
       "    <tr>\n",
       "      <th>neighborhood_income_middle_yn</th>\n",
       "      <td>0.014151</td>\n",
       "    </tr>\n",
       "    <tr>\n",
       "      <th>child_yn</th>\n",
       "      <td>0.012569</td>\n",
       "    </tr>\n",
       "    <tr>\n",
       "      <th>saturday_yn</th>\n",
       "      <td>0.001242</td>\n",
       "    </tr>\n",
       "  </tbody>\n",
       "</table>\n",
       "</div>"
      ],
      "text/plain": [
       "                               feature_importances\n",
       "feature_names                                     \n",
       "same_day_appt_yn                          0.226450\n",
       "advanced_appt_yn                          0.128754\n",
       "gender_yn                                 0.069099\n",
       "sms_received                              0.062971\n",
       "repeat_patient_yn                         0.062186\n",
       "within_week_appt_yn                       0.042698\n",
       "welfare_assistance                        0.040042\n",
       "diabetes                                  0.039105\n",
       "hypertension                              0.035882\n",
       "handicap_yn                               0.030017\n",
       "alcoholism                                0.028226\n",
       "senior_yn                                 0.024136\n",
       "wednesday_yn                              0.021291\n",
       "monday_yn                                 0.020977\n",
       "tuesday_yn                                0.020803\n",
       "friday_yn                                 0.019465\n",
       "neighborhood_income_lower_yn              0.018446\n",
       "thursday_yn                               0.017933\n",
       "day_after_holiday_yn                      0.017572\n",
       "neigborhood_income_higher_yn              0.016418\n",
       "young_adult_yn                            0.015385\n",
       "adult_yn                                  0.014183\n",
       "neighborhood_income_middle_yn             0.014151\n",
       "child_yn                                  0.012569\n",
       "saturday_yn                               0.001242"
      ]
     },
     "execution_count": 19,
     "metadata": {},
     "output_type": "execute_result"
    }
   ],
   "source": [
    "RFresults_df=RFresults_df.set_index('feature_names')\n",
    "\n",
    "RFresults_df"
   ]
  },
  {
   "cell_type": "markdown",
   "metadata": {},
   "source": [
    "### Plot Feature Importance"
   ]
  },
  {
   "cell_type": "code",
   "execution_count": 20,
   "metadata": {},
   "outputs": [
    {
     "data": {
      "text/plain": [
       "<Figure size 432x288 with 0 Axes>"
      ]
     },
     "metadata": {},
     "output_type": "display_data"
    },
    {
     "data": {
      "image/png": "[encoded data removed]",
      "text/plain": [
       "<Figure size 720x504 with 1 Axes>"
      ]
     },
     "metadata": {
      "needs_background": "light"
     },
     "output_type": "display_data"
    }
   ],
   "source": [
    "plt.figure()\n",
    "RFresults_df.plot(kind=\"bar\", legend=False, figsize=(10, 7))\n",
    "plt.title(\"Random Forest Model Feature Relevance\")\n",
    "plt.ylabel(\"Weight\")\n",
    "plt.xlabel(\"Features\")\n",
    "# plt.yscale(\"log\")\n",
    "plt.grid(axis=\"y\", color=\"k\", linestyle=\"--\")\n",
    "plt.tight_layout()\n",
    "plt.savefig(\"feature_relevance_RF_original.png\")\n",
    "\n",
    "plt.show()\n"
   ]
  },
  {
   "cell_type": "code",
   "execution_count": null,
   "metadata": {},
   "outputs": [],
   "source": []
  },
  {
   "cell_type": "code",
   "execution_count": null,
   "metadata": {},
   "outputs": [],
   "source": []
  }
 ],
 "metadata": {
  "kernelspec": {
   "display_name": "Python 3",
   "language": "python",
   "name": "python3"
  },
  "language_info": {
   "codemirror_mode": {
    "name": "ipython",
    "version": 3
   },
   "file_extension": ".py",
   "mimetype": "text/x-python",
   "name": "python",
   "nbconvert_exporter": "python",
   "pygments_lexer": "ipython3",
   "version": "3.7.3"
  }
 },
 "nbformat": 4,
 "nbformat_minor": 2
}
