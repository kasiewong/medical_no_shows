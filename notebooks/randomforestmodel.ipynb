{
 "cells": [
  {
   "cell_type": "markdown",
   "metadata": {},
   "source": [
    "# Random Forest Classification Model - Medical No Shows"
   ]
  },
  {
   "cell_type": "markdown",
   "metadata": {},
   "source": [
    "### Import Dependencies"
   ]
  },
  {
   "cell_type": "code",
   "execution_count": 1,
   "metadata": {},
   "outputs": [],
   "source": [
    "from sklearn import tree\n",
    "from sklearn.ensemble import RandomForestClassifier\n",
    "from sklearn.model_selection import train_test_split\n",
    "from sklearn.metrics import confusion_matrix\n",
    "from sklearn.metrics import plot_confusion_matrix\n",
    "import matplotlib.pyplot as plt\n",
    "import pandas as pd\n",
    "import os\n",
    "import warnings\n",
    "warnings.filterwarnings(\"ignore\")"
   ]
  },
  {
   "cell_type": "markdown",
   "metadata": {},
   "source": [
    "### Load Dataset for modelling"
   ]
  },
  {
   "cell_type": "code",
   "execution_count": 2,
   "metadata": {},
   "outputs": [
    {
     "name": "stdout",
     "output_type": "stream",
     "text": [
      "Shape of the data is: (110521, 29)\n"
     ]
    },
    {
     "data": {
      "text/html": [
       "<div>\n",
       "<style scoped>\n",
       "    .dataframe tbody tr th:only-of-type {\n",
       "        vertical-align: middle;\n",
       "    }\n",
       "\n",
       "    .dataframe tbody tr th {\n",
       "        vertical-align: top;\n",
       "    }\n",
       "\n",
       "    .dataframe thead th {\n",
       "        text-align: right;\n",
       "    }\n",
       "</style>\n",
       "<table border=\"1\" class=\"dataframe\">\n",
       "  <thead>\n",
       "    <tr style=\"text-align: right;\">\n",
       "      <th></th>\n",
       "      <th>appointment_id</th>\n",
       "      <th>patient_id</th>\n",
       "      <th>repeat_patient_yn</th>\n",
       "      <th>gender_yn</th>\n",
       "      <th>time_between_sch_appt</th>\n",
       "      <th>same_day_appt_yn</th>\n",
       "      <th>within_week_appt_yn</th>\n",
       "      <th>advanced_appt_yn</th>\n",
       "      <th>monday_yn</th>\n",
       "      <th>tuesday_yn</th>\n",
       "      <th>...</th>\n",
       "      <th>young_adult_yn</th>\n",
       "      <th>adult_yn</th>\n",
       "      <th>senior_yn</th>\n",
       "      <th>welfare_assistance</th>\n",
       "      <th>hypertension</th>\n",
       "      <th>diabetes</th>\n",
       "      <th>alcoholism</th>\n",
       "      <th>handicap_yn</th>\n",
       "      <th>sms_received</th>\n",
       "      <th>no_show_yn</th>\n",
       "    </tr>\n",
       "  </thead>\n",
       "  <tbody>\n",
       "    <tr>\n",
       "      <th>0</th>\n",
       "      <td>5698125</td>\n",
       "      <td>678814354693913</td>\n",
       "      <td>1</td>\n",
       "      <td>0</td>\n",
       "      <td>0</td>\n",
       "      <td>1</td>\n",
       "      <td>0</td>\n",
       "      <td>0</td>\n",
       "      <td>1</td>\n",
       "      <td>0</td>\n",
       "      <td>...</td>\n",
       "      <td>0</td>\n",
       "      <td>0</td>\n",
       "      <td>1</td>\n",
       "      <td>0</td>\n",
       "      <td>0</td>\n",
       "      <td>0</td>\n",
       "      <td>0</td>\n",
       "      <td>0</td>\n",
       "      <td>0</td>\n",
       "      <td>0</td>\n",
       "    </tr>\n",
       "    <tr>\n",
       "      <th>1</th>\n",
       "      <td>5698246</td>\n",
       "      <td>54593736353128</td>\n",
       "      <td>0</td>\n",
       "      <td>0</td>\n",
       "      <td>0</td>\n",
       "      <td>1</td>\n",
       "      <td>0</td>\n",
       "      <td>0</td>\n",
       "      <td>1</td>\n",
       "      <td>0</td>\n",
       "      <td>...</td>\n",
       "      <td>1</td>\n",
       "      <td>0</td>\n",
       "      <td>0</td>\n",
       "      <td>1</td>\n",
       "      <td>0</td>\n",
       "      <td>0</td>\n",
       "      <td>0</td>\n",
       "      <td>0</td>\n",
       "      <td>0</td>\n",
       "      <td>0</td>\n",
       "    </tr>\n",
       "    <tr>\n",
       "      <th>2</th>\n",
       "      <td>5699393</td>\n",
       "      <td>4369164743113</td>\n",
       "      <td>1</td>\n",
       "      <td>0</td>\n",
       "      <td>0</td>\n",
       "      <td>1</td>\n",
       "      <td>0</td>\n",
       "      <td>0</td>\n",
       "      <td>1</td>\n",
       "      <td>0</td>\n",
       "      <td>...</td>\n",
       "      <td>0</td>\n",
       "      <td>1</td>\n",
       "      <td>0</td>\n",
       "      <td>0</td>\n",
       "      <td>1</td>\n",
       "      <td>0</td>\n",
       "      <td>0</td>\n",
       "      <td>0</td>\n",
       "      <td>0</td>\n",
       "      <td>0</td>\n",
       "    </tr>\n",
       "    <tr>\n",
       "      <th>3</th>\n",
       "      <td>5694371</td>\n",
       "      <td>54523365344664</td>\n",
       "      <td>0</td>\n",
       "      <td>1</td>\n",
       "      <td>3</td>\n",
       "      <td>0</td>\n",
       "      <td>1</td>\n",
       "      <td>0</td>\n",
       "      <td>1</td>\n",
       "      <td>0</td>\n",
       "      <td>...</td>\n",
       "      <td>0</td>\n",
       "      <td>0</td>\n",
       "      <td>0</td>\n",
       "      <td>0</td>\n",
       "      <td>0</td>\n",
       "      <td>0</td>\n",
       "      <td>0</td>\n",
       "      <td>0</td>\n",
       "      <td>0</td>\n",
       "      <td>1</td>\n",
       "    </tr>\n",
       "    <tr>\n",
       "      <th>4</th>\n",
       "      <td>5698279</td>\n",
       "      <td>62917816238835</td>\n",
       "      <td>1</td>\n",
       "      <td>0</td>\n",
       "      <td>0</td>\n",
       "      <td>1</td>\n",
       "      <td>0</td>\n",
       "      <td>0</td>\n",
       "      <td>1</td>\n",
       "      <td>0</td>\n",
       "      <td>...</td>\n",
       "      <td>1</td>\n",
       "      <td>0</td>\n",
       "      <td>0</td>\n",
       "      <td>1</td>\n",
       "      <td>0</td>\n",
       "      <td>0</td>\n",
       "      <td>0</td>\n",
       "      <td>0</td>\n",
       "      <td>0</td>\n",
       "      <td>0</td>\n",
       "    </tr>\n",
       "  </tbody>\n",
       "</table>\n",
       "<p>5 rows × 29 columns</p>\n",
       "</div>"
      ],
      "text/plain": [
       "   appointment_id       patient_id  repeat_patient_yn  gender_yn  \\\n",
       "0         5698125  678814354693913                  1          0   \n",
       "1         5698246   54593736353128                  0          0   \n",
       "2         5699393    4369164743113                  1          0   \n",
       "3         5694371   54523365344664                  0          1   \n",
       "4         5698279   62917816238835                  1          0   \n",
       "\n",
       "   time_between_sch_appt  same_day_appt_yn  within_week_appt_yn  \\\n",
       "0                      0                 1                    0   \n",
       "1                      0                 1                    0   \n",
       "2                      0                 1                    0   \n",
       "3                      3                 0                    1   \n",
       "4                      0                 1                    0   \n",
       "\n",
       "   advanced_appt_yn  monday_yn  tuesday_yn  ...  young_adult_yn  adult_yn  \\\n",
       "0                 0          1           0  ...               0         0   \n",
       "1                 0          1           0  ...               1         0   \n",
       "2                 0          1           0  ...               0         1   \n",
       "3                 0          1           0  ...               0         0   \n",
       "4                 0          1           0  ...               1         0   \n",
       "\n",
       "   senior_yn  welfare_assistance  hypertension  diabetes  alcoholism  \\\n",
       "0          1                   0             0         0           0   \n",
       "1          0                   1             0         0           0   \n",
       "2          0                   0             1         0           0   \n",
       "3          0                   0             0         0           0   \n",
       "4          0                   1             0         0           0   \n",
       "\n",
       "   handicap_yn  sms_received  no_show_yn  \n",
       "0            0             0           0  \n",
       "1            0             0           0  \n",
       "2            0             0           0  \n",
       "3            0             0           1  \n",
       "4            0             0           0  \n",
       "\n",
       "[5 rows x 29 columns]"
      ]
     },
     "execution_count": 2,
     "metadata": {},
     "output_type": "execute_result"
    }
   ],
   "source": [
    "data = pd.read_csv('../data/cleanData/appointment_dataset.csv')\n",
    "print(f\"Shape of the data is: {data.shape}\")\n",
    "data.head()"
   ]
  },
  {
   "cell_type": "code",
   "execution_count": 3,
   "metadata": {},
   "outputs": [
    {
     "name": "stdout",
     "output_type": "stream",
     "text": [
      "<class 'pandas.core.frame.DataFrame'>\n",
      "RangeIndex: 110521 entries, 0 to 110520\n",
      "Data columns (total 29 columns):\n",
      "appointment_id                   110521 non-null int64\n",
      "patient_id                       110521 non-null int64\n",
      "repeat_patient_yn                110521 non-null int64\n",
      "gender_yn                        110521 non-null int64\n",
      "time_between_sch_appt            110521 non-null int64\n",
      "same_day_appt_yn                 110521 non-null int64\n",
      "within_week_appt_yn              110521 non-null int64\n",
      "advanced_appt_yn                 110521 non-null int64\n",
      "monday_yn                        110521 non-null int64\n",
      "tuesday_yn                       110521 non-null int64\n",
      "wednesday_yn                     110521 non-null int64\n",
      "thursday_yn                      110521 non-null int64\n",
      "friday_yn                        110521 non-null int64\n",
      "saturday_yn                      110521 non-null int64\n",
      "neighborhood_income_lower_yn     110521 non-null int64\n",
      "neighborhood_income_middle_yn    110521 non-null int64\n",
      "neigborhood_income_higher_yn     110521 non-null int64\n",
      "day_after_holiday_yn             110521 non-null int64\n",
      "child_yn                         110521 non-null int64\n",
      "young_adult_yn                   110521 non-null int64\n",
      "adult_yn                         110521 non-null int64\n",
      "senior_yn                        110521 non-null int64\n",
      "welfare_assistance               110521 non-null int64\n",
      "hypertension                     110521 non-null int64\n",
      "diabetes                         110521 non-null int64\n",
      "alcoholism                       110521 non-null int64\n",
      "handicap_yn                      110521 non-null int64\n",
      "sms_received                     110521 non-null int64\n",
      "no_show_yn                       110521 non-null int64\n",
      "dtypes: int64(29)\n",
      "memory usage: 24.5 MB\n"
     ]
    }
   ],
   "source": [
    "#check for nulls and verify that attributes for modelling are the correct datatypes\n",
    "data.info()"
   ]
  },
  {
   "cell_type": "markdown",
   "metadata": {},
   "source": [
    "### Drop irrelevent columns"
   ]
  },
  {
   "cell_type": "code",
   "execution_count": 4,
   "metadata": {},
   "outputs": [
    {
     "name": "stdout",
     "output_type": "stream",
     "text": [
      "Shape of the data is: (110521, 26)\n"
     ]
    }
   ],
   "source": [
    "clean_data = data.drop(['appointment_id', 'patient_id', 'time_between_sch_appt'], axis=1)\n",
    "\n",
    "print(f\"Shape of the data is: {clean_data.shape}\")"
   ]
  },
  {
   "cell_type": "markdown",
   "metadata": {},
   "source": [
    "### Pull our target column from the data and create a list of our outcome values"
   ]
  },
  {
   "cell_type": "code",
   "execution_count": 5,
   "metadata": {},
   "outputs": [],
   "source": [
    "target = clean_data['no_show_yn']"
   ]
  },
  {
   "cell_type": "markdown",
   "metadata": {},
   "source": [
    "### Drop the target column from our data "
   ]
  },
  {
   "cell_type": "code",
   "execution_count": 6,
   "metadata": {},
   "outputs": [
    {
     "data": {
      "text/html": [
       "<div>\n",
       "<style scoped>\n",
       "    .dataframe tbody tr th:only-of-type {\n",
       "        vertical-align: middle;\n",
       "    }\n",
       "\n",
       "    .dataframe tbody tr th {\n",
       "        vertical-align: top;\n",
       "    }\n",
       "\n",
       "    .dataframe thead th {\n",
       "        text-align: right;\n",
       "    }\n",
       "</style>\n",
       "<table border=\"1\" class=\"dataframe\">\n",
       "  <thead>\n",
       "    <tr style=\"text-align: right;\">\n",
       "      <th></th>\n",
       "      <th>repeat_patient_yn</th>\n",
       "      <th>gender_yn</th>\n",
       "      <th>same_day_appt_yn</th>\n",
       "      <th>within_week_appt_yn</th>\n",
       "      <th>advanced_appt_yn</th>\n",
       "      <th>monday_yn</th>\n",
       "      <th>tuesday_yn</th>\n",
       "      <th>wednesday_yn</th>\n",
       "      <th>thursday_yn</th>\n",
       "      <th>friday_yn</th>\n",
       "      <th>...</th>\n",
       "      <th>child_yn</th>\n",
       "      <th>young_adult_yn</th>\n",
       "      <th>adult_yn</th>\n",
       "      <th>senior_yn</th>\n",
       "      <th>welfare_assistance</th>\n",
       "      <th>hypertension</th>\n",
       "      <th>diabetes</th>\n",
       "      <th>alcoholism</th>\n",
       "      <th>handicap_yn</th>\n",
       "      <th>sms_received</th>\n",
       "    </tr>\n",
       "  </thead>\n",
       "  <tbody>\n",
       "    <tr>\n",
       "      <th>0</th>\n",
       "      <td>1</td>\n",
       "      <td>0</td>\n",
       "      <td>1</td>\n",
       "      <td>0</td>\n",
       "      <td>0</td>\n",
       "      <td>1</td>\n",
       "      <td>0</td>\n",
       "      <td>0</td>\n",
       "      <td>0</td>\n",
       "      <td>0</td>\n",
       "      <td>...</td>\n",
       "      <td>0</td>\n",
       "      <td>0</td>\n",
       "      <td>0</td>\n",
       "      <td>1</td>\n",
       "      <td>0</td>\n",
       "      <td>0</td>\n",
       "      <td>0</td>\n",
       "      <td>0</td>\n",
       "      <td>0</td>\n",
       "      <td>0</td>\n",
       "    </tr>\n",
       "    <tr>\n",
       "      <th>1</th>\n",
       "      <td>0</td>\n",
       "      <td>0</td>\n",
       "      <td>1</td>\n",
       "      <td>0</td>\n",
       "      <td>0</td>\n",
       "      <td>1</td>\n",
       "      <td>0</td>\n",
       "      <td>0</td>\n",
       "      <td>0</td>\n",
       "      <td>0</td>\n",
       "      <td>...</td>\n",
       "      <td>0</td>\n",
       "      <td>1</td>\n",
       "      <td>0</td>\n",
       "      <td>0</td>\n",
       "      <td>1</td>\n",
       "      <td>0</td>\n",
       "      <td>0</td>\n",
       "      <td>0</td>\n",
       "      <td>0</td>\n",
       "      <td>0</td>\n",
       "    </tr>\n",
       "    <tr>\n",
       "      <th>2</th>\n",
       "      <td>1</td>\n",
       "      <td>0</td>\n",
       "      <td>1</td>\n",
       "      <td>0</td>\n",
       "      <td>0</td>\n",
       "      <td>1</td>\n",
       "      <td>0</td>\n",
       "      <td>0</td>\n",
       "      <td>0</td>\n",
       "      <td>0</td>\n",
       "      <td>...</td>\n",
       "      <td>0</td>\n",
       "      <td>0</td>\n",
       "      <td>1</td>\n",
       "      <td>0</td>\n",
       "      <td>0</td>\n",
       "      <td>1</td>\n",
       "      <td>0</td>\n",
       "      <td>0</td>\n",
       "      <td>0</td>\n",
       "      <td>0</td>\n",
       "    </tr>\n",
       "    <tr>\n",
       "      <th>3</th>\n",
       "      <td>0</td>\n",
       "      <td>1</td>\n",
       "      <td>0</td>\n",
       "      <td>1</td>\n",
       "      <td>0</td>\n",
       "      <td>1</td>\n",
       "      <td>0</td>\n",
       "      <td>0</td>\n",
       "      <td>0</td>\n",
       "      <td>0</td>\n",
       "      <td>...</td>\n",
       "      <td>1</td>\n",
       "      <td>0</td>\n",
       "      <td>0</td>\n",
       "      <td>0</td>\n",
       "      <td>0</td>\n",
       "      <td>0</td>\n",
       "      <td>0</td>\n",
       "      <td>0</td>\n",
       "      <td>0</td>\n",
       "      <td>0</td>\n",
       "    </tr>\n",
       "    <tr>\n",
       "      <th>4</th>\n",
       "      <td>1</td>\n",
       "      <td>0</td>\n",
       "      <td>1</td>\n",
       "      <td>0</td>\n",
       "      <td>0</td>\n",
       "      <td>1</td>\n",
       "      <td>0</td>\n",
       "      <td>0</td>\n",
       "      <td>0</td>\n",
       "      <td>0</td>\n",
       "      <td>...</td>\n",
       "      <td>0</td>\n",
       "      <td>1</td>\n",
       "      <td>0</td>\n",
       "      <td>0</td>\n",
       "      <td>1</td>\n",
       "      <td>0</td>\n",
       "      <td>0</td>\n",
       "      <td>0</td>\n",
       "      <td>0</td>\n",
       "      <td>0</td>\n",
       "    </tr>\n",
       "  </tbody>\n",
       "</table>\n",
       "<p>5 rows × 25 columns</p>\n",
       "</div>"
      ],
      "text/plain": [
       "   repeat_patient_yn  gender_yn  same_day_appt_yn  within_week_appt_yn  \\\n",
       "0                  1          0                 1                    0   \n",
       "1                  0          0                 1                    0   \n",
       "2                  1          0                 1                    0   \n",
       "3                  0          1                 0                    1   \n",
       "4                  1          0                 1                    0   \n",
       "\n",
       "   advanced_appt_yn  monday_yn  tuesday_yn  wednesday_yn  thursday_yn  \\\n",
       "0                 0          1           0             0            0   \n",
       "1                 0          1           0             0            0   \n",
       "2                 0          1           0             0            0   \n",
       "3                 0          1           0             0            0   \n",
       "4                 0          1           0             0            0   \n",
       "\n",
       "   friday_yn  ...  child_yn  young_adult_yn  adult_yn  senior_yn  \\\n",
       "0          0  ...         0               0         0          1   \n",
       "1          0  ...         0               1         0          0   \n",
       "2          0  ...         0               0         1          0   \n",
       "3          0  ...         1               0         0          0   \n",
       "4          0  ...         0               1         0          0   \n",
       "\n",
       "   welfare_assistance  hypertension  diabetes  alcoholism  handicap_yn  \\\n",
       "0                   0             0         0           0            0   \n",
       "1                   1             0         0           0            0   \n",
       "2                   0             1         0           0            0   \n",
       "3                   0             0         0           0            0   \n",
       "4                   1             0         0           0            0   \n",
       "\n",
       "   sms_received  \n",
       "0             0  \n",
       "1             0  \n",
       "2             0  \n",
       "3             0  \n",
       "4             0  \n",
       "\n",
       "[5 rows x 25 columns]"
      ]
     },
     "execution_count": 6,
     "metadata": {},
     "output_type": "execute_result"
    }
   ],
   "source": [
    "data = clean_data.drop('no_show_yn', axis=1)\n",
    "feature_names = data.columns\n",
    "data.head()"
   ]
  },
  {
   "cell_type": "markdown",
   "metadata": {},
   "source": [
    "### Split the data into training and test sets"
   ]
  },
  {
   "cell_type": "code",
   "execution_count": 7,
   "metadata": {},
   "outputs": [],
   "source": [
    "X_train, X_test, y_train, y_test = train_test_split(data, target, random_state=3)"
   ]
  },
  {
   "cell_type": "markdown",
   "metadata": {},
   "source": [
    "### Create a Random Forest Classifier and fit the training data and score with the test data"
   ]
  },
  {
   "cell_type": "code",
   "execution_count": 8,
   "metadata": {},
   "outputs": [
    {
     "name": "stdout",
     "output_type": "stream",
     "text": [
      "Training Data Score: 0.8103510676800579\n",
      "Testing Data Score: 0.7915022981433897\n"
     ]
    }
   ],
   "source": [
    "rf = RandomForestClassifier(n_estimators=50)\n",
    "rf = rf.fit(X_train, y_train)\n",
    "print(f\"Training Data Score: {rf.score(X_train, y_train)}\")\n",
    "print(f\"Testing Data Score: {rf.score(X_test, y_test)}\")"
   ]
  },
  {
   "cell_type": "markdown",
   "metadata": {},
   "source": [
    "### Make predictions"
   ]
  },
  {
   "cell_type": "code",
   "execution_count": 9,
   "metadata": {},
   "outputs": [
    {
     "name": "stdout",
     "output_type": "stream",
     "text": [
      "First 10 Predictions:   [0 0 0 0 0 0 0 0 0 0]\n",
      "First 10 Actual labels: [0, 0, 0, 0, 0, 0, 0, 0, 0, 0]\n"
     ]
    }
   ],
   "source": [
    "predictions = rf.predict(X_test)\n",
    "print(f\"First 10 Predictions:   {predictions[:10]}\")\n",
    "print(f\"First 10 Actual labels: {y_test[:10].tolist()}\")"
   ]
  },
  {
   "cell_type": "markdown",
   "metadata": {},
   "source": [
    "### View predictions along with their probabilities of being within each class"
   ]
  },
  {
   "cell_type": "code",
   "execution_count": 10,
   "metadata": {},
   "outputs": [
    {
     "data": {
      "text/html": [
       "<div>\n",
       "<style scoped>\n",
       "    .dataframe tbody tr th:only-of-type {\n",
       "        vertical-align: middle;\n",
       "    }\n",
       "\n",
       "    .dataframe tbody tr th {\n",
       "        vertical-align: top;\n",
       "    }\n",
       "\n",
       "    .dataframe thead th {\n",
       "        text-align: right;\n",
       "    }\n",
       "</style>\n",
       "<table border=\"1\" class=\"dataframe\">\n",
       "  <thead>\n",
       "    <tr style=\"text-align: right;\">\n",
       "      <th></th>\n",
       "      <th>Prediction</th>\n",
       "      <th>Actual</th>\n",
       "      <th>P(Show)</th>\n",
       "      <th>P(Noshow)</th>\n",
       "    </tr>\n",
       "  </thead>\n",
       "  <tbody>\n",
       "    <tr>\n",
       "      <th>0</th>\n",
       "      <td>0</td>\n",
       "      <td>0</td>\n",
       "      <td>0.541333</td>\n",
       "      <td>0.458667</td>\n",
       "    </tr>\n",
       "    <tr>\n",
       "      <th>1</th>\n",
       "      <td>0</td>\n",
       "      <td>0</td>\n",
       "      <td>1.000000</td>\n",
       "      <td>0.000000</td>\n",
       "    </tr>\n",
       "    <tr>\n",
       "      <th>2</th>\n",
       "      <td>0</td>\n",
       "      <td>0</td>\n",
       "      <td>0.953576</td>\n",
       "      <td>0.046424</td>\n",
       "    </tr>\n",
       "    <tr>\n",
       "      <th>3</th>\n",
       "      <td>0</td>\n",
       "      <td>0</td>\n",
       "      <td>0.940439</td>\n",
       "      <td>0.059561</td>\n",
       "    </tr>\n",
       "    <tr>\n",
       "      <th>4</th>\n",
       "      <td>0</td>\n",
       "      <td>0</td>\n",
       "      <td>0.771412</td>\n",
       "      <td>0.228588</td>\n",
       "    </tr>\n",
       "    <tr>\n",
       "      <th>5</th>\n",
       "      <td>0</td>\n",
       "      <td>0</td>\n",
       "      <td>0.979195</td>\n",
       "      <td>0.020805</td>\n",
       "    </tr>\n",
       "    <tr>\n",
       "      <th>6</th>\n",
       "      <td>0</td>\n",
       "      <td>0</td>\n",
       "      <td>0.721585</td>\n",
       "      <td>0.278415</td>\n",
       "    </tr>\n",
       "    <tr>\n",
       "      <th>7</th>\n",
       "      <td>0</td>\n",
       "      <td>0</td>\n",
       "      <td>0.777945</td>\n",
       "      <td>0.222055</td>\n",
       "    </tr>\n",
       "    <tr>\n",
       "      <th>8</th>\n",
       "      <td>0</td>\n",
       "      <td>0</td>\n",
       "      <td>1.000000</td>\n",
       "      <td>0.000000</td>\n",
       "    </tr>\n",
       "    <tr>\n",
       "      <th>9</th>\n",
       "      <td>0</td>\n",
       "      <td>0</td>\n",
       "      <td>0.723182</td>\n",
       "      <td>0.276818</td>\n",
       "    </tr>\n",
       "  </tbody>\n",
       "</table>\n",
       "</div>"
      ],
      "text/plain": [
       "   Prediction  Actual   P(Show)  P(Noshow)\n",
       "0           0       0  0.541333   0.458667\n",
       "1           0       0  1.000000   0.000000\n",
       "2           0       0  0.953576   0.046424\n",
       "3           0       0  0.940439   0.059561\n",
       "4           0       0  0.771412   0.228588\n",
       "5           0       0  0.979195   0.020805\n",
       "6           0       0  0.721585   0.278415\n",
       "7           0       0  0.777945   0.222055\n",
       "8           0       0  1.000000   0.000000\n",
       "9           0       0  0.723182   0.276818"
      ]
     },
     "execution_count": 10,
     "metadata": {},
     "output_type": "execute_result"
    }
   ],
   "source": [
    "probs = rf.predict_proba(X_test)\n",
    "pred_df = pd.DataFrame({\n",
    "    \"Prediction\": predictions, \n",
    "    \"Actual\": y_test, \n",
    "    \"P(Show)\": [p[0] for p in probs], \n",
    "    \"P(Noshow)\": [p[1] for p in probs]\n",
    "    }).reset_index(drop=True)\n",
    "\n",
    "pred_df.head(10)"
   ]
  },
  {
   "cell_type": "markdown",
   "metadata": {},
   "source": [
    "### Create a Confusion Matrix"
   ]
  },
  {
   "cell_type": "code",
   "execution_count": 11,
   "metadata": {},
   "outputs": [
    {
     "data": {
      "text/plain": [
       "array([[21489,   558],\n",
       "       [ 5203,   381]])"
      ]
     },
     "execution_count": 11,
     "metadata": {},
     "output_type": "execute_result"
    }
   ],
   "source": [
    "confusion_matrix(y_test,predictions)"
   ]
  },
  {
   "cell_type": "markdown",
   "metadata": {},
   "source": [
    "### Label the Confusion Matrix"
   ]
  },
  {
   "cell_type": "code",
   "execution_count": 12,
   "metadata": {},
   "outputs": [
    {
     "name": "stdout",
     "output_type": "stream",
     "text": [
      "True Neg: 21489   False Pos: 558\n",
      "False Neg: 5203  True Pos: 381\n"
     ]
    }
   ],
   "source": [
    "tn, fp, fn, tp = confusion_matrix(y_test, predictions).ravel()\n",
    "print(f\"True Neg: {tn}   False Pos: {fp}\")\n",
    "print(f\"False Neg: {fn}  True Pos: {tp}\")"
   ]
  },
  {
   "cell_type": "markdown",
   "metadata": {},
   "source": [
    "### Plot Confusion Matrix of test data\n",
    "Check out matrix of true positives, true negatives, false positives, and false negatives"
   ]
  },
  {
   "cell_type": "code",
   "execution_count": 13,
   "metadata": {},
   "outputs": [
    {
     "data": {
      "text/plain": [
       "<sklearn.metrics._plot.confusion_matrix.ConfusionMatrixDisplay at 0x12c219da0>"
      ]
     },
     "execution_count": 13,
     "metadata": {},
     "output_type": "execute_result"
    },
    {
     "data": {
      "image/png": "[encoded data removed]",
      "text/plain": [
       "<Figure size 432x288 with 2 Axes>"
      ]
     },
     "metadata": {
      "needs_background": "light"
     },
     "output_type": "display_data"
    }
   ],
   "source": [
    "plot_confusion_matrix(rf, X_test, y_test, cmap=plt.cm.Blues, values_format='.5g')"
   ]
  },
  {
   "cell_type": "markdown",
   "metadata": {},
   "source": [
    "### View features by importance"
   ]
  },
  {
   "cell_type": "code",
   "execution_count": 14,
   "metadata": {},
   "outputs": [
    {
     "data": {
      "text/plain": [
       "[(0.24983862957778405, 'same_day_appt_yn'),\n",
       " (0.11243117763074627, 'advanced_appt_yn'),\n",
       " (0.06791739185123342, 'sms_received'),\n",
       " (0.0676410950869871, 'gender_yn'),\n",
       " (0.058969546275293876, 'repeat_patient_yn'),\n",
       " (0.04002836572388779, 'welfare_assistance'),\n",
       " (0.03887379392578471, 'diabetes'),\n",
       " (0.03600059301690713, 'hypertension'),\n",
       " (0.03326127131076371, 'within_week_appt_yn'),\n",
       " (0.028951900225870957, 'handicap_yn'),\n",
       " (0.02805284839762191, 'alcoholism'),\n",
       " (0.024938564117917932, 'senior_yn'),\n",
       " (0.020843233336389266, 'wednesday_yn'),\n",
       " (0.020069088322255717, 'monday_yn'),\n",
       " (0.01988358265395556, 'tuesday_yn'),\n",
       " (0.01961325565553801, 'day_after_holiday_yn'),\n",
       " (0.019271272910735958, 'friday_yn'),\n",
       " (0.018992042661976117, 'neighborhood_income_lower_yn'),\n",
       " (0.018235416401953718, 'thursday_yn'),\n",
       " (0.016320185541121798, 'neigborhood_income_higher_yn'),\n",
       " (0.01595187944095959, 'adult_yn'),\n",
       " (0.015501369649845007, 'neighborhood_income_middle_yn'),\n",
       " (0.015079556555253669, 'young_adult_yn'),\n",
       " (0.012593680725158141, 'child_yn'),\n",
       " (0.0007402590040585586, 'saturday_yn')]"
      ]
     },
     "execution_count": 14,
     "metadata": {},
     "output_type": "execute_result"
    }
   ],
   "source": [
    "results = sorted(zip(rf.feature_importances_, feature_names), reverse=True)\n",
    "results"
   ]
  },
  {
   "cell_type": "code",
   "execution_count": 15,
   "metadata": {},
   "outputs": [
    {
     "data": {
      "text/html": [
       "<div>\n",
       "<style scoped>\n",
       "    .dataframe tbody tr th:only-of-type {\n",
       "        vertical-align: middle;\n",
       "    }\n",
       "\n",
       "    .dataframe tbody tr th {\n",
       "        vertical-align: top;\n",
       "    }\n",
       "\n",
       "    .dataframe thead th {\n",
       "        text-align: right;\n",
       "    }\n",
       "</style>\n",
       "<table border=\"1\" class=\"dataframe\">\n",
       "  <thead>\n",
       "    <tr style=\"text-align: right;\">\n",
       "      <th></th>\n",
       "      <th>feature_importances</th>\n",
       "      <th>feature_names</th>\n",
       "    </tr>\n",
       "  </thead>\n",
       "  <tbody>\n",
       "    <tr>\n",
       "      <th>0</th>\n",
       "      <td>0.249839</td>\n",
       "      <td>same_day_appt_yn</td>\n",
       "    </tr>\n",
       "    <tr>\n",
       "      <th>1</th>\n",
       "      <td>0.112431</td>\n",
       "      <td>advanced_appt_yn</td>\n",
       "    </tr>\n",
       "    <tr>\n",
       "      <th>2</th>\n",
       "      <td>0.067917</td>\n",
       "      <td>sms_received</td>\n",
       "    </tr>\n",
       "    <tr>\n",
       "      <th>3</th>\n",
       "      <td>0.067641</td>\n",
       "      <td>gender_yn</td>\n",
       "    </tr>\n",
       "    <tr>\n",
       "      <th>4</th>\n",
       "      <td>0.058970</td>\n",
       "      <td>repeat_patient_yn</td>\n",
       "    </tr>\n",
       "    <tr>\n",
       "      <th>5</th>\n",
       "      <td>0.040028</td>\n",
       "      <td>welfare_assistance</td>\n",
       "    </tr>\n",
       "    <tr>\n",
       "      <th>6</th>\n",
       "      <td>0.038874</td>\n",
       "      <td>diabetes</td>\n",
       "    </tr>\n",
       "    <tr>\n",
       "      <th>7</th>\n",
       "      <td>0.036001</td>\n",
       "      <td>hypertension</td>\n",
       "    </tr>\n",
       "    <tr>\n",
       "      <th>8</th>\n",
       "      <td>0.033261</td>\n",
       "      <td>within_week_appt_yn</td>\n",
       "    </tr>\n",
       "    <tr>\n",
       "      <th>9</th>\n",
       "      <td>0.028952</td>\n",
       "      <td>handicap_yn</td>\n",
       "    </tr>\n",
       "    <tr>\n",
       "      <th>10</th>\n",
       "      <td>0.028053</td>\n",
       "      <td>alcoholism</td>\n",
       "    </tr>\n",
       "    <tr>\n",
       "      <th>11</th>\n",
       "      <td>0.024939</td>\n",
       "      <td>senior_yn</td>\n",
       "    </tr>\n",
       "    <tr>\n",
       "      <th>12</th>\n",
       "      <td>0.020843</td>\n",
       "      <td>wednesday_yn</td>\n",
       "    </tr>\n",
       "    <tr>\n",
       "      <th>13</th>\n",
       "      <td>0.020069</td>\n",
       "      <td>monday_yn</td>\n",
       "    </tr>\n",
       "    <tr>\n",
       "      <th>14</th>\n",
       "      <td>0.019884</td>\n",
       "      <td>tuesday_yn</td>\n",
       "    </tr>\n",
       "    <tr>\n",
       "      <th>15</th>\n",
       "      <td>0.019613</td>\n",
       "      <td>day_after_holiday_yn</td>\n",
       "    </tr>\n",
       "    <tr>\n",
       "      <th>16</th>\n",
       "      <td>0.019271</td>\n",
       "      <td>friday_yn</td>\n",
       "    </tr>\n",
       "    <tr>\n",
       "      <th>17</th>\n",
       "      <td>0.018992</td>\n",
       "      <td>neighborhood_income_lower_yn</td>\n",
       "    </tr>\n",
       "    <tr>\n",
       "      <th>18</th>\n",
       "      <td>0.018235</td>\n",
       "      <td>thursday_yn</td>\n",
       "    </tr>\n",
       "    <tr>\n",
       "      <th>19</th>\n",
       "      <td>0.016320</td>\n",
       "      <td>neigborhood_income_higher_yn</td>\n",
       "    </tr>\n",
       "    <tr>\n",
       "      <th>20</th>\n",
       "      <td>0.015952</td>\n",
       "      <td>adult_yn</td>\n",
       "    </tr>\n",
       "    <tr>\n",
       "      <th>21</th>\n",
       "      <td>0.015501</td>\n",
       "      <td>neighborhood_income_middle_yn</td>\n",
       "    </tr>\n",
       "    <tr>\n",
       "      <th>22</th>\n",
       "      <td>0.015080</td>\n",
       "      <td>young_adult_yn</td>\n",
       "    </tr>\n",
       "    <tr>\n",
       "      <th>23</th>\n",
       "      <td>0.012594</td>\n",
       "      <td>child_yn</td>\n",
       "    </tr>\n",
       "    <tr>\n",
       "      <th>24</th>\n",
       "      <td>0.000740</td>\n",
       "      <td>saturday_yn</td>\n",
       "    </tr>\n",
       "  </tbody>\n",
       "</table>\n",
       "</div>"
      ],
      "text/plain": [
       "    feature_importances                  feature_names\n",
       "0              0.249839               same_day_appt_yn\n",
       "1              0.112431               advanced_appt_yn\n",
       "2              0.067917                   sms_received\n",
       "3              0.067641                      gender_yn\n",
       "4              0.058970              repeat_patient_yn\n",
       "5              0.040028             welfare_assistance\n",
       "6              0.038874                       diabetes\n",
       "7              0.036001                   hypertension\n",
       "8              0.033261            within_week_appt_yn\n",
       "9              0.028952                    handicap_yn\n",
       "10             0.028053                     alcoholism\n",
       "11             0.024939                      senior_yn\n",
       "12             0.020843                   wednesday_yn\n",
       "13             0.020069                      monday_yn\n",
       "14             0.019884                     tuesday_yn\n",
       "15             0.019613           day_after_holiday_yn\n",
       "16             0.019271                      friday_yn\n",
       "17             0.018992   neighborhood_income_lower_yn\n",
       "18             0.018235                    thursday_yn\n",
       "19             0.016320   neigborhood_income_higher_yn\n",
       "20             0.015952                       adult_yn\n",
       "21             0.015501  neighborhood_income_middle_yn\n",
       "22             0.015080                 young_adult_yn\n",
       "23             0.012594                       child_yn\n",
       "24             0.000740                    saturday_yn"
      ]
     },
     "execution_count": 15,
     "metadata": {},
     "output_type": "execute_result"
    }
   ],
   "source": [
    "RFresults_df = pd.DataFrame(results, columns=['feature_importances','feature_names'])\n",
    "RFresults_df = RFresults_df.sort_values(by='feature_importances', ascending=False)\n",
    "RFresults_df"
   ]
  },
  {
   "cell_type": "markdown",
   "metadata": {},
   "source": [
    "### Export model results to csv"
   ]
  },
  {
   "cell_type": "code",
   "execution_count": 16,
   "metadata": {},
   "outputs": [],
   "source": [
    "RFresults_df.to_csv('../data/cleanData/modelResults/RFresults.csv', index = False, header=True)"
   ]
  },
  {
   "cell_type": "code",
   "execution_count": null,
   "metadata": {},
   "outputs": [],
   "source": []
  }
 ],
 "metadata": {
  "kernelspec": {
   "display_name": "Python 3",
   "language": "python",
   "name": "python3"
  },
  "language_info": {
   "codemirror_mode": {
    "name": "ipython",
    "version": 3
   },
   "file_extension": ".py",
   "mimetype": "text/x-python",
   "name": "python",
   "nbconvert_exporter": "python",
   "pygments_lexer": "ipython3",
   "version": "3.7.3"
  }
 },
 "nbformat": 4,
 "nbformat_minor": 2
}
