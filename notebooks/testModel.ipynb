{
 "cells": [
  {
   "cell_type": "markdown",
   "metadata": {},
   "source": [
    "# Testing pickle"
   ]
  },
  {
   "cell_type": "code",
   "execution_count": 7,
   "metadata": {},
   "outputs": [],
   "source": [
    "import os\n",
    "from flask import Flask, request, jsonify, render_template\n",
    "import pickle\n",
    "import pandas as pd\n",
    "import numpy as np\n",
    "from sklearn import tree\n",
    "from sklearn.ensemble import RandomForestClassifier\n",
    "from sklearn.model_selection import train_test_split"
   ]
  },
  {
   "cell_type": "code",
   "execution_count": 8,
   "metadata": {},
   "outputs": [
    {
     "name": "stdout",
     "output_type": "stream",
     "text": [
      "model loaded\n"
     ]
    }
   ],
   "source": [
    "global model\n",
    "with open('RF_model.pkl', 'rb') as f:\n",
    "    model = pickle.load(f)\n",
    "    print(\"model loaded\")"
   ]
  },
  {
   "cell_type": "code",
   "execution_count": 9,
   "metadata": {},
   "outputs": [],
   "source": [
    "test_case = {'repeat_patient_yn': 1, 'gender_yn': 0, 'same_day_appt_yn': 1, 'within_week_appt_yn': 0, 'advanced_appt_yn': 0, 'monday_yn': 1, 'tuesday_yn': 0, 'wednesday_yn': 0, 'thursday_yn': 0, 'friday_yn': 0, 'saturday_yn': 0,'neighborhood_income_lower_yn': 1, 'neighborhood_income_middle_yn': 0, 'neigborhood_income_higher_yn': 0, 'day_after_holiday_yn': 0, 'child_yn': 0, 'young_adult_yn': 0, 'adult_yn': 0, 'senior_yn': 1, 'welfare_assistance': 0, 'hypertension': 0, 'diabetes': 0, 'alcoholism': 0, 'handicap_yn': 0, 'sms_received': 0} "
   ]
  },
  {
   "cell_type": "code",
   "execution_count": 21,
   "metadata": {},
   "outputs": [
    {
     "data": {
      "text/html": [
       "<div>\n",
       "<style scoped>\n",
       "    .dataframe tbody tr th:only-of-type {\n",
       "        vertical-align: middle;\n",
       "    }\n",
       "\n",
       "    .dataframe tbody tr th {\n",
       "        vertical-align: top;\n",
       "    }\n",
       "\n",
       "    .dataframe thead th {\n",
       "        text-align: right;\n",
       "    }\n",
       "</style>\n",
       "<table border=\"1\" class=\"dataframe\">\n",
       "  <thead>\n",
       "    <tr style=\"text-align: right;\">\n",
       "      <th></th>\n",
       "      <th>adult_yn</th>\n",
       "      <th>advanced_appt_yn</th>\n",
       "      <th>alcoholism</th>\n",
       "      <th>child_yn</th>\n",
       "      <th>day_after_holiday_yn</th>\n",
       "      <th>diabetes</th>\n",
       "      <th>friday_yn</th>\n",
       "      <th>gender_yn</th>\n",
       "      <th>handicap_yn</th>\n",
       "      <th>hypertension</th>\n",
       "      <th>...</th>\n",
       "      <th>same_day_appt_yn</th>\n",
       "      <th>saturday_yn</th>\n",
       "      <th>senior_yn</th>\n",
       "      <th>sms_received</th>\n",
       "      <th>thursday_yn</th>\n",
       "      <th>tuesday_yn</th>\n",
       "      <th>wednesday_yn</th>\n",
       "      <th>welfare_assistance</th>\n",
       "      <th>within_week_appt_yn</th>\n",
       "      <th>young_adult_yn</th>\n",
       "    </tr>\n",
       "  </thead>\n",
       "  <tbody>\n",
       "    <tr>\n",
       "      <th>0</th>\n",
       "      <td>0</td>\n",
       "      <td>0</td>\n",
       "      <td>0</td>\n",
       "      <td>0</td>\n",
       "      <td>0</td>\n",
       "      <td>0</td>\n",
       "      <td>0</td>\n",
       "      <td>0</td>\n",
       "      <td>0</td>\n",
       "      <td>0</td>\n",
       "      <td>...</td>\n",
       "      <td>1</td>\n",
       "      <td>0</td>\n",
       "      <td>1</td>\n",
       "      <td>0</td>\n",
       "      <td>0</td>\n",
       "      <td>0</td>\n",
       "      <td>0</td>\n",
       "      <td>0</td>\n",
       "      <td>0</td>\n",
       "      <td>0</td>\n",
       "    </tr>\n",
       "  </tbody>\n",
       "</table>\n",
       "<p>1 rows × 25 columns</p>\n",
       "</div>"
      ],
      "text/plain": [
       "   adult_yn  advanced_appt_yn  alcoholism  child_yn  day_after_holiday_yn  \\\n",
       "0         0                 0           0         0                     0   \n",
       "\n",
       "   diabetes  friday_yn  gender_yn  handicap_yn  hypertension  ...  \\\n",
       "0         0          0          0            0             0  ...   \n",
       "\n",
       "   same_day_appt_yn  saturday_yn  senior_yn  sms_received  thursday_yn  \\\n",
       "0                 1            0          1             0            0   \n",
       "\n",
       "   tuesday_yn  wednesday_yn  welfare_assistance  within_week_appt_yn  \\\n",
       "0           0             0                   0                    0   \n",
       "\n",
       "   young_adult_yn  \n",
       "0               0  \n",
       "\n",
       "[1 rows x 25 columns]"
      ]
     },
     "execution_count": 21,
     "metadata": {},
     "output_type": "execute_result"
    }
   ],
   "source": [
    "pd.DataFrame([test_case])"
   ]
  },
  {
   "cell_type": "code",
   "execution_count": 4,
   "metadata": {},
   "outputs": [
    {
     "name": "stdout",
     "output_type": "stream",
     "text": [
      "{'repeat_patient_yn': 1, 'gender_yn': 0, 'same_day_appt_yn': 1, 'within_week_appt_yn': 0, 'advanced_appt_yn': 0, 'monday_yn': 1, 'tuesday_yn': 0, 'wednesday_yn': 0, 'thursday_yn': 0, 'friday_yn': 0, 'saturday_yn': 0, 'neighborhood_income_lower_yn': 1, 'neighborhood_income_middle_yn': 0, 'neigborhood_income_higher_yn': 0, 'day_after_holiday_yn': 0, 'child_yn': 0, 'young_adult_yn': 0, 'adult_yn': 0, 'senior_yn': 1, 'welfare_assistance': 0, 'hypertension': 0, 'diabetes': 0, 'alcoholism': 0, 'handicap_yn': 0, 'sms_received': 0}\n"
     ]
    }
   ],
   "source": [
    "\n",
    "test_array = np.array(test_case)\n",
    "print(test_array)"
   ]
  },
  {
   "cell_type": "code",
   "execution_count": 15,
   "metadata": {},
   "outputs": [],
   "source": [
    "array = np.array(list(test_case.values()))\n",
    "\n"
   ]
  },
  {
   "cell_type": "code",
   "execution_count": 24,
   "metadata": {},
   "outputs": [
    {
     "data": {
      "text/plain": [
       "array([0.69503499, 0.30496501])"
      ]
     },
     "execution_count": 24,
     "metadata": {},
     "output_type": "execute_result"
    }
   ],
   "source": [
    "value = model.predict_proba(pd.DataFrame([test_case]))\n",
    "value[0]"
   ]
  },
  {
   "cell_type": "code",
   "execution_count": null,
   "metadata": {},
   "outputs": [],
   "source": []
  }
 ],
 "metadata": {
  "kernelspec": {
   "display_name": "Python 3",
   "language": "python",
   "name": "python3"
  },
  "language_info": {
   "codemirror_mode": {
    "name": "ipython",
    "version": 3
   },
   "file_extension": ".py",
   "mimetype": "text/x-python",
   "name": "python",
   "nbconvert_exporter": "python",
   "pygments_lexer": "ipython3",
   "version": "3.7.3"
  }
 },
 "nbformat": 4,
 "nbformat_minor": 2
}
