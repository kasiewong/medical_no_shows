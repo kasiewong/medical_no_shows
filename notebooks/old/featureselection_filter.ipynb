{
 "cells": [
  {
   "cell_type": "markdown",
   "metadata": {},
   "source": [
    "# Feature Selection Using Pearson Correlation and Filtering Method"
   ]
  },
  {
   "cell_type": "markdown",
   "metadata": {},
   "source": [
    "### Import Dependencies"
   ]
  },
  {
   "cell_type": "code",
   "execution_count": 1,
   "metadata": {},
   "outputs": [],
   "source": [
    "import numpy as np\n",
    "import pandas as pd\n",
    "import seaborn as sns\n",
    "import matplotlib.pyplot as plt\n",
    "from sklearn.preprocessing import LabelEncoder, OneHotEncoder\n",
    "import warnings\n",
    "warnings.filterwarnings(\"ignore\")\n",
    "from sklearn.model_selection import train_test_split\n",
    "from sklearn.svm import SVC\n",
    "from sklearn.linear_model import LinearRegression\n",
    "from sklearn.metrics import confusion_matrix\n",
    "import statsmodels.api as sm"
   ]
  },
  {
   "cell_type": "markdown",
   "metadata": {},
   "source": [
    "### Load Dataset for Modelling"
   ]
  },
  {
   "cell_type": "code",
   "execution_count": 2,
   "metadata": {},
   "outputs": [
    {
     "name": "stdout",
     "output_type": "stream",
     "text": [
      "Shape of the data is: (110521, 17)\n"
     ]
    },
    {
     "data": {
      "text/html": [
       "<div>\n",
       "<style scoped>\n",
       "    .dataframe tbody tr th:only-of-type {\n",
       "        vertical-align: middle;\n",
       "    }\n",
       "\n",
       "    .dataframe tbody tr th {\n",
       "        vertical-align: top;\n",
       "    }\n",
       "\n",
       "    .dataframe thead th {\n",
       "        text-align: right;\n",
       "    }\n",
       "</style>\n",
       "<table border=\"1\" class=\"dataframe\">\n",
       "  <thead>\n",
       "    <tr style=\"text-align: right;\">\n",
       "      <th></th>\n",
       "      <th>patient_id</th>\n",
       "      <th>appointment_id</th>\n",
       "      <th>gender_yn</th>\n",
       "      <th>age</th>\n",
       "      <th>neighborhood</th>\n",
       "      <th>welfare_assistance</th>\n",
       "      <th>hypertension</th>\n",
       "      <th>diabetes</th>\n",
       "      <th>alcoholism</th>\n",
       "      <th>handicap_yn</th>\n",
       "      <th>sms_received</th>\n",
       "      <th>dayofweek</th>\n",
       "      <th>time_between_sch_appt</th>\n",
       "      <th>day_after_holiday_yn</th>\n",
       "      <th>repeat_patient_yn</th>\n",
       "      <th>neighborhood_median_income</th>\n",
       "      <th>no_show_yn</th>\n",
       "    </tr>\n",
       "  </thead>\n",
       "  <tbody>\n",
       "    <tr>\n",
       "      <th>0</th>\n",
       "      <td>8.320000e+14</td>\n",
       "      <td>5030230</td>\n",
       "      <td>F</td>\n",
       "      <td>51</td>\n",
       "      <td>RESISTÊNCIA</td>\n",
       "      <td>0</td>\n",
       "      <td>0</td>\n",
       "      <td>0</td>\n",
       "      <td>0</td>\n",
       "      <td>0</td>\n",
       "      <td>1</td>\n",
       "      <td>3</td>\n",
       "      <td>176</td>\n",
       "      <td>0</td>\n",
       "      <td>1</td>\n",
       "      <td>510</td>\n",
       "      <td>0</td>\n",
       "    </tr>\n",
       "    <tr>\n",
       "      <th>1</th>\n",
       "      <td>9.160000e+13</td>\n",
       "      <td>5122866</td>\n",
       "      <td>M</td>\n",
       "      <td>34</td>\n",
       "      <td>VILA RUBIM</td>\n",
       "      <td>0</td>\n",
       "      <td>1</td>\n",
       "      <td>0</td>\n",
       "      <td>0</td>\n",
       "      <td>0</td>\n",
       "      <td>1</td>\n",
       "      <td>1</td>\n",
       "      <td>151</td>\n",
       "      <td>1</td>\n",
       "      <td>1</td>\n",
       "      <td>510</td>\n",
       "      <td>1</td>\n",
       "    </tr>\n",
       "    <tr>\n",
       "      <th>2</th>\n",
       "      <td>1.220000e+12</td>\n",
       "      <td>5134197</td>\n",
       "      <td>F</td>\n",
       "      <td>27</td>\n",
       "      <td>SÃO CRISTÓVÃO</td>\n",
       "      <td>1</td>\n",
       "      <td>0</td>\n",
       "      <td>0</td>\n",
       "      <td>0</td>\n",
       "      <td>0</td>\n",
       "      <td>1</td>\n",
       "      <td>5</td>\n",
       "      <td>179</td>\n",
       "      <td>0</td>\n",
       "      <td>0</td>\n",
       "      <td>510</td>\n",
       "      <td>1</td>\n",
       "    </tr>\n",
       "    <tr>\n",
       "      <th>3</th>\n",
       "      <td>3.190000e+13</td>\n",
       "      <td>5134220</td>\n",
       "      <td>F</td>\n",
       "      <td>48</td>\n",
       "      <td>MARUÍPE</td>\n",
       "      <td>0</td>\n",
       "      <td>1</td>\n",
       "      <td>1</td>\n",
       "      <td>0</td>\n",
       "      <td>0</td>\n",
       "      <td>1</td>\n",
       "      <td>5</td>\n",
       "      <td>179</td>\n",
       "      <td>0</td>\n",
       "      <td>0</td>\n",
       "      <td>800</td>\n",
       "      <td>0</td>\n",
       "    </tr>\n",
       "    <tr>\n",
       "      <th>4</th>\n",
       "      <td>9.580000e+12</td>\n",
       "      <td>5134223</td>\n",
       "      <td>F</td>\n",
       "      <td>80</td>\n",
       "      <td>SÃO CRISTÓVÃO</td>\n",
       "      <td>0</td>\n",
       "      <td>1</td>\n",
       "      <td>1</td>\n",
       "      <td>0</td>\n",
       "      <td>0</td>\n",
       "      <td>1</td>\n",
       "      <td>5</td>\n",
       "      <td>179</td>\n",
       "      <td>0</td>\n",
       "      <td>0</td>\n",
       "      <td>510</td>\n",
       "      <td>0</td>\n",
       "    </tr>\n",
       "  </tbody>\n",
       "</table>\n",
       "</div>"
      ],
      "text/plain": [
       "     patient_id  appointment_id gender_yn  age   neighborhood  \\\n",
       "0  8.320000e+14         5030230         F   51    RESISTÊNCIA   \n",
       "1  9.160000e+13         5122866         M   34     VILA RUBIM   \n",
       "2  1.220000e+12         5134197         F   27  SÃO CRISTÓVÃO   \n",
       "3  3.190000e+13         5134220         F   48        MARUÍPE   \n",
       "4  9.580000e+12         5134223         F   80  SÃO CRISTÓVÃO   \n",
       "\n",
       "   welfare_assistance  hypertension  diabetes  alcoholism  handicap_yn  \\\n",
       "0                   0             0         0           0            0   \n",
       "1                   0             1         0           0            0   \n",
       "2                   1             0         0           0            0   \n",
       "3                   0             1         1           0            0   \n",
       "4                   0             1         1           0            0   \n",
       "\n",
       "   sms_received  dayofweek  time_between_sch_appt  day_after_holiday_yn  \\\n",
       "0             1          3                    176                     0   \n",
       "1             1          1                    151                     1   \n",
       "2             1          5                    179                     0   \n",
       "3             1          5                    179                     0   \n",
       "4             1          5                    179                     0   \n",
       "\n",
       "   repeat_patient_yn  neighborhood_median_income  no_show_yn  \n",
       "0                  1                         510           0  \n",
       "1                  1                         510           1  \n",
       "2                  0                         510           1  \n",
       "3                  0                         800           0  \n",
       "4                  0                         510           0  "
      ]
     },
     "execution_count": 2,
     "metadata": {},
     "output_type": "execute_result"
    }
   ],
   "source": [
    "data = pd.read_csv('../data/cleanData/appointments2.csv')\n",
    "print(f\"Shape of the data is: {data.shape}\")\n",
    "data.head()"
   ]
  },
  {
   "cell_type": "markdown",
   "metadata": {},
   "source": [
    "### Drop Irrelevant Columns"
   ]
  },
  {
   "cell_type": "code",
   "execution_count": 3,
   "metadata": {},
   "outputs": [
    {
     "name": "stdout",
     "output_type": "stream",
     "text": [
      "Shape of the data is: (110521, 15)\n"
     ]
    }
   ],
   "source": [
    "data = data.drop(['appointment_id', 'patient_id'], axis=1)\n",
    "\n",
    "print(f\"Shape of the data is: {data.shape}\")"
   ]
  },
  {
   "cell_type": "code",
   "execution_count": 4,
   "metadata": {},
   "outputs": [],
   "source": [
    "# label_encoder = LabelEncoder()\n",
    "# data.iloc[:,0] = label_encoder.fit_transform(data.iloc[:,0]).astype('float64')\n"
   ]
  },
  {
   "cell_type": "markdown",
   "metadata": {},
   "source": [
    "### Generate Correlation Matrix"
   ]
  },
  {
   "cell_type": "code",
   "execution_count": 5,
   "metadata": {},
   "outputs": [
    {
     "data": {
      "image/png": "[encoded data removed]",
      "text/plain": [
       "<Figure size 864x720 with 2 Axes>"
      ]
     },
     "metadata": {
      "needs_background": "light"
     },
     "output_type": "display_data"
    }
   ],
   "source": [
    "#Using Pearson Correlation\n",
    "plt.figure(figsize=(12,10))\n",
    "corr = data.corr()\n",
    "sns.heatmap(corr, xticklabels=corr.columns, yticklabels=corr.columns, annot=True, cmap=plt.cm.Reds)\n",
    "\n",
    "plt.savefig('..\\images\\correlation_matrix.png')\n"
   ]
  },
  {
   "cell_type": "code",
   "execution_count": 6,
   "metadata": {
    "scrolled": true
   },
   "outputs": [
    {
     "data": {
      "text/html": [
       "<div>\n",
       "<style scoped>\n",
       "    .dataframe tbody tr th:only-of-type {\n",
       "        vertical-align: middle;\n",
       "    }\n",
       "\n",
       "    .dataframe tbody tr th {\n",
       "        vertical-align: top;\n",
       "    }\n",
       "\n",
       "    .dataframe thead th {\n",
       "        text-align: right;\n",
       "    }\n",
       "</style>\n",
       "<table border=\"1\" class=\"dataframe\">\n",
       "  <thead>\n",
       "    <tr style=\"text-align: right;\">\n",
       "      <th></th>\n",
       "      <th>age</th>\n",
       "      <th>welfare_assistance</th>\n",
       "      <th>hypertension</th>\n",
       "      <th>diabetes</th>\n",
       "      <th>alcoholism</th>\n",
       "      <th>handicap_yn</th>\n",
       "      <th>sms_received</th>\n",
       "      <th>dayofweek</th>\n",
       "      <th>time_between_sch_appt</th>\n",
       "      <th>day_after_holiday_yn</th>\n",
       "      <th>repeat_patient_yn</th>\n",
       "      <th>neighborhood_median_income</th>\n",
       "      <th>no_show_yn</th>\n",
       "    </tr>\n",
       "  </thead>\n",
       "  <tbody>\n",
       "    <tr>\n",
       "      <th>age</th>\n",
       "      <td>1.000000</td>\n",
       "      <td>-0.092469</td>\n",
       "      <td>0.504599</td>\n",
       "      <td>0.292398</td>\n",
       "      <td>0.095811</td>\n",
       "      <td>0.083827</td>\n",
       "      <td>0.012629</td>\n",
       "      <td>0.003043</td>\n",
       "      <td>0.034813</td>\n",
       "      <td>-0.002317</td>\n",
       "      <td>0.009520</td>\n",
       "      <td>0.147306</td>\n",
       "      <td>-0.060320</td>\n",
       "    </tr>\n",
       "    <tr>\n",
       "      <th>welfare_assistance</th>\n",
       "      <td>-0.092469</td>\n",
       "      <td>1.000000</td>\n",
       "      <td>-0.019738</td>\n",
       "      <td>-0.024899</td>\n",
       "      <td>0.035019</td>\n",
       "      <td>-0.009068</td>\n",
       "      <td>0.001182</td>\n",
       "      <td>-0.000682</td>\n",
       "      <td>-0.030435</td>\n",
       "      <td>-0.002187</td>\n",
       "      <td>0.026790</td>\n",
       "      <td>-0.127161</td>\n",
       "      <td>0.029166</td>\n",
       "    </tr>\n",
       "    <tr>\n",
       "      <th>hypertension</th>\n",
       "      <td>0.504599</td>\n",
       "      <td>-0.019738</td>\n",
       "      <td>1.000000</td>\n",
       "      <td>0.433082</td>\n",
       "      <td>0.087967</td>\n",
       "      <td>0.084949</td>\n",
       "      <td>-0.006285</td>\n",
       "      <td>0.003442</td>\n",
       "      <td>-0.017236</td>\n",
       "      <td>0.005108</td>\n",
       "      <td>0.000142</td>\n",
       "      <td>-0.059062</td>\n",
       "      <td>-0.035662</td>\n",
       "    </tr>\n",
       "    <tr>\n",
       "      <th>diabetes</th>\n",
       "      <td>0.292398</td>\n",
       "      <td>-0.024899</td>\n",
       "      <td>0.433082</td>\n",
       "      <td>1.000000</td>\n",
       "      <td>0.018471</td>\n",
       "      <td>0.059204</td>\n",
       "      <td>-0.014561</td>\n",
       "      <td>0.006607</td>\n",
       "      <td>-0.027200</td>\n",
       "      <td>0.001348</td>\n",
       "      <td>0.006882</td>\n",
       "      <td>-0.029168</td>\n",
       "      <td>-0.015158</td>\n",
       "    </tr>\n",
       "    <tr>\n",
       "      <th>alcoholism</th>\n",
       "      <td>0.095811</td>\n",
       "      <td>0.035019</td>\n",
       "      <td>0.087967</td>\n",
       "      <td>0.018471</td>\n",
       "      <td>1.000000</td>\n",
       "      <td>0.003715</td>\n",
       "      <td>-0.026154</td>\n",
       "      <td>0.002696</td>\n",
       "      <td>-0.038527</td>\n",
       "      <td>0.001612</td>\n",
       "      <td>0.034060</td>\n",
       "      <td>-0.071348</td>\n",
       "      <td>-0.000181</td>\n",
       "    </tr>\n",
       "    <tr>\n",
       "      <th>handicap_yn</th>\n",
       "      <td>0.083827</td>\n",
       "      <td>-0.009068</td>\n",
       "      <td>0.084949</td>\n",
       "      <td>0.059204</td>\n",
       "      <td>0.003715</td>\n",
       "      <td>1.000000</td>\n",
       "      <td>-0.025148</td>\n",
       "      <td>0.004697</td>\n",
       "      <td>-0.020885</td>\n",
       "      <td>0.004067</td>\n",
       "      <td>0.015044</td>\n",
       "      <td>-0.021591</td>\n",
       "      <td>-0.007528</td>\n",
       "    </tr>\n",
       "    <tr>\n",
       "      <th>sms_received</th>\n",
       "      <td>0.012629</td>\n",
       "      <td>0.001182</td>\n",
       "      <td>-0.006285</td>\n",
       "      <td>-0.014561</td>\n",
       "      <td>-0.026154</td>\n",
       "      <td>-0.025148</td>\n",
       "      <td>1.000000</td>\n",
       "      <td>-0.089880</td>\n",
       "      <td>0.398128</td>\n",
       "      <td>0.087368</td>\n",
       "      <td>-0.021882</td>\n",
       "      <td>0.031858</td>\n",
       "      <td>0.126502</td>\n",
       "    </tr>\n",
       "    <tr>\n",
       "      <th>dayofweek</th>\n",
       "      <td>0.003043</td>\n",
       "      <td>-0.000682</td>\n",
       "      <td>0.003442</td>\n",
       "      <td>0.006607</td>\n",
       "      <td>0.002696</td>\n",
       "      <td>0.004697</td>\n",
       "      <td>-0.089880</td>\n",
       "      <td>1.000000</td>\n",
       "      <td>-0.011341</td>\n",
       "      <td>-0.275074</td>\n",
       "      <td>-0.000250</td>\n",
       "      <td>-0.008674</td>\n",
       "      <td>0.001189</td>\n",
       "    </tr>\n",
       "    <tr>\n",
       "      <th>time_between_sch_appt</th>\n",
       "      <td>0.034813</td>\n",
       "      <td>-0.030435</td>\n",
       "      <td>-0.017236</td>\n",
       "      <td>-0.027200</td>\n",
       "      <td>-0.038527</td>\n",
       "      <td>-0.020885</td>\n",
       "      <td>0.398128</td>\n",
       "      <td>-0.011341</td>\n",
       "      <td>1.000000</td>\n",
       "      <td>-0.007752</td>\n",
       "      <td>-0.084456</td>\n",
       "      <td>0.106876</td>\n",
       "      <td>0.186320</td>\n",
       "    </tr>\n",
       "    <tr>\n",
       "      <th>day_after_holiday_yn</th>\n",
       "      <td>-0.002317</td>\n",
       "      <td>-0.002187</td>\n",
       "      <td>0.005108</td>\n",
       "      <td>0.001348</td>\n",
       "      <td>0.001612</td>\n",
       "      <td>0.004067</td>\n",
       "      <td>0.087368</td>\n",
       "      <td>-0.275074</td>\n",
       "      <td>-0.007752</td>\n",
       "      <td>1.000000</td>\n",
       "      <td>0.003755</td>\n",
       "      <td>0.001748</td>\n",
       "      <td>-0.002602</td>\n",
       "    </tr>\n",
       "    <tr>\n",
       "      <th>repeat_patient_yn</th>\n",
       "      <td>0.009520</td>\n",
       "      <td>0.026790</td>\n",
       "      <td>0.000142</td>\n",
       "      <td>0.006882</td>\n",
       "      <td>0.034060</td>\n",
       "      <td>0.015044</td>\n",
       "      <td>-0.021882</td>\n",
       "      <td>-0.000250</td>\n",
       "      <td>-0.084456</td>\n",
       "      <td>0.003755</td>\n",
       "      <td>1.000000</td>\n",
       "      <td>-0.001040</td>\n",
       "      <td>0.025495</td>\n",
       "    </tr>\n",
       "    <tr>\n",
       "      <th>neighborhood_median_income</th>\n",
       "      <td>0.147306</td>\n",
       "      <td>-0.127161</td>\n",
       "      <td>-0.059062</td>\n",
       "      <td>-0.029168</td>\n",
       "      <td>-0.071348</td>\n",
       "      <td>-0.021591</td>\n",
       "      <td>0.031858</td>\n",
       "      <td>-0.008674</td>\n",
       "      <td>0.106876</td>\n",
       "      <td>0.001748</td>\n",
       "      <td>-0.001040</td>\n",
       "      <td>1.000000</td>\n",
       "      <td>-0.016056</td>\n",
       "    </tr>\n",
       "    <tr>\n",
       "      <th>no_show_yn</th>\n",
       "      <td>-0.060320</td>\n",
       "      <td>0.029166</td>\n",
       "      <td>-0.035662</td>\n",
       "      <td>-0.015158</td>\n",
       "      <td>-0.000181</td>\n",
       "      <td>-0.007528</td>\n",
       "      <td>0.126502</td>\n",
       "      <td>0.001189</td>\n",
       "      <td>0.186320</td>\n",
       "      <td>-0.002602</td>\n",
       "      <td>0.025495</td>\n",
       "      <td>-0.016056</td>\n",
       "      <td>1.000000</td>\n",
       "    </tr>\n",
       "  </tbody>\n",
       "</table>\n",
       "</div>"
      ],
      "text/plain": [
       "                                 age  welfare_assistance  hypertension  \\\n",
       "age                         1.000000           -0.092469      0.504599   \n",
       "welfare_assistance         -0.092469            1.000000     -0.019738   \n",
       "hypertension                0.504599           -0.019738      1.000000   \n",
       "diabetes                    0.292398           -0.024899      0.433082   \n",
       "alcoholism                  0.095811            0.035019      0.087967   \n",
       "handicap_yn                 0.083827           -0.009068      0.084949   \n",
       "sms_received                0.012629            0.001182     -0.006285   \n",
       "dayofweek                   0.003043           -0.000682      0.003442   \n",
       "time_between_sch_appt       0.034813           -0.030435     -0.017236   \n",
       "day_after_holiday_yn       -0.002317           -0.002187      0.005108   \n",
       "repeat_patient_yn           0.009520            0.026790      0.000142   \n",
       "neighborhood_median_income  0.147306           -0.127161     -0.059062   \n",
       "no_show_yn                 -0.060320            0.029166     -0.035662   \n",
       "\n",
       "                            diabetes  alcoholism  handicap_yn  sms_received  \\\n",
       "age                         0.292398    0.095811     0.083827      0.012629   \n",
       "welfare_assistance         -0.024899    0.035019    -0.009068      0.001182   \n",
       "hypertension                0.433082    0.087967     0.084949     -0.006285   \n",
       "diabetes                    1.000000    0.018471     0.059204     -0.014561   \n",
       "alcoholism                  0.018471    1.000000     0.003715     -0.026154   \n",
       "handicap_yn                 0.059204    0.003715     1.000000     -0.025148   \n",
       "sms_received               -0.014561   -0.026154    -0.025148      1.000000   \n",
       "dayofweek                   0.006607    0.002696     0.004697     -0.089880   \n",
       "time_between_sch_appt      -0.027200   -0.038527    -0.020885      0.398128   \n",
       "day_after_holiday_yn        0.001348    0.001612     0.004067      0.087368   \n",
       "repeat_patient_yn           0.006882    0.034060     0.015044     -0.021882   \n",
       "neighborhood_median_income -0.029168   -0.071348    -0.021591      0.031858   \n",
       "no_show_yn                 -0.015158   -0.000181    -0.007528      0.126502   \n",
       "\n",
       "                            dayofweek  time_between_sch_appt  \\\n",
       "age                          0.003043               0.034813   \n",
       "welfare_assistance          -0.000682              -0.030435   \n",
       "hypertension                 0.003442              -0.017236   \n",
       "diabetes                     0.006607              -0.027200   \n",
       "alcoholism                   0.002696              -0.038527   \n",
       "handicap_yn                  0.004697              -0.020885   \n",
       "sms_received                -0.089880               0.398128   \n",
       "dayofweek                    1.000000              -0.011341   \n",
       "time_between_sch_appt       -0.011341               1.000000   \n",
       "day_after_holiday_yn        -0.275074              -0.007752   \n",
       "repeat_patient_yn           -0.000250              -0.084456   \n",
       "neighborhood_median_income  -0.008674               0.106876   \n",
       "no_show_yn                   0.001189               0.186320   \n",
       "\n",
       "                            day_after_holiday_yn  repeat_patient_yn  \\\n",
       "age                                    -0.002317           0.009520   \n",
       "welfare_assistance                     -0.002187           0.026790   \n",
       "hypertension                            0.005108           0.000142   \n",
       "diabetes                                0.001348           0.006882   \n",
       "alcoholism                              0.001612           0.034060   \n",
       "handicap_yn                             0.004067           0.015044   \n",
       "sms_received                            0.087368          -0.021882   \n",
       "dayofweek                              -0.275074          -0.000250   \n",
       "time_between_sch_appt                  -0.007752          -0.084456   \n",
       "day_after_holiday_yn                    1.000000           0.003755   \n",
       "repeat_patient_yn                       0.003755           1.000000   \n",
       "neighborhood_median_income              0.001748          -0.001040   \n",
       "no_show_yn                             -0.002602           0.025495   \n",
       "\n",
       "                            neighborhood_median_income  no_show_yn  \n",
       "age                                           0.147306   -0.060320  \n",
       "welfare_assistance                           -0.127161    0.029166  \n",
       "hypertension                                 -0.059062   -0.035662  \n",
       "diabetes                                     -0.029168   -0.015158  \n",
       "alcoholism                                   -0.071348   -0.000181  \n",
       "handicap_yn                                  -0.021591   -0.007528  \n",
       "sms_received                                  0.031858    0.126502  \n",
       "dayofweek                                    -0.008674    0.001189  \n",
       "time_between_sch_appt                         0.106876    0.186320  \n",
       "day_after_holiday_yn                          0.001748   -0.002602  \n",
       "repeat_patient_yn                            -0.001040    0.025495  \n",
       "neighborhood_median_income                    1.000000   -0.016056  \n",
       "no_show_yn                                   -0.016056    1.000000  "
      ]
     },
     "execution_count": 6,
     "metadata": {},
     "output_type": "execute_result"
    }
   ],
   "source": [
    "#check out correlation data\n",
    "corr"
   ]
  },
  {
   "cell_type": "code",
   "execution_count": 7,
   "metadata": {},
   "outputs": [],
   "source": [
    "corr_matrix_df = pd.DataFrame(corr)"
   ]
  },
  {
   "cell_type": "code",
   "execution_count": 8,
   "metadata": {},
   "outputs": [],
   "source": [
    "#Export to csv \n",
    "corr_matrix_df.to_csv('../data/cleanData/modelResults/corr_matrix_df.csv', index = False, header=True)"
   ]
  },
  {
   "cell_type": "code",
   "execution_count": 10,
   "metadata": {},
   "outputs": [
    {
     "data": {
      "text/plain": [
       "no_show_yn    1.0\n",
       "Name: no_show_yn, dtype: float64"
      ]
     },
     "execution_count": 10,
     "metadata": {},
     "output_type": "execute_result"
    }
   ],
   "source": [
    "# check out the more highly correlated features\n",
    "#Correlation with output variable\n",
    "corr_target = abs(corr['no_show_yn'])\n",
    "\n",
    "#Selecting highly correlated features\n",
    "relevant_features = corr_target[corr_target>0.5]\n",
    "relevant_features"
   ]
  },
  {
   "cell_type": "code",
   "execution_count": null,
   "metadata": {},
   "outputs": [],
   "source": []
  },
  {
   "cell_type": "code",
   "execution_count": null,
   "metadata": {},
   "outputs": [],
   "source": []
  },
  {
   "cell_type": "code",
   "execution_count": null,
   "metadata": {},
   "outputs": [],
   "source": []
  },
  {
   "cell_type": "markdown",
   "metadata": {},
   "source": [
    "### Remove Columns with Correlation Extremes"
   ]
  },
  {
   "cell_type": "markdown",
   "metadata": {},
   "source": [
    "From looking through our Correlation Matrix data, it appears that the the most extreme correlation values are less than 0.8. Let's remove those columns."
   ]
  },
  {
   "cell_type": "code",
   "execution_count": 9,
   "metadata": {},
   "outputs": [],
   "source": [
    "columns = np.full((corr.shape[0],), True, dtype=bool)\n",
    "for i in range(corr.shape[0]):\n",
    "    for j in range(i+1, corr.shape[0]):\n",
    "        if corr.iloc[i,j] <= -0.8:\n",
    "            if columns[j]:\n",
    "                columns[j] = False"
   ]
  },
  {
   "cell_type": "markdown",
   "metadata": {},
   "source": [
    "### View Columns Selected"
   ]
  },
  {
   "cell_type": "code",
   "execution_count": 10,
   "metadata": {},
   "outputs": [
    {
     "data": {
      "text/plain": [
       "(25,)"
      ]
     },
     "execution_count": 10,
     "metadata": {},
     "output_type": "execute_result"
    }
   ],
   "source": [
    "selected_columns = clean_data.columns[columns]\n",
    "selected_columns.shape"
   ]
  },
  {
   "cell_type": "code",
   "execution_count": 11,
   "metadata": {},
   "outputs": [
    {
     "name": "stdout",
     "output_type": "stream",
     "text": [
      "<class 'pandas.core.frame.DataFrame'>\n",
      "RangeIndex: 110521 entries, 0 to 110520\n",
      "Data columns (total 25 columns):\n",
      "repeat_patient_yn                110521 non-null float64\n",
      "male_yn                          110521 non-null int64\n",
      "same_day_appt_yn                 110521 non-null int64\n",
      "within_week_appt_yn              110521 non-null int64\n",
      "advanced_appt_yn                 110521 non-null int64\n",
      "monday_yn                        110521 non-null int64\n",
      "tuesday_yn                       110521 non-null int64\n",
      "wednesday_yn                     110521 non-null int64\n",
      "thursday_yn                      110521 non-null int64\n",
      "friday_yn                        110521 non-null int64\n",
      "saturday_yn                      110521 non-null int64\n",
      "neighborhood_income_lower_yn     110521 non-null int64\n",
      "neighborhood_income_middle_yn    110521 non-null int64\n",
      "day_after_holiday_yn             110521 non-null int64\n",
      "child_yn                         110521 non-null int64\n",
      "young_adult_yn                   110521 non-null int64\n",
      "adult_yn                         110521 non-null int64\n",
      "senior_yn                        110521 non-null int64\n",
      "welfare_assistance               110521 non-null int64\n",
      "hypertension                     110521 non-null int64\n",
      "diabetes                         110521 non-null int64\n",
      "alcoholism                       110521 non-null int64\n",
      "handicap_yn                      110521 non-null int64\n",
      "sms_received                     110521 non-null int64\n",
      "no_show_yn                       110521 non-null int64\n",
      "dtypes: float64(1), int64(24)\n",
      "memory usage: 21.1 MB\n"
     ]
    }
   ],
   "source": [
    "clean_data = clean_data[selected_columns]\n",
    "clean_data.info()"
   ]
  },
  {
   "cell_type": "markdown",
   "metadata": {},
   "source": [
    "It appears that the female and higher income neighborhood data was removed. We now have 25 columns of data."
   ]
  },
  {
   "cell_type": "code",
   "execution_count": 12,
   "metadata": {},
   "outputs": [
    {
     "data": {
      "text/plain": [
       "array(['repeat_patient_yn'], dtype=object)"
      ]
     },
     "execution_count": 12,
     "metadata": {},
     "output_type": "execute_result"
    }
   ],
   "source": [
    "# Remove target column\n",
    "selected_columns = selected_columns[:1].values\n",
    "selected_columns"
   ]
  },
  {
   "cell_type": "markdown",
   "metadata": {},
   "source": [
    "### Select Columns based on p-value"
   ]
  },
  {
   "cell_type": "code",
   "execution_count": 13,
   "metadata": {},
   "outputs": [],
   "source": [
    "def backwardElimination(x, Y, sl, columns):\n",
    "    numVars = len(x[0])\n",
    "    for i in range(0, numVars):\n",
    "        regressor_OLS = sm.OLS(Y, x).fit()\n",
    "        maxVar = max(regressor_OLS.pvalues).astype(float)\n",
    "        if maxVar > sl:\n",
    "            for j in range(0, numVars - i):\n",
    "                if (regressor_OLS.pvalues[j].astype(float) == maxVar):\n",
    "                    x = np.delete(x, j, 1)\n",
    "                    columns = np.delete(columns, j)\n",
    "                    \n",
    "    regressor_OLS.summary()\n",
    "    return x, columns"
   ]
  },
  {
   "cell_type": "code",
   "execution_count": 18,
   "metadata": {},
   "outputs": [],
   "source": [
    "SL = 0.05\n",
    "data_modeled, selected_columns = backwardElimination(clean_data.iloc[:,:1].values, clean_data.iloc[:,0].values, SL, selected_columns)"
   ]
  },
  {
   "cell_type": "code",
   "execution_count": 19,
   "metadata": {},
   "outputs": [],
   "source": [
    "#move results to dataframe\n",
    "result = pd.DataFrame()\n",
    "result['noshow'] = clean_data.iloc[:,0]"
   ]
  },
  {
   "cell_type": "code",
   "execution_count": 20,
   "metadata": {},
   "outputs": [
    {
     "data": {
      "text/html": [
       "<div>\n",
       "<style scoped>\n",
       "    .dataframe tbody tr th:only-of-type {\n",
       "        vertical-align: middle;\n",
       "    }\n",
       "\n",
       "    .dataframe tbody tr th {\n",
       "        vertical-align: top;\n",
       "    }\n",
       "\n",
       "    .dataframe thead th {\n",
       "        text-align: right;\n",
       "    }\n",
       "</style>\n",
       "<table border=\"1\" class=\"dataframe\">\n",
       "  <thead>\n",
       "    <tr style=\"text-align: right;\">\n",
       "      <th></th>\n",
       "      <th>repeat_patient_yn</th>\n",
       "    </tr>\n",
       "  </thead>\n",
       "  <tbody>\n",
       "    <tr>\n",
       "      <th>0</th>\n",
       "      <td>1.0</td>\n",
       "    </tr>\n",
       "    <tr>\n",
       "      <th>1</th>\n",
       "      <td>0.0</td>\n",
       "    </tr>\n",
       "    <tr>\n",
       "      <th>2</th>\n",
       "      <td>1.0</td>\n",
       "    </tr>\n",
       "    <tr>\n",
       "      <th>3</th>\n",
       "      <td>0.0</td>\n",
       "    </tr>\n",
       "    <tr>\n",
       "      <th>4</th>\n",
       "      <td>1.0</td>\n",
       "    </tr>\n",
       "  </tbody>\n",
       "</table>\n",
       "</div>"
      ],
      "text/plain": [
       "   repeat_patient_yn\n",
       "0                1.0\n",
       "1                0.0\n",
       "2                1.0\n",
       "3                0.0\n",
       "4                1.0"
      ]
     },
     "execution_count": 20,
     "metadata": {},
     "output_type": "execute_result"
    }
   ],
   "source": [
    "data = pd.DataFrame(data = data_modeled, columns = selected_columns)\n",
    "data.head()"
   ]
  },
  {
   "cell_type": "markdown",
   "metadata": {},
   "source": [
    "### Plot selected columns to see distributions"
   ]
  },
  {
   "cell_type": "code",
   "execution_count": 21,
   "metadata": {},
   "outputs": [
    {
     "data": {
      "image/png": "[encoded data removed]",
      "text/plain": [
       "<Figure size 1440x1800 with 1 Axes>"
      ]
     },
     "metadata": {
      "needs_background": "light"
     },
     "output_type": "display_data"
    }
   ],
   "source": [
    "fig = plt.figure(figsize = (20, 25))\n",
    "j = 0\n",
    "for i in data.columns:\n",
    "    plt.subplot(6, 4, j+1)\n",
    "    j += 1\n",
    "    sns.distplot(data[i][result['noshow']==0], color='g', label = 'show')\n",
    "    sns.distplot(data[i][result['noshow']==1], color='r', label = 'no show')\n",
    "    plt.legend(loc='best')\n",
    "fig.suptitle('Medical No-show Data Analysis')\n",
    "fig.tight_layout()\n",
    "fig.subplots_adjust(top=0.95)\n",
    "plt.show()\n"
   ]
  },
  {
   "cell_type": "markdown",
   "metadata": {},
   "source": [
    "### Build SVC Model "
   ]
  },
  {
   "cell_type": "code",
   "execution_count": 22,
   "metadata": {},
   "outputs": [],
   "source": [
    "x_train, x_test, y_train, y_test = train_test_split(clean_data.values, result.values, test_size = 0.2)"
   ]
  },
  {
   "cell_type": "code",
   "execution_count": 23,
   "metadata": {},
   "outputs": [
    {
     "data": {
      "text/plain": [
       "SVC(C=1.0, break_ties=False, cache_size=200, class_weight=None, coef0=0.0,\n",
       "    decision_function_shape='ovr', degree=3, gamma='scale', kernel='rbf',\n",
       "    max_iter=-1, probability=False, random_state=None, shrinking=True,\n",
       "    tol=0.001, verbose=False)"
      ]
     },
     "execution_count": 23,
     "metadata": {},
     "output_type": "execute_result"
    }
   ],
   "source": [
    "svc=SVC() # The default kernel used by SVC is the gaussian kernel\n",
    "svc.fit(x_train, y_train)"
   ]
  },
  {
   "cell_type": "code",
   "execution_count": 24,
   "metadata": {},
   "outputs": [],
   "source": [
    "prediction = svc.predict(x_test)"
   ]
  },
  {
   "cell_type": "code",
   "execution_count": 25,
   "metadata": {},
   "outputs": [
    {
     "name": "stdout",
     "output_type": "stream",
     "text": [
      "1.0\n"
     ]
    }
   ],
   "source": [
    "cm = confusion_matrix(y_test, prediction)\n",
    "sum = 0\n",
    "for i in range(cm.shape[0]):\n",
    "    sum += cm[i][i]\n",
    "    \n",
    "accuracy = sum/x_test.shape[0]\n",
    "print(accuracy)"
   ]
  },
  {
   "cell_type": "code",
   "execution_count": null,
   "metadata": {},
   "outputs": [],
   "source": []
  },
  {
   "cell_type": "code",
   "execution_count": null,
   "metadata": {},
   "outputs": [],
   "source": []
  },
  {
   "cell_type": "code",
   "execution_count": null,
   "metadata": {},
   "outputs": [],
   "source": []
  }
 ],
 "metadata": {
  "kernelspec": {
   "display_name": "Python 3",
   "language": "python",
   "name": "python3"
  },
  "language_info": {
   "codemirror_mode": {
    "name": "ipython",
    "version": 3
   },
   "file_extension": ".py",
   "mimetype": "text/x-python",
   "name": "python",
   "nbconvert_exporter": "python",
   "pygments_lexer": "ipython3",
   "version": "3.7.3"
  }
 },
 "nbformat": 4,
 "nbformat_minor": 2
}
